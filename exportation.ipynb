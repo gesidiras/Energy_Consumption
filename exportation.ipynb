{
 "cells": [
  {
   "cell_type": "code",
   "execution_count": 1,
   "metadata": {},
   "outputs": [],
   "source": [
    "import pyspark\n",
    "from pyspark.sql import SparkSession\n",
    "from pyspark.sql.functions import to_timestamp\n",
    "from pyspark.sql.functions import *"
   ]
  },
  {
   "cell_type": "code",
   "execution_count": 32,
   "metadata": {},
   "outputs": [
    {
     "name": "stdout",
     "output_type": "stream",
     "text": [
      "Collecting pyspark-dist-explore\n",
      "  Using cached pyspark_dist_explore-0.1.8-py3-none-any.whl (7.2 kB)\n",
      "Requirement already satisfied: scipy in /home/sidiras/PycharmProjects/NoSql_Data_Model/venv/lib/python3.8/site-packages (from pyspark-dist-explore) (1.8.0)\n",
      "Requirement already satisfied: pandas in /home/sidiras/PycharmProjects/NoSql_Data_Model/venv/lib/python3.8/site-packages (from pyspark-dist-explore) (1.3.0)\n",
      "Requirement already satisfied: matplotlib in /home/sidiras/PycharmProjects/NoSql_Data_Model/venv/lib/python3.8/site-packages (from pyspark-dist-explore) (3.5.1)\n",
      "Requirement already satisfied: numpy in /home/sidiras/PycharmProjects/NoSql_Data_Model/venv/lib/python3.8/site-packages (from pyspark-dist-explore) (1.21.0)\n",
      "Requirement already satisfied: pyparsing>=2.2.1 in /home/sidiras/PycharmProjects/NoSql_Data_Model/venv/lib/python3.8/site-packages (from matplotlib->pyspark-dist-explore) (2.4.7)\n",
      "Requirement already satisfied: pillow>=6.2.0 in /home/sidiras/PycharmProjects/NoSql_Data_Model/venv/lib/python3.8/site-packages (from matplotlib->pyspark-dist-explore) (9.1.0)\n",
      "Requirement already satisfied: python-dateutil>=2.7 in /home/sidiras/PycharmProjects/NoSql_Data_Model/venv/lib/python3.8/site-packages (from matplotlib->pyspark-dist-explore) (2.8.1)\n",
      "Requirement already satisfied: packaging>=20.0 in /home/sidiras/PycharmProjects/NoSql_Data_Model/venv/lib/python3.8/site-packages (from matplotlib->pyspark-dist-explore) (20.9)\n",
      "Requirement already satisfied: kiwisolver>=1.0.1 in /home/sidiras/PycharmProjects/NoSql_Data_Model/venv/lib/python3.8/site-packages (from matplotlib->pyspark-dist-explore) (1.4.2)\n",
      "Requirement already satisfied: fonttools>=4.22.0 in /home/sidiras/PycharmProjects/NoSql_Data_Model/venv/lib/python3.8/site-packages (from matplotlib->pyspark-dist-explore) (4.31.2)\n",
      "Requirement already satisfied: cycler>=0.10 in /home/sidiras/PycharmProjects/NoSql_Data_Model/venv/lib/python3.8/site-packages (from matplotlib->pyspark-dist-explore) (0.11.0)\n",
      "Requirement already satisfied: pytz>=2017.3 in /home/sidiras/PycharmProjects/NoSql_Data_Model/venv/lib/python3.8/site-packages (from pandas->pyspark-dist-explore) (2021.1)\n",
      "Requirement already satisfied: six>=1.5 in /home/sidiras/PycharmProjects/NoSql_Data_Model/venv/lib/python3.8/site-packages (from python-dateutil>=2.7->matplotlib->pyspark-dist-explore) (1.16.0)\n",
      "Installing collected packages: pyspark-dist-explore\n",
      "Successfully installed pyspark-dist-explore-0.1.8\n"
     ]
    }
   ],
   "source": [
    "!pip install pyspark-dist-explore"
   ]
  },
  {
   "cell_type": "code",
   "execution_count": 2,
   "metadata": {},
   "outputs": [
    {
     "name": "stdout",
     "output_type": "stream",
     "text": [
      "root\n",
      " |-- LCLid: string (nullable = true)\n",
      " |-- stdorToU: string (nullable = true)\n",
      " |-- DateTime: string (nullable = true)\n",
      " |-- KWH/hh (per half hour) : string (nullable = true)\n",
      "\n"
     ]
    }
   ],
   "source": [
    "spark = SparkSession.builder.master(\"local[1]\") \\\n",
    "                    .appName('SparkByExamples.com') \\\n",
    "                    .getOrCreate()\n",
    "df = spark.read.option(\"header\",True).csv(\"data/CC_LCL-FullData.csv\")\n",
    "df.printSchema()"
   ]
  },
  {
   "cell_type": "code",
   "execution_count": null,
   "metadata": {},
   "outputs": [],
   "source": [
    "df.count()"
   ]
  },
  {
   "cell_type": "code",
   "execution_count": 8,
   "metadata": {},
   "outputs": [],
   "source": [
    "df = df.withColumn(\"DateTime\",df.DateTime.astype('Timestamp'))\n",
    "#https://sparkbyexamples.com/pyspark/pyspark-sql-date-and-timestamp-functions/\n",
    "df3=df.select(col(\"DateTime\"),\n",
    "             col(\"LCLid\").alias((\"id\")),\n",
    "            col(\"stdorToU\").alias(\"std\"),\n",
    "            col(\"KWH/hh (per half hour) \").alias(\"kwh\"),\n",
    "     year(col(\"DateTime\")).alias(\"year\"),\n",
    "     month(col(\"DateTime\")).alias(\"month\"),\n",
    "    dayofmonth(col(\"DateTime\")).alias(\"date\"),\n",
    "    hour(col(\"DateTime\")).alias(\"hour\"),\n",
    "    minute(col(\"DateTime\")).alias(\"min\"),\n",
    "  )pip install pyspark-dist-explore\n",
    "\n"
   ]
  },
  {
   "cell_type": "code",
   "execution_count": 29,
   "metadata": {},
   "outputs": [
    {
     "data": {
      "text/plain": [
       "167932474"
      ]
     },
     "execution_count": 29,
     "metadata": {},
     "output_type": "execute_result"
    }
   ],
   "source": [
    "#The dataset  consist from 165M++ rows\n",
    "df.count()"
   ]
  },
  {
   "cell_type": "code",
   "execution_count": 9,
   "metadata": {},
   "outputs": [],
   "source": [
    "import pandas as pd\n",
    "\n",
    "from datetime import datetime\n",
    "import calendar\n",
    "import warnings\n",
    "warnings.filterwarnings(\"ignore\")"
   ]
  },
  {
   "cell_type": "code",
   "execution_count": 10,
   "metadata": {},
   "outputs": [],
   "source": [
    "# Reading Weather data\n",
    "df_weather = pd.read_csv(\"data/add/weather_hourly_darksky.csv\")"
   ]
  },
  {
   "cell_type": "code",
   "execution_count": 11,
   "metadata": {},
   "outputs": [],
   "source": [
    "# Creating date, time related columns\n",
    "df_weather = df_weather[['temperature', 'time']]\n",
    "df_weather.columns = ['temperature', 'DateTime']\n",
    "df_weather['DateTime'] = pd.to_datetime(df_weather['DateTime'])\n",
    "df_weather['year'] = df_weather['DateTime'].dt.year\n",
    "df_weather['month'] = df_weather['DateTime'].dt.month\n",
    "df_weather['day'] = df_weather['DateTime'].dt.day\n",
    "df_weather['time'] = df_weather['DateTime'].dt.time\n"
   ]
  },
  {
   "cell_type": "code",
   "execution_count": 12,
   "metadata": {},
   "outputs": [],
   "source": [
    "#### Weather information for the year 2013\n",
    "df_weather_2013 = df_weather[df_weather.year==2013][['temperature', 'month']]\n",
    "df_weather_2013 = df_weather_2013.groupby(by=['month'])['temperature'].mean().to_frame()\n",
    "df_weather_2013.reset_index(level=0, inplace=True)\n",
    "df_weather_2013.month = df_weather_2013.month.apply(lambda x: calendar.month_abbr[x])\n"
   ]
  },
  {
   "cell_type": "code",
   "execution_count": 14,
   "metadata": {},
   "outputs": [],
   "source": [
    "#### Weather information for the year 2014\n",
    "df_weather_2014 = df_weather[df_weather.year==2014][['temperature', 'month']]\n",
    "df_weather_2014 = df_weather_2014.groupby(by=['month'])['temperature'].mean().to_frame()\n",
    "df_weather_2014.reset_index(level=0, inplace=True)\n",
    "df_weather_2014.month = df_weather_2014.month.apply(lambda x: calendar.month_abbr[x])\n"
   ]
  },
  {
   "cell_type": "code",
   "execution_count": 15,
   "metadata": {},
   "outputs": [],
   "source": [
    "# Reading Household info data\n",
    "df_household = pd.read_csv(\"data/add/informations_households.csv\", encoding=\"utf-8\")\n"
   ]
  },
  {
   "cell_type": "code",
   "execution_count": 21,
   "metadata": {},
   "outputs": [
    {
     "data": {
      "text/plain": [
       "24158"
      ]
     },
     "execution_count": 21,
     "metadata": {},
     "output_type": "execute_result"
    }
   ],
   "source": [
    "\n",
    "import numpy as np\n",
    "import matplotlib.pyplot as plt\n",
    "import seaborn as sns\n",
    "from datetime import datetime\n",
    "import calendar\n",
    "\n",
    "#filter the data for one househd\n",
    "df3.filter(df3.id=='MAC000002').count()\n"
   ]
  },
  {
   "cell_type": "code",
   "execution_count": 22,
   "metadata": {},
   "outputs": [],
   "source": [
    "\n",
    "#household convert spark  dataframe\n",
    "householdd=spark.createDataFrame(df_household)\n",
    "\n",
    "#Join two DataSet\n",
    "df4=df3.join(householdd, df3.id == householdd.LCLid, 'left')\n",
    "df5=df4.withColumn(\"kwh\", df4.kwh.cast('double'))\n",
    "\n",
    "\n",
    "#convert string energy cosumtion data to double\n",
    "df5=df4.withColumn(\"kwh\", df4.kwh.cast('double'))\n",
    "\n",
    "#filter thepip install pyspark-dist-explore data to perform to  a smaller sample all the\n",
    "dff=df3.filter(df3.id=='MAC000002')\n",
    "\n",
    "\n",
    "#innerjoin with household and energy\n",
    "#Apply filter to have better result\n",
    "df6=dff.join(householdd, dff.id == householdd.LCLid, 'left')\n",
    "#convert string to Chriss\n",
    "df7=df6.withColumn(\"kwh\", df6.kwh.cast('double'))"
   ]
  },
  {
   "cell_type": "code",
   "execution_count": 23,
   "metadata": {},
   "outputs": [
    {
     "name": "stdout",
     "output_type": "stream",
     "text": [
      "Before casting\n",
      "root\n",
      " |-- id: string (nullable = true)\n",
      " |-- std: string (nullable = true)\n",
      " |-- year: integer (nullable = true)\n",
      " |-- month: integer (nullable = true)\n",
      " |-- date: integer (nullable = true)\n",
      " |-- hour: integer (nullable = true)\n",
      " |-- sum(kwh): double (nullable = true)\n",
      "\n",
      "After casting\n",
      "root\n",
      " |-- id: string (nullable = true)\n",
      " |-- std: string (nullable = true)\n",
      " |-- year: integer (nullable = true)\n",
      " |-- month: integer (nullable = true)\n",
      " |-- date: integer (nullable = true)\n",
      " |-- hour: integer (nullable = true)\n",
      " |-- sum(kwh): double (nullable = true)\n",
      " |-- hours: integer (nullable = true)\n",
      "\n"
     ]
    }
   ],
   "source": [
    "\n",
    "df8=df7.groupby(\"id\",\"std\",\"year\",\"month\",\"date\",\"hour\").sum(\"kwh\")\n",
    "\n",
    "\n",
    "print(\"Before casting\")\n",
    "df8.printSchema()\n",
    "df8_hours=df8.withColumn(\"hours\",df8['hour'].cast('integer'))\n",
    "print(\"After casting\")\n",
    "df8_hours.printSchema()\n",
    "\n",
    "pivot_df = df8_hours.groupby(\"id\",\"year\",\"month\",\"date\").pivot(\"hours\").sum(\"sum(kwh)\")\n",
    "\n",
    "\n",
    "#apply for all data in the dataset the aggregation sums\n",
    "\n",
    "#first we aggregate in hours , in this data set we have every half hour so we sum every hour\n",
    "# In the Eveddent dataset we do not need to aggredate every hour\n",
    "df_all8=df5.groupby(\"id\",\"std\",\"year\",\"month\",\"date\",\"hour\").sum(\"kwh\")\n",
    "#make ne aggregation per data\n",
    "\n",
    "\n",
    "from pyspark.sql import functions as f\n",
    "\n",
    "#create agragate columns for one day avg/max.min/standard division and sum of energy \n",
    "df_all_statistics=df5.groupby(\"id\",\"std\",\"year\",\"month\",\"date\").agg(f.sum(\"kwh\"),f.avg(\"kwh\"),f.max(\"kwh\"),f.min(\"kwh\"),f.count(\"kwh\"),f.stddev_pop(\"kwh\"))\n"
   ]
  },
  {
   "cell_type": "code",
   "execution_count": 26,
   "metadata": {},
   "outputs": [
    {
     "data": {
      "text/plain": [
       "[Row(id='MAC000032', std='Std', year=2011, month=12, date=7, sum(kwh)=3.5269999999999997, avg(kwh)=0.15334782608695652, max(kwh)=0.692, min(kwh)=0.015, count(kwh)=23, stddev_pop(kwh)=0.20240609388825276),\n",
       " Row(id='MAC000032', std='Std', year=2011, month=12, date=8, sum(kwh)=17.6700001, avg(kwh)=0.3681250020833333, max(kwh)=2.5050001, min(kwh)=0.01, count(kwh)=48, stddev_pop(kwh)=0.5694364846124748),\n",
       " Row(id='MAC000032', std='Std', year=2011, month=12, date=9, sum(kwh)=18.41300040000001, avg(kwh)=0.38360417500000016, max(kwh)=2.5680001, min(kwh)=0.01, count(kwh)=48, stddev_pop(kwh)=0.6339574196381306),\n",
       " Row(id='MAC000032', std='Std', year=2011, month=12, date=10, sum(kwh)=21.75300010000001, avg(kwh)=0.4531875020833335, max(kwh)=2.586, min(kwh)=0.01, count(kwh)=48, stddev_pop(kwh)=0.6246162401870999),\n",
       " Row(id='MAC000032', std='Std', year=2011, month=12, date=11, sum(kwh)=19.146000000000004, avg(kwh)=0.3988750000000001, max(kwh)=2.648, min(kwh)=0.01, count(kwh)=48, stddev_pop(kwh)=0.6859822830863299)]"
      ]
     },
     "execution_count": 26,
     "metadata": {},
     "output_type": "execute_result"
    }
   ],
   "source": [
    "#print the df\n",
    "df_all_statistics.head(5)"
   ]
  },
  {
   "cell_type": "code",
   "execution_count": 27,
   "metadata": {},
   "outputs": [
    {
     "name": "stdout",
     "output_type": "stream",
     "text": [
      "Row(id='MAC000032', std='Std', year=2011, month=12, date=7, sum(kwh)=3.5269999999999997, avg(kwh)=0.15334782608695652, max(kwh)=0.692, min(kwh)=0.015, count(kwh)=23, stddev_pop(kwh)=0.20240609388825276)\n",
      "Row(id='MAC000032', std='Std', year=2011, month=12, date=8, sum(kwh)=17.6700001, avg(kwh)=0.3681250020833333, max(kwh)=2.5050001, min(kwh)=0.01, count(kwh)=48, stddev_pop(kwh)=0.5694364846124748)\n",
      "Row(id='MAC000032', std='Std', year=2011, month=12, date=9, sum(kwh)=18.41300040000001, avg(kwh)=0.38360417500000016, max(kwh)=2.5680001, min(kwh)=0.01, count(kwh)=48, stddev_pop(kwh)=0.6339574196381306)\n",
      "Row(id='MAC000032', std='Std', year=2011, month=12, date=10, sum(kwh)=21.75300010000001, avg(kwh)=0.4531875020833335, max(kwh)=2.586, min(kwh)=0.01, count(kwh)=48, stddev_pop(kwh)=0.6246162401870999)\n",
      "Row(id='MAC000032', std='Std', year=2011, month=12, date=11, sum(kwh)=19.146000000000004, avg(kwh)=0.3988750000000001, max(kwh)=2.648, min(kwh)=0.01, count(kwh)=48, stddev_pop(kwh)=0.6859822830863299)\n"
     ]
    }
   ],
   "source": [
    "#The previous print for better visual each row\n",
    "for i in df_all_statistics.head(5):\n",
    "    print(i)"
   ]
  },
  {
   "cell_type": "markdown",
   "metadata": {},
   "source": [
    "**df_all_statistics is the final dayly aggregation**"
   ]
  },
  {
   "cell_type": "code",
   "execution_count": 30,
   "metadata": {},
   "outputs": [
    {
     "data": {
      "text/plain": [
       "3510433"
      ]
     },
     "execution_count": 30,
     "metadata": {},
     "output_type": "execute_result"
    }
   ],
   "source": [
    "#df_all_statistics is the final dayly aggregation\n",
    "df_all_statistics.count()"
   ]
  },
  {
   "cell_type": "code",
   "execution_count": 24,
   "metadata": {},
   "outputs": [
    {
     "name": "stdout",
     "output_type": "stream",
     "text": [
      "Before casting\n",
      "root\n",
      " |-- id: string (nullable = true)\n",
      " |-- std: string (nullable = true)\n",
      " |-- year: integer (nullable = true)\n",
      " |-- month: integer (nullable = true)\n",
      " |-- date: integer (nullable = true)\n",
      " |-- hour: integer (nullable = true)\n",
      " |-- sum(kwh): double (nullable = true)\n",
      "\n",
      "After casting\n",
      "root\n",
      " |-- id: string (nullable = true)\n",
      " |-- std: string (nullable = true)\n",
      " |-- year: integer (nullable = true)\n",
      " |-- month: integer (nullable = true)\n",
      " |-- date: integer (nullable = true)\n",
      " |-- hour: integer (nullable = true)\n",
      " |-- sum(kwh): double (nullable = true)\n",
      " |-- hours: integer (nullable = true)\n",
      "\n"
     ]
    },
    {
     "data": {
      "text/plain": [
       "3510433"
      ]
     },
     "execution_count": 24,
     "metadata": {},
     "output_type": "execute_result"
    }
   ],
   "source": [
    "\n",
    "print(\"Before casting\")\n",
    "df_all8.printSchema()\n",
    "\n",
    "df_all_hours=df_all8.withColumn(\"hours\",df_all8['hour'].cast('integer'))\n",
    "print(\"After casting\")\n",
    "df_all_hours.printSchema()\n",
    "pivot_df_all=df_all_hours.groupby(\"id\",\"year\",\"month\",\"date\").pivot(\"hours\").sum(\"sum(kwh)\")\n",
    "#dataset = pivot_df_all.groupby(\"id\",\"year\",\"month\",\"date\").sum(\"sum(kwh)\").avg(\"sum(kwh)\")(\"sum(kwh)\").min(\"sum(kwh)\").count(\"sum(kwh)\").std(\"sum(kwh)\")\n",
    "\n",
    "pivot_df_all.count()\n"
   ]
  },
  {
   "cell_type": "code",
   "execution_count": 33,
   "metadata": {},
   "outputs": [
    {
     "data": {
      "text/plain": [
       "(array([3.011254e+06, 4.088510e+05, 6.359100e+04, 1.654200e+04,\n",
       "        5.842000e+03, 2.312000e+03, 1.105000e+03, 5.350000e+02,\n",
       "        2.150000e+02, 7.800000e+01, 1.500000e+01, 1.500000e+01,\n",
       "        4.000000e+00, 5.000000e+00, 6.000000e+00, 1.300000e+01,\n",
       "        5.000000e+00, 5.000000e+00, 7.000000e+00, 3.000000e+00]),\n",
       " array([  0.        ,  16.62780005,  33.2556001 ,  49.88340015,\n",
       "         66.5112002 ,  83.13900025,  99.7668003 , 116.39460035,\n",
       "        133.0224004 , 149.65020045, 166.2780005 , 182.90580055,\n",
       "        199.5336006 , 216.16140065, 232.7892007 , 249.41700075,\n",
       "        266.0448008 , 282.67260085, 299.3004009 , 315.92820095,\n",
       "        332.556001  ]),\n",
       " <BarContainer object of 20 artists>)"
      ]
     },
     "execution_count": 33,
     "metadata": {},
     "output_type": "execute_result"
    },
    {
     "data": {
      "image/png": "[encoded data removed]",
      "text/plain": [
       "<Figure size 432x288 with 1 Axes>"
      ]
     },
     "metadata": {
      "needs_background": "light"
     },
     "output_type": "display_data"
    }
   ],
   "source": [
    "from pyspark_dist_explore import hist\n",
    "import matplotlib.pyplot as plt\n",
    "\n",
    "fig, ax = plt.subplots()\n",
    "hist(ax, df_all_statistics.select('year','sum(kwh)'), bins = 20, color=['red'])"
   ]
  },
  {
   "cell_type": "code",
   "execution_count": 34,
   "metadata": {},
   "outputs": [
    {
     "ename": "ValueError",
     "evalue": "The 'color' keyword argument must have one color per dataset, but 2 datasets and 1 colors were provided",
     "output_type": "error",
     "traceback": [
      "\u001b[0;31m---------------------------------------------------------------------------\u001b[0m",
      "\u001b[0;31mValueError\u001b[0m                                Traceback (most recent call last)",
      "\u001b[0;32m<ipython-input-34-b191c5cf0771>\u001b[0m in \u001b[0;36m<module>\u001b[0;34m\u001b[0m\n\u001b[1;32m      3\u001b[0m \u001b[0;34m\u001b[0m\u001b[0m\n\u001b[1;32m      4\u001b[0m \u001b[0mfig\u001b[0m\u001b[0;34m,\u001b[0m \u001b[0max\u001b[0m \u001b[0;34m=\u001b[0m \u001b[0mplt\u001b[0m\u001b[0;34m.\u001b[0m\u001b[0msubplots\u001b[0m\u001b[0;34m(\u001b[0m\u001b[0;34m)\u001b[0m\u001b[0;34m\u001b[0m\u001b[0;34m\u001b[0m\u001b[0m\n\u001b[0;32m----> 5\u001b[0;31m \u001b[0mhist\u001b[0m\u001b[0;34m(\u001b[0m\u001b[0max\u001b[0m\u001b[0;34m,\u001b[0m \u001b[0mdf_all_statistics\u001b[0m\u001b[0;34m.\u001b[0m\u001b[0mselect\u001b[0m\u001b[0;34m(\u001b[0m\u001b[0;34m'year'\u001b[0m\u001b[0;34m,\u001b[0m\u001b[0;34m'sum(kwh)'\u001b[0m\u001b[0;34m)\u001b[0m\u001b[0;34m,\u001b[0m \u001b[0mbins\u001b[0m \u001b[0;34m=\u001b[0m \u001b[0;36m20\u001b[0m\u001b[0;34m,\u001b[0m \u001b[0mcolor\u001b[0m\u001b[0;34m=\u001b[0m\u001b[0;34m[\u001b[0m\u001b[0;34m'red'\u001b[0m\u001b[0;34m]\u001b[0m\u001b[0;34m)\u001b[0m\u001b[0;34m\u001b[0m\u001b[0;34m\u001b[0m\u001b[0m\n\u001b[0m",
      "\u001b[0;32m~/PycharmProjects/NoSql_Data_Model/venv/lib/python3.8/site-packages/pyspark_dist_explore/pyspark_dist_explore.py\u001b[0m in \u001b[0;36mhist\u001b[0;34m(axis, x, overlapping, formatted_yaxis, **kwargs)\u001b[0m\n\u001b[1;32m     52\u001b[0m     \u001b[0mhistogram\u001b[0m \u001b[0;34m=\u001b[0m \u001b[0mcreate_histogram_object\u001b[0m\u001b[0;34m(\u001b[0m\u001b[0mkwargs\u001b[0m\u001b[0;34m)\u001b[0m\u001b[0;34m\u001b[0m\u001b[0;34m\u001b[0m\u001b[0m\n\u001b[1;32m     53\u001b[0m     \u001b[0mhistogram\u001b[0m\u001b[0;34m.\u001b[0m\u001b[0madd_data\u001b[0m\u001b[0;34m(\u001b[0m\u001b[0mx\u001b[0m\u001b[0;34m)\u001b[0m\u001b[0;34m\u001b[0m\u001b[0;34m\u001b[0m\u001b[0m\n\u001b[0;32m---> 54\u001b[0;31m     \u001b[0;32mreturn\u001b[0m \u001b[0mhistogram\u001b[0m\u001b[0;34m.\u001b[0m\u001b[0mplot_hist\u001b[0m\u001b[0;34m(\u001b[0m\u001b[0maxis\u001b[0m\u001b[0;34m,\u001b[0m \u001b[0moverlapping\u001b[0m\u001b[0;34m,\u001b[0m \u001b[0mformatted_yaxis\u001b[0m\u001b[0;34m,\u001b[0m \u001b[0;34m**\u001b[0m\u001b[0mkwargs\u001b[0m\u001b[0;34m)\u001b[0m\u001b[0;34m\u001b[0m\u001b[0;34m\u001b[0m\u001b[0m\n\u001b[0m\u001b[1;32m     55\u001b[0m \u001b[0;34m\u001b[0m\u001b[0m\n\u001b[1;32m     56\u001b[0m \u001b[0;34m\u001b[0m\u001b[0m\n",
      "\u001b[0;32m~/PycharmProjects/NoSql_Data_Model/venv/lib/python3.8/site-packages/pyspark_dist_explore/pyspark_dist_explore.py\u001b[0m in \u001b[0;36mplot_hist\u001b[0;34m(self, ax, overlapping, formatted_yaxis, **kwargs)\u001b[0m\n\u001b[1;32m    371\u001b[0m         \u001b[0;32melse\u001b[0m\u001b[0;34m:\u001b[0m\u001b[0;34m\u001b[0m\u001b[0;34m\u001b[0m\u001b[0m\n\u001b[1;32m    372\u001b[0m             \u001b[0mweights_multi\u001b[0m \u001b[0;34m=\u001b[0m \u001b[0;34m[\u001b[0m\u001b[0mself\u001b[0m\u001b[0;34m.\u001b[0m\u001b[0mhist_dict\u001b[0m\u001b[0;34m[\u001b[0m\u001b[0mcolname\u001b[0m\u001b[0;34m]\u001b[0m \u001b[0;32mfor\u001b[0m \u001b[0mcolname\u001b[0m \u001b[0;32min\u001b[0m \u001b[0mself\u001b[0m\u001b[0;34m.\u001b[0m\u001b[0mhist_dict\u001b[0m\u001b[0;34m]\u001b[0m\u001b[0;34m\u001b[0m\u001b[0;34m\u001b[0m\u001b[0m\n\u001b[0;32m--> 373\u001b[0;31m             return ax.hist([self._get_bin_centers()] * len(self.hist_dict),\n\u001b[0m\u001b[1;32m    374\u001b[0m                            \u001b[0mbins\u001b[0m\u001b[0;34m=\u001b[0m\u001b[0mself\u001b[0m\u001b[0;34m.\u001b[0m\u001b[0mbin_boundaries\u001b[0m\u001b[0;34m,\u001b[0m\u001b[0;34m\u001b[0m\u001b[0;34m\u001b[0m\u001b[0m\n\u001b[1;32m    375\u001b[0m                            \u001b[0mweights\u001b[0m\u001b[0;34m=\u001b[0m\u001b[0mweights_multi\u001b[0m\u001b[0;34m,\u001b[0m\u001b[0;34m\u001b[0m\u001b[0;34m\u001b[0m\u001b[0m\n",
      "\u001b[0;32m~/PycharmProjects/NoSql_Data_Model/venv/lib/python3.8/site-packages/matplotlib/__init__.py\u001b[0m in \u001b[0;36minner\u001b[0;34m(ax, data, *args, **kwargs)\u001b[0m\n\u001b[1;32m   1410\u001b[0m     \u001b[0;32mdef\u001b[0m \u001b[0minner\u001b[0m\u001b[0;34m(\u001b[0m\u001b[0max\u001b[0m\u001b[0;34m,\u001b[0m \u001b[0;34m*\u001b[0m\u001b[0margs\u001b[0m\u001b[0;34m,\u001b[0m \u001b[0mdata\u001b[0m\u001b[0;34m=\u001b[0m\u001b[0;32mNone\u001b[0m\u001b[0;34m,\u001b[0m \u001b[0;34m**\u001b[0m\u001b[0mkwargs\u001b[0m\u001b[0;34m)\u001b[0m\u001b[0;34m:\u001b[0m\u001b[0;34m\u001b[0m\u001b[0;34m\u001b[0m\u001b[0m\n\u001b[1;32m   1411\u001b[0m         \u001b[0;32mif\u001b[0m \u001b[0mdata\u001b[0m \u001b[0;32mis\u001b[0m \u001b[0;32mNone\u001b[0m\u001b[0;34m:\u001b[0m\u001b[0;34m\u001b[0m\u001b[0;34m\u001b[0m\u001b[0m\n\u001b[0;32m-> 1412\u001b[0;31m             \u001b[0;32mreturn\u001b[0m \u001b[0mfunc\u001b[0m\u001b[0;34m(\u001b[0m\u001b[0max\u001b[0m\u001b[0;34m,\u001b[0m \u001b[0;34m*\u001b[0m\u001b[0mmap\u001b[0m\u001b[0;34m(\u001b[0m\u001b[0msanitize_sequence\u001b[0m\u001b[0;34m,\u001b[0m \u001b[0margs\u001b[0m\u001b[0;34m)\u001b[0m\u001b[0;34m,\u001b[0m \u001b[0;34m**\u001b[0m\u001b[0mkwargs\u001b[0m\u001b[0;34m)\u001b[0m\u001b[0;34m\u001b[0m\u001b[0;34m\u001b[0m\u001b[0m\n\u001b[0m\u001b[1;32m   1413\u001b[0m \u001b[0;34m\u001b[0m\u001b[0m\n\u001b[1;32m   1414\u001b[0m         \u001b[0mbound\u001b[0m \u001b[0;34m=\u001b[0m \u001b[0mnew_sig\u001b[0m\u001b[0;34m.\u001b[0m\u001b[0mbind\u001b[0m\u001b[0;34m(\u001b[0m\u001b[0max\u001b[0m\u001b[0;34m,\u001b[0m \u001b[0;34m*\u001b[0m\u001b[0margs\u001b[0m\u001b[0;34m,\u001b[0m \u001b[0;34m**\u001b[0m\u001b[0mkwargs\u001b[0m\u001b[0;34m)\u001b[0m\u001b[0;34m\u001b[0m\u001b[0;34m\u001b[0m\u001b[0m\n",
      "\u001b[0;32m~/PycharmProjects/NoSql_Data_Model/venv/lib/python3.8/site-packages/matplotlib/axes/_axes.py\u001b[0m in \u001b[0;36mhist\u001b[0;34m(self, x, bins, range, density, weights, cumulative, bottom, histtype, align, orientation, rwidth, log, color, label, stacked, **kwargs)\u001b[0m\n\u001b[1;32m   6593\u001b[0m             \u001b[0mcolor\u001b[0m \u001b[0;34m=\u001b[0m \u001b[0mmcolors\u001b[0m\u001b[0;34m.\u001b[0m\u001b[0mto_rgba_array\u001b[0m\u001b[0;34m(\u001b[0m\u001b[0mcolor\u001b[0m\u001b[0;34m)\u001b[0m\u001b[0;34m\u001b[0m\u001b[0;34m\u001b[0m\u001b[0m\n\u001b[1;32m   6594\u001b[0m             \u001b[0;32mif\u001b[0m \u001b[0mlen\u001b[0m\u001b[0;34m(\u001b[0m\u001b[0mcolor\u001b[0m\u001b[0;34m)\u001b[0m \u001b[0;34m!=\u001b[0m \u001b[0mnx\u001b[0m\u001b[0;34m:\u001b[0m\u001b[0;34m\u001b[0m\u001b[0;34m\u001b[0m\u001b[0m\n\u001b[0;32m-> 6595\u001b[0;31m                 raise ValueError(f\"The 'color' keyword argument must have one \"\n\u001b[0m\u001b[1;32m   6596\u001b[0m                                  \u001b[0;34mf\"color per dataset, but {nx} datasets and \"\u001b[0m\u001b[0;34m\u001b[0m\u001b[0;34m\u001b[0m\u001b[0m\n\u001b[1;32m   6597\u001b[0m                                  f\"{len(color)} colors were provided\")\n",
      "\u001b[0;31mValueError\u001b[0m: The 'color' keyword argument must have one color per dataset, but 2 datasets and 1 colors were provided"
     ]
    },
    {
     "data": {
      "image/png": "[encoded data removed]",
      "text/plain": [
       "<Figure size 432x288 with 1 Axes>"
      ]
     },
     "metadata": {
      "needs_background": "light"
     },
     "output_type": "display_data"
    }
   ],
   "source": [
    "from pyspark_dist_explore import hist\n",
    "import matplotlib.pyplot as plt\n",
    "\n",
    "fig, ax = plt.subplots()\n",
    "hist(ax, df_all_statistics.select('year','sum(kwh)'), bins = 20, color=['red'])"
   ]
  },
  {
   "cell_type": "code",
   "execution_count": 35,
   "metadata": {},
   "outputs": [
    {
     "ename": "TypeError",
     "evalue": "buckets should be a list or tuple or number(int or long)",
     "output_type": "error",
     "traceback": [
      "\u001b[0;31m---------------------------------------------------------------------------\u001b[0m",
      "\u001b[0;31mTypeError\u001b[0m                                 Traceback (most recent call last)",
      "\u001b[0;32m<ipython-input-35-d7d3381b0575>\u001b[0m in \u001b[0;36m<module>\u001b[0;34m\u001b[0m\n\u001b[1;32m      3\u001b[0m \u001b[0;34m\u001b[0m\u001b[0m\n\u001b[1;32m      4\u001b[0m \u001b[0mfig\u001b[0m\u001b[0;34m,\u001b[0m \u001b[0max\u001b[0m \u001b[0;34m=\u001b[0m \u001b[0mplt\u001b[0m\u001b[0;34m.\u001b[0m\u001b[0msubplots\u001b[0m\u001b[0;34m(\u001b[0m\u001b[0;34m)\u001b[0m\u001b[0;34m\u001b[0m\u001b[0;34m\u001b[0m\u001b[0m\n\u001b[0;32m----> 5\u001b[0;31m \u001b[0mhist\u001b[0m\u001b[0;34m(\u001b[0m\u001b[0max\u001b[0m\u001b[0;34m,\u001b[0m \u001b[0mdf_all_statistics\u001b[0m\u001b[0;34m.\u001b[0m\u001b[0mselect\u001b[0m\u001b[0;34m(\u001b[0m\u001b[0;34m'sum(kwh)'\u001b[0m\u001b[0;34m)\u001b[0m\u001b[0;34m,\u001b[0m \u001b[0mbins\u001b[0m \u001b[0;34m=\u001b[0m \u001b[0;34m'year'\u001b[0m\u001b[0;34m,\u001b[0m \u001b[0mcolor\u001b[0m\u001b[0;34m=\u001b[0m\u001b[0;34m[\u001b[0m\u001b[0;34m'red'\u001b[0m\u001b[0;34m]\u001b[0m\u001b[0;34m)\u001b[0m\u001b[0;34m\u001b[0m\u001b[0;34m\u001b[0m\u001b[0m\n\u001b[0m",
      "\u001b[0;32m~/PycharmProjects/NoSql_Data_Model/venv/lib/python3.8/site-packages/pyspark_dist_explore/pyspark_dist_explore.py\u001b[0m in \u001b[0;36mhist\u001b[0;34m(axis, x, overlapping, formatted_yaxis, **kwargs)\u001b[0m\n\u001b[1;32m     52\u001b[0m     \u001b[0mhistogram\u001b[0m \u001b[0;34m=\u001b[0m \u001b[0mcreate_histogram_object\u001b[0m\u001b[0;34m(\u001b[0m\u001b[0mkwargs\u001b[0m\u001b[0;34m)\u001b[0m\u001b[0;34m\u001b[0m\u001b[0;34m\u001b[0m\u001b[0m\n\u001b[1;32m     53\u001b[0m     \u001b[0mhistogram\u001b[0m\u001b[0;34m.\u001b[0m\u001b[0madd_data\u001b[0m\u001b[0;34m(\u001b[0m\u001b[0mx\u001b[0m\u001b[0;34m)\u001b[0m\u001b[0;34m\u001b[0m\u001b[0;34m\u001b[0m\u001b[0m\n\u001b[0;32m---> 54\u001b[0;31m     \u001b[0;32mreturn\u001b[0m \u001b[0mhistogram\u001b[0m\u001b[0;34m.\u001b[0m\u001b[0mplot_hist\u001b[0m\u001b[0;34m(\u001b[0m\u001b[0maxis\u001b[0m\u001b[0;34m,\u001b[0m \u001b[0moverlapping\u001b[0m\u001b[0;34m,\u001b[0m \u001b[0mformatted_yaxis\u001b[0m\u001b[0;34m,\u001b[0m \u001b[0;34m**\u001b[0m\u001b[0mkwargs\u001b[0m\u001b[0;34m)\u001b[0m\u001b[0;34m\u001b[0m\u001b[0;34m\u001b[0m\u001b[0m\n\u001b[0m\u001b[1;32m     55\u001b[0m \u001b[0;34m\u001b[0m\u001b[0m\n\u001b[1;32m     56\u001b[0m \u001b[0;34m\u001b[0m\u001b[0m\n",
      "\u001b[0;32m~/PycharmProjects/NoSql_Data_Model/venv/lib/python3.8/site-packages/pyspark_dist_explore/pyspark_dist_explore.py\u001b[0m in \u001b[0;36mplot_hist\u001b[0;34m(self, ax, overlapping, formatted_yaxis, **kwargs)\u001b[0m\n\u001b[1;32m    353\u001b[0m                 \u001b[0mThe\u001b[0m \u001b[0mkeyword\u001b[0m \u001b[0marguments\u001b[0m \u001b[0;32mas\u001b[0m \u001b[0mused\u001b[0m \u001b[0;32min\u001b[0m \u001b[0mmatplotlib\u001b[0m\u001b[0;34m.\u001b[0m\u001b[0mpyplot\u001b[0m\u001b[0;34m.\u001b[0m\u001b[0mhist\u001b[0m\u001b[0;34m\u001b[0m\u001b[0;34m\u001b[0m\u001b[0m\n\u001b[1;32m    354\u001b[0m         \"\"\"\n\u001b[0;32m--> 355\u001b[0;31m         \u001b[0mself\u001b[0m\u001b[0;34m.\u001b[0m\u001b[0mbuild\u001b[0m\u001b[0;34m(\u001b[0m\u001b[0;34m)\u001b[0m\u001b[0;34m\u001b[0m\u001b[0;34m\u001b[0m\u001b[0m\n\u001b[0m\u001b[1;32m    356\u001b[0m \u001b[0;34m\u001b[0m\u001b[0m\n\u001b[1;32m    357\u001b[0m         \u001b[0;32mif\u001b[0m \u001b[0mformatted_yaxis\u001b[0m\u001b[0;34m:\u001b[0m\u001b[0;34m\u001b[0m\u001b[0;34m\u001b[0m\u001b[0m\n",
      "\u001b[0;32m~/PycharmProjects/NoSql_Data_Model/venv/lib/python3.8/site-packages/pyspark_dist_explore/pyspark_dist_explore.py\u001b[0m in \u001b[0;36mbuild\u001b[0;34m(self)\u001b[0m\n\u001b[1;32m    310\u001b[0m             \u001b[0mself\u001b[0m\u001b[0;34m.\u001b[0m\u001b[0mbin_boundaries\u001b[0m \u001b[0;34m=\u001b[0m \u001b[0mself\u001b[0m\u001b[0;34m.\u001b[0m\u001b[0m_calculate_bins\u001b[0m\u001b[0;34m(\u001b[0m\u001b[0;34m)\u001b[0m\u001b[0;34m\u001b[0m\u001b[0;34m\u001b[0m\u001b[0m\n\u001b[1;32m    311\u001b[0m             \u001b[0;32mfor\u001b[0m \u001b[0mtable\u001b[0m\u001b[0;34m,\u001b[0m \u001b[0mcolumn_name\u001b[0m \u001b[0;32min\u001b[0m \u001b[0mself\u001b[0m\u001b[0;34m.\u001b[0m\u001b[0mcol_list\u001b[0m\u001b[0;34m:\u001b[0m\u001b[0;34m\u001b[0m\u001b[0;34m\u001b[0m\u001b[0m\n\u001b[0;32m--> 312\u001b[0;31m                 \u001b[0mself\u001b[0m\u001b[0;34m.\u001b[0m\u001b[0m_add_hist\u001b[0m\u001b[0;34m(\u001b[0m\u001b[0mtable\u001b[0m\u001b[0;34m,\u001b[0m \u001b[0mcolumn_name\u001b[0m\u001b[0;34m)\u001b[0m\u001b[0;34m\u001b[0m\u001b[0;34m\u001b[0m\u001b[0m\n\u001b[0m\u001b[1;32m    313\u001b[0m             \u001b[0mself\u001b[0m\u001b[0;34m.\u001b[0m\u001b[0mis_build\u001b[0m \u001b[0;34m=\u001b[0m \u001b[0;32mTrue\u001b[0m\u001b[0;34m\u001b[0m\u001b[0;34m\u001b[0m\u001b[0m\n\u001b[1;32m    314\u001b[0m \u001b[0;34m\u001b[0m\u001b[0m\n",
      "\u001b[0;32m~/PycharmProjects/NoSql_Data_Model/venv/lib/python3.8/site-packages/pyspark_dist_explore/pyspark_dist_explore.py\u001b[0m in \u001b[0;36m_add_hist\u001b[0;34m(self, table, column_name)\u001b[0m\n\u001b[1;32m    253\u001b[0m         \"\"\"Uses spark to calculate the hist values: for each column a list of weights, and if the bin_list is not set\n\u001b[1;32m    254\u001b[0m            a set of bin boundaries\"\"\"\n\u001b[0;32m--> 255\u001b[0;31m         \u001b[0mbin_boundaries\u001b[0m\u001b[0;34m,\u001b[0m \u001b[0mbin_weights\u001b[0m \u001b[0;34m=\u001b[0m \u001b[0mtable\u001b[0m\u001b[0;34m.\u001b[0m\u001b[0mselect\u001b[0m\u001b[0;34m(\u001b[0m\u001b[0mcolumn_name\u001b[0m\u001b[0;34m)\u001b[0m\u001b[0;34m.\u001b[0m\u001b[0mrdd\u001b[0m\u001b[0;34m.\u001b[0m\u001b[0mflatMap\u001b[0m\u001b[0;34m(\u001b[0m\u001b[0;32mlambda\u001b[0m \u001b[0mx\u001b[0m\u001b[0;34m:\u001b[0m \u001b[0mx\u001b[0m\u001b[0;34m)\u001b[0m\u001b[0;34m.\u001b[0m\u001b[0mhistogram\u001b[0m\u001b[0;34m(\u001b[0m\u001b[0mself\u001b[0m\u001b[0;34m.\u001b[0m\u001b[0mbin_boundaries\u001b[0m\u001b[0;34m)\u001b[0m\u001b[0;34m\u001b[0m\u001b[0;34m\u001b[0m\u001b[0m\n\u001b[0m\u001b[1;32m    256\u001b[0m         \u001b[0mself\u001b[0m\u001b[0;34m.\u001b[0m\u001b[0mhist_dict\u001b[0m\u001b[0;34m[\u001b[0m\u001b[0mself\u001b[0m\u001b[0;34m.\u001b[0m\u001b[0m_check_col_name\u001b[0m\u001b[0;34m(\u001b[0m\u001b[0mcolumn_name\u001b[0m\u001b[0;34m)\u001b[0m\u001b[0;34m]\u001b[0m \u001b[0;34m=\u001b[0m \u001b[0mbin_weights\u001b[0m\u001b[0;34m\u001b[0m\u001b[0;34m\u001b[0m\u001b[0m\n\u001b[1;32m    257\u001b[0m \u001b[0;34m\u001b[0m\u001b[0m\n",
      "\u001b[0;32m~/PycharmProjects/NoSql_Data_Model/venv/lib/python3.8/site-packages/pyspark/rdd.py\u001b[0m in \u001b[0;36mhistogram\u001b[0;34m(self, buckets)\u001b[0m\n\u001b[1;32m   1357\u001b[0m \u001b[0;34m\u001b[0m\u001b[0m\n\u001b[1;32m   1358\u001b[0m         \u001b[0;32melse\u001b[0m\u001b[0;34m:\u001b[0m\u001b[0;34m\u001b[0m\u001b[0;34m\u001b[0m\u001b[0m\n\u001b[0;32m-> 1359\u001b[0;31m             \u001b[0;32mraise\u001b[0m \u001b[0mTypeError\u001b[0m\u001b[0;34m(\u001b[0m\u001b[0;34m\"buckets should be a list or tuple or number(int or long)\"\u001b[0m\u001b[0;34m)\u001b[0m\u001b[0;34m\u001b[0m\u001b[0;34m\u001b[0m\u001b[0m\n\u001b[0m\u001b[1;32m   1360\u001b[0m \u001b[0;34m\u001b[0m\u001b[0m\n\u001b[1;32m   1361\u001b[0m         \u001b[0;32mdef\u001b[0m \u001b[0mhistogram\u001b[0m\u001b[0;34m(\u001b[0m\u001b[0miterator\u001b[0m\u001b[0;34m)\u001b[0m\u001b[0;34m:\u001b[0m\u001b[0;34m\u001b[0m\u001b[0;34m\u001b[0m\u001b[0m\n",
      "\u001b[0;31mTypeError\u001b[0m: buckets should be a list or tuple or number(int or long)"
     ]
    },
    {
     "data": {
      "image/png": "[encoded data removed]",
      "text/plain": [
       "<Figure size 432x288 with 1 Axes>"
      ]
     },
     "metadata": {
      "needs_background": "light"
     },
     "output_type": "display_data"
    }
   ],
   "source": [
    "from pyspark_dist_explore import hist\n",
    "import matplotlib.pyplot as plt\n",
    "\n",
    "fig, ax = plt.subplots()\n",
    "hist(ax, df_all_statistics.select('sum(kwh)'), bins = 'year', color=['red'])"
   ]
  },
  {
   "cell_type": "code",
   "execution_count": 28,
   "metadata": {},
   "outputs": [],
   "source": [
    "#the Data freame was 165M. but aftew aggregation is 3.5M we set "
   ]
  },
  {
   "cell_type": "code",
   "execution_count": null,
   "metadata": {},
   "outputs": [],
   "source": [
    "#We are going to aggregation energy per, / year /months and weak days to plot and see the distubition"
   ]
  }
 ],
 "metadata": {
  "kernelspec": {
   "display_name": "Python 3.8.5 64-bit ('venv': venv)",
   "language": "python",
   "name": "python385jvsc74a57bd0ed4335d6cbe1b4beeab2279141ac2539677c122e695ba2529d61d5b04ad0c51b"
  },
  "language_info": {
   "codemirror_mode": {
    "name": "ipython",
    "version": 3
   },
   "file_extension": ".py",
   "mimetype": "text/x-python",
   "name": "python",
   "nbconvert_exporter": "python",
   "pygments_lexer": "ipython3",
   "version": "3.8.10"
  }
 },
 "nbformat": 4,
 "nbformat_minor": 4
}
