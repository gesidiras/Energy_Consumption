{
 "cells": [
  {
   "cell_type": "code",
   "execution_count": 9,
   "metadata": {},
   "outputs": [],
   "source": [
    "import matplotlib.pyplot as plt\n",
    "\n",
    "import pyspark\n",
    "from pyspark.sql import SparkSession\n",
    "from pyspark.sql.functions import to_timestamp\n",
    "from pyspark.sql.functions import *\n",
    "import calendar\n",
    "\n",
    "import pandas as pd"
   ]
  },
  {
   "cell_type": "code",
   "execution_count": null,
   "metadata": {},
   "outputs": [],
   "source": []
  },
  {
   "cell_type": "code",
   "execution_count": 3,
   "metadata": {},
   "outputs": [
    {
     "name": "stdout",
     "output_type": "stream",
     "text": [
      "root\n",
      " |-- LCLid: string (nullable = true)\n",
      " |-- stdorToU: string (nullable = true)\n",
      " |-- DateTime: string (nullable = true)\n",
      " |-- KWH/hh (per half hour) : string (nullable = true)\n",
      "\n"
     ]
    }
   ],
   "source": [
    "#create or use a spark sessio n , We use the local  but we can chabge it to cluster\n",
    "spark = SparkSession.builder.master(\"local[1]\") \\\n",
    "                    .appName('SparkByExamples.com') \\\n",
    "                    .getOrCreate()\n",
    "df = spark.read.option(\"header\",True).csv(\"data/CC_LCL-FullData.csv\")\n",
    "df.printSchema()"
   ]
  },
  {
   "cell_type": "code",
   "execution_count": null,
   "metadata": {},
   "outputs": [],
   "source": []
  },
  {
   "cell_type": "code",
   "execution_count": 4,
   "metadata": {},
   "outputs": [],
   "source": [
    "#Split the timestamp\n",
    "df = df.withColumn(\"DateTime\",df.DateTime.astype('Timestamp'))\n",
    "#https://sparkbyexamples.com/pyspark/pyspark-sql-date-and-timestamp-functions/\n",
    "df3=df.select(col(\"DateTime\"),\n",
    "             col(\"LCLid\").alias((\"id\")),\n",
    "            col(\"stdorToU\").alias(\"std\"),\n",
    "            col(\"KWH/hh (per half hour) \").alias(\"kwh\"),\n",
    "     year(col(\"DateTime\")).alias(\"year\"),\n",
    "     month(col(\"DateTime\")).alias(\"month\"),\n",
    "    dayofmonth(col(\"DateTime\")).alias(\"date\"),\n",
    "    hour(col(\"DateTime\")).alias(\"hour\"),\n",
    "    minute(col(\"DateTime\")).alias(\"min\"),\n",
    "  )\n",
    "\n"
   ]
  },
  {
   "cell_type": "code",
   "execution_count": 5,
   "metadata": {},
   "outputs": [
    {
     "data": {
      "text/plain": [
       "167932474"
      ]
     },
     "execution_count": 5,
     "metadata": {},
     "output_type": "execute_result"
    }
   ],
   "source": [
    "#The dataset  consist from 165M++ rows\n",
    "df.count()"
   ]
  },
  {
   "cell_type": "code",
   "execution_count": 6,
   "metadata": {},
   "outputs": [],
   "source": [
    "from datetime import datetime\n",
    "import calendar\n",
    "import warnings\n",
    "warnings.filterwarnings(\"ignore\")\n"
   ]
  },
  {
   "cell_type": "code",
   "execution_count": 10,
   "metadata": {},
   "outputs": [],
   "source": [
    "# Reading Weather data\n",
    "df_weather = pd.read_csv(\"data/add/weather_hourly_darksky.csv\")\n"
   ]
  },
  {
   "cell_type": "code",
   "execution_count": null,
   "metadata": {},
   "outputs": [],
   "source": []
  },
  {
   "cell_type": "code",
   "execution_count": null,
   "metadata": {},
   "outputs": [],
   "source": []
  },
  {
   "cell_type": "code",
   "execution_count": null,
   "metadata": {},
   "outputs": [],
   "source": []
  },
  {
   "cell_type": "code",
   "execution_count": 11,
   "metadata": {},
   "outputs": [],
   "source": [
    "# Reading Household info data\n",
    "# Reading Household info data\n",
    "df_household = pd.read_csv(\"data/add/informations_households.csv\", encoding=\"utf-8\")\n",
    "\n",
    "#household convert spark  dataframe\n",
    "householdd=spark.createDataFrame(df_household)"
   ]
  },
  {
   "cell_type": "code",
   "execution_count": 8,
   "metadata": {},
   "outputs": [
    {
     "data": {
      "text/plain": [
       "24158"
      ]
     },
     "execution_count": 8,
     "metadata": {},
     "output_type": "execute_result"
    }
   ],
   "source": [
    "\n",
    "import numpy as np\n",
    "import matplotlib.pyplot as plt\n",
    "import seaborn as sns\n",
    "from datetime import datetime\n",
    "import calendar\n",
    "\n",
    "#filter the data for one househd to have smaller dataset for the coclulations, after we can remove the filetr\n",
    "df3.filter(df3.id=='MAC000002').count()\n"
   ]
  },
  {
   "cell_type": "code",
   "execution_count": 15,
   "metadata": {},
   "outputs": [],
   "source": [
    "\n",
    "#household convert spark  dataframe\n",
    "householdd=spark.createDataFrame(df_household)\n",
    "\n",
    "#Join the housolod dataset two DataSet\n",
    "df_4=df3.withColumn(\"kwh\", df3.kwh.cast('double'))\n",
    "\n",
    "\n"
   ]
  },
  {
   "cell_type": "code",
   "execution_count": 14,
   "metadata": {},
   "outputs": [
    {
     "ename": "NameError",
     "evalue": "name 'df4' is not defined",
     "output_type": "error",
     "traceback": [
      "\u001B[0;31m---------------------------------------------------------------------------\u001B[0m",
      "\u001B[0;31mNameError\u001B[0m                                 Traceback (most recent call last)",
      "\u001B[0;32m<ipython-input-14-2d028eb186d4>\u001B[0m in \u001B[0;36m<module>\u001B[0;34m\u001B[0m\n\u001B[1;32m      1\u001B[0m \u001B[0;31m#convert string energy cosumtion data to double\u001B[0m\u001B[0;34m\u001B[0m\u001B[0;34m\u001B[0m\u001B[0;34m\u001B[0m\u001B[0m\n\u001B[0;32m----> 2\u001B[0;31m \u001B[0mdf5\u001B[0m\u001B[0;34m=\u001B[0m\u001B[0mdf4\u001B[0m\u001B[0;34m.\u001B[0m\u001B[0mwithColumn\u001B[0m\u001B[0;34m(\u001B[0m\u001B[0;34m\"kwh\"\u001B[0m\u001B[0;34m,\u001B[0m \u001B[0mdf4\u001B[0m\u001B[0;34m.\u001B[0m\u001B[0mkwh\u001B[0m\u001B[0;34m.\u001B[0m\u001B[0mcast\u001B[0m\u001B[0;34m(\u001B[0m\u001B[0;34m'double'\u001B[0m\u001B[0;34m)\u001B[0m\u001B[0;34m)\u001B[0m\u001B[0;34m\u001B[0m\u001B[0;34m\u001B[0m\u001B[0m\n\u001B[0m\u001B[1;32m      3\u001B[0m \u001B[0;34m\u001B[0m\u001B[0m\n",
      "\u001B[0;31mNameError\u001B[0m: name 'df4' is not defined"
     ]
    }
   ],
   "source": [
    "\n",
    "#convert string energy cosumtion data to double\n",
    "df5=df_4.withColumn(\"kwh\", df4.kwh.cast('double'))\n",
    "\n"
   ]
  },
  {
   "cell_type": "code",
   "execution_count": 17,
   "metadata": {},
   "outputs": [
    {
     "data": {
      "text/plain": [
       "167932474"
      ]
     },
     "execution_count": 17,
     "metadata": {},
     "output_type": "execute_result"
    }
   ],
   "source": [
    "#filter thepip install pyspark-dist-explore data to perform to  a smaller sample all the\n",
    "#dff=df3.filter(df3.id=='MAC000002')\n",
    "\n",
    "\n",
    "#innerjoin with household and energy\n",
    "df_4.count()"
   ]
  },
  {
   "cell_type": "code",
   "execution_count": 18,
   "metadata": {},
   "outputs": [
    {
     "name": "stdout",
     "output_type": "stream",
     "text": [
      "root\n",
      " |-- DateTime: timestamp (nullable = true)\n",
      " |-- id: string (nullable = true)\n",
      " |-- std: string (nullable = true)\n",
      " |-- kwh: double (nullable = true)\n",
      " |-- year: integer (nullable = true)\n",
      " |-- month: integer (nullable = true)\n",
      " |-- date: integer (nullable = true)\n",
      " |-- hour: integer (nullable = true)\n",
      " |-- min: integer (nullable = true)\n",
      "\n"
     ]
    }
   ],
   "source": [
    "df_4.printSchema()"
   ]
  },
  {
   "cell_type": "code",
   "execution_count": null,
   "metadata": {},
   "outputs": [],
   "source": [
    "#Join two DataSet"
   ]
  },
  {
   "cell_type": "code",
   "execution_count": 19,
   "metadata": {},
   "outputs": [],
   "source": [
    "df4=df_4.join(householdd, df_4.id == householdd.LCLid, 'left')"
   ]
  },
  {
   "cell_type": "code",
   "execution_count": 89,
   "metadata": {
    "collapsed": true
   },
   "outputs": [
    {
     "name": "stdout",
     "output_type": "stream",
     "text": [
      "root\n",
      " |-- DateTime: timestamp (nullable = true)\n",
      " |-- id: string (nullable = true)\n",
      " |-- std: string (nullable = true)\n",
      " |-- kwh: double (nullable = true)\n",
      " |-- year: integer (nullable = true)\n",
      " |-- month: integer (nullable = true)\n",
      " |-- date: integer (nullable = true)\n",
      " |-- hour: integer (nullable = true)\n",
      " |-- min: integer (nullable = true)\n",
      " |-- LCLid: string (nullable = true)\n",
      " |-- stdorToU: string (nullable = true)\n",
      " |-- Acorn: string (nullable = true)\n",
      " |-- Acorn_grouped: string (nullable = true)\n",
      " |-- file: string (nullable = true)\n",
      "\n"
     ]
    }
   ],
   "source": [
    "df4.printSchema()"
   ]
  },
  {
   "cell_type": "code",
   "execution_count": 82,
   "metadata": {},
   "outputs": [
    {
     "name": "stdout",
     "output_type": "stream",
     "text": [
      "Row(DateTime=datetime.datetime(2012, 10, 12, 0, 30), id='MAC000002', std='Std', kwh=0.0, year=2012, month=10, date=12, hour=0, min=30, LCLid='MAC000002', stdorToU='Std', Acorn='ACORN-A', Acorn_grouped='Affluent', file='block_0')\n",
      "Row(DateTime=datetime.datetime(2012, 10, 12, 1, 0), id='MAC000002', std='Std', kwh=0.0, year=2012, month=10, date=12, hour=1, min=0, LCLid='MAC000002', stdorToU='Std', Acorn='ACORN-A', Acorn_grouped='Affluent', file='block_0')\n",
      "Row(DateTime=datetime.datetime(2012, 10, 12, 1, 30), id='MAC000002', std='Std', kwh=0.0, year=2012, month=10, date=12, hour=1, min=30, LCLid='MAC000002', stdorToU='Std', Acorn='ACORN-A', Acorn_grouped='Affluent', file='block_0')\n",
      "Row(DateTime=datetime.datetime(2012, 10, 12, 2, 0), id='MAC000002', std='Std', kwh=0.0, year=2012, month=10, date=12, hour=2, min=0, LCLid='MAC000002', stdorToU='Std', Acorn='ACORN-A', Acorn_grouped='Affluent', file='block_0')\n",
      "Row(DateTime=datetime.datetime(2012, 10, 12, 2, 30), id='MAC000002', std='Std', kwh=0.0, year=2012, month=10, date=12, hour=2, min=30, LCLid='MAC000002', stdorToU='Std', Acorn='ACORN-A', Acorn_grouped='Affluent', file='block_0')\n",
      "Row(DateTime=datetime.datetime(2012, 10, 12, 3, 0), id='MAC000002', std='Std', kwh=0.0, year=2012, month=10, date=12, hour=3, min=0, LCLid='MAC000002', stdorToU='Std', Acorn='ACORN-A', Acorn_grouped='Affluent', file='block_0')\n",
      "Row(DateTime=datetime.datetime(2012, 10, 12, 3, 30), id='MAC000002', std='Std', kwh=0.0, year=2012, month=10, date=12, hour=3, min=30, LCLid='MAC000002', stdorToU='Std', Acorn='ACORN-A', Acorn_grouped='Affluent', file='block_0')\n",
      "Row(DateTime=datetime.datetime(2012, 10, 12, 4, 0), id='MAC000002', std='Std', kwh=0.0, year=2012, month=10, date=12, hour=4, min=0, LCLid='MAC000002', stdorToU='Std', Acorn='ACORN-A', Acorn_grouped='Affluent', file='block_0')\n",
      "Row(DateTime=datetime.datetime(2012, 10, 12, 4, 30), id='MAC000002', std='Std', kwh=0.0, year=2012, month=10, date=12, hour=4, min=30, LCLid='MAC000002', stdorToU='Std', Acorn='ACORN-A', Acorn_grouped='Affluent', file='block_0')\n",
      "Row(DateTime=datetime.datetime(2012, 10, 12, 5, 0), id='MAC000002', std='Std', kwh=0.0, year=2012, month=10, date=12, hour=5, min=0, LCLid='MAC000002', stdorToU='Std', Acorn='ACORN-A', Acorn_grouped='Affluent', file='block_0')\n",
      "Row(DateTime=datetime.datetime(2012, 10, 12, 5, 30), id='MAC000002', std='Std', kwh=0.0, year=2012, month=10, date=12, hour=5, min=30, LCLid='MAC000002', stdorToU='Std', Acorn='ACORN-A', Acorn_grouped='Affluent', file='block_0')\n",
      "Row(DateTime=datetime.datetime(2012, 10, 12, 6, 0), id='MAC000002', std='Std', kwh=0.0, year=2012, month=10, date=12, hour=6, min=0, LCLid='MAC000002', stdorToU='Std', Acorn='ACORN-A', Acorn_grouped='Affluent', file='block_0')\n",
      "Row(DateTime=datetime.datetime(2012, 10, 12, 6, 30), id='MAC000002', std='Std', kwh=0.0, year=2012, month=10, date=12, hour=6, min=30, LCLid='MAC000002', stdorToU='Std', Acorn='ACORN-A', Acorn_grouped='Affluent', file='block_0')\n",
      "Row(DateTime=datetime.datetime(2012, 10, 12, 7, 0), id='MAC000002', std='Std', kwh=0.0, year=2012, month=10, date=12, hour=7, min=0, LCLid='MAC000002', stdorToU='Std', Acorn='ACORN-A', Acorn_grouped='Affluent', file='block_0')\n",
      "Row(DateTime=datetime.datetime(2012, 10, 12, 7, 30), id='MAC000002', std='Std', kwh=0.0, year=2012, month=10, date=12, hour=7, min=30, LCLid='MAC000002', stdorToU='Std', Acorn='ACORN-A', Acorn_grouped='Affluent', file='block_0')\n",
      "Row(DateTime=datetime.datetime(2012, 10, 12, 8, 0), id='MAC000002', std='Std', kwh=0.0, year=2012, month=10, date=12, hour=8, min=0, LCLid='MAC000002', stdorToU='Std', Acorn='ACORN-A', Acorn_grouped='Affluent', file='block_0')\n",
      "Row(DateTime=datetime.datetime(2012, 10, 12, 8, 30), id='MAC000002', std='Std', kwh=0.0, year=2012, month=10, date=12, hour=8, min=30, LCLid='MAC000002', stdorToU='Std', Acorn='ACORN-A', Acorn_grouped='Affluent', file='block_0')\n",
      "Row(DateTime=datetime.datetime(2012, 10, 12, 9, 0), id='MAC000002', std='Std', kwh=0.0, year=2012, month=10, date=12, hour=9, min=0, LCLid='MAC000002', stdorToU='Std', Acorn='ACORN-A', Acorn_grouped='Affluent', file='block_0')\n",
      "Row(DateTime=datetime.datetime(2012, 10, 12, 9, 30), id='MAC000002', std='Std', kwh=0.0, year=2012, month=10, date=12, hour=9, min=30, LCLid='MAC000002', stdorToU='Std', Acorn='ACORN-A', Acorn_grouped='Affluent', file='block_0')\n",
      "Row(DateTime=datetime.datetime(2012, 10, 12, 10, 0), id='MAC000002', std='Std', kwh=0.0, year=2012, month=10, date=12, hour=10, min=0, LCLid='MAC000002', stdorToU='Std', Acorn='ACORN-A', Acorn_grouped='Affluent', file='block_0')\n",
      "Row(DateTime=datetime.datetime(2012, 10, 12, 10, 30), id='MAC000002', std='Std', kwh=0.0, year=2012, month=10, date=12, hour=10, min=30, LCLid='MAC000002', stdorToU='Std', Acorn='ACORN-A', Acorn_grouped='Affluent', file='block_0')\n",
      "Row(DateTime=datetime.datetime(2012, 10, 12, 11, 30), id='MAC000002', std='Std', kwh=0.143, year=2012, month=10, date=12, hour=11, min=30, LCLid='MAC000002', stdorToU='Std', Acorn='ACORN-A', Acorn_grouped='Affluent', file='block_0')\n",
      "Row(DateTime=datetime.datetime(2012, 10, 12, 12, 0), id='MAC000002', std='Std', kwh=0.663, year=2012, month=10, date=12, hour=12, min=0, LCLid='MAC000002', stdorToU='Std', Acorn='ACORN-A', Acorn_grouped='Affluent', file='block_0')\n",
      "Row(DateTime=datetime.datetime(2012, 10, 12, 12, 30), id='MAC000002', std='Std', kwh=0.256, year=2012, month=10, date=12, hour=12, min=30, LCLid='MAC000002', stdorToU='Std', Acorn='ACORN-A', Acorn_grouped='Affluent', file='block_0')\n",
      "Row(DateTime=datetime.datetime(2012, 10, 12, 13, 0), id='MAC000002', std='Std', kwh=0.155, year=2012, month=10, date=12, hour=13, min=0, LCLid='MAC000002', stdorToU='Std', Acorn='ACORN-A', Acorn_grouped='Affluent', file='block_0')\n",
      "Row(DateTime=datetime.datetime(2012, 10, 12, 13, 30), id='MAC000002', std='Std', kwh=0.199, year=2012, month=10, date=12, hour=13, min=30, LCLid='MAC000002', stdorToU='Std', Acorn='ACORN-A', Acorn_grouped='Affluent', file='block_0')\n",
      "Row(DateTime=datetime.datetime(2012, 10, 12, 14, 0), id='MAC000002', std='Std', kwh=0.125, year=2012, month=10, date=12, hour=14, min=0, LCLid='MAC000002', stdorToU='Std', Acorn='ACORN-A', Acorn_grouped='Affluent', file='block_0')\n",
      "Row(DateTime=datetime.datetime(2012, 10, 12, 14, 30), id='MAC000002', std='Std', kwh=0.165, year=2012, month=10, date=12, hour=14, min=30, LCLid='MAC000002', stdorToU='Std', Acorn='ACORN-A', Acorn_grouped='Affluent', file='block_0')\n",
      "Row(DateTime=datetime.datetime(2012, 10, 12, 15, 0), id='MAC000002', std='Std', kwh=0.14, year=2012, month=10, date=12, hour=15, min=0, LCLid='MAC000002', stdorToU='Std', Acorn='ACORN-A', Acorn_grouped='Affluent', file='block_0')\n",
      "Row(DateTime=datetime.datetime(2012, 10, 12, 15, 30), id='MAC000002', std='Std', kwh=0.148, year=2012, month=10, date=12, hour=15, min=30, LCLid='MAC000002', stdorToU='Std', Acorn='ACORN-A', Acorn_grouped='Affluent', file='block_0')\n",
      "Row(DateTime=datetime.datetime(2012, 10, 12, 16, 0), id='MAC000002', std='Std', kwh=0.154, year=2012, month=10, date=12, hour=16, min=0, LCLid='MAC000002', stdorToU='Std', Acorn='ACORN-A', Acorn_grouped='Affluent', file='block_0')\n",
      "Row(DateTime=datetime.datetime(2012, 10, 12, 16, 30), id='MAC000002', std='Std', kwh=0.137, year=2012, month=10, date=12, hour=16, min=30, LCLid='MAC000002', stdorToU='Std', Acorn='ACORN-A', Acorn_grouped='Affluent', file='block_0')\n",
      "Row(DateTime=datetime.datetime(2012, 10, 12, 17, 0), id='MAC000002', std='Std', kwh=0.493, year=2012, month=10, date=12, hour=17, min=0, LCLid='MAC000002', stdorToU='Std', Acorn='ACORN-A', Acorn_grouped='Affluent', file='block_0')\n",
      "Row(DateTime=datetime.datetime(2012, 10, 12, 17, 30), id='MAC000002', std='Std', kwh=0.354, year=2012, month=10, date=12, hour=17, min=30, LCLid='MAC000002', stdorToU='Std', Acorn='ACORN-A', Acorn_grouped='Affluent', file='block_0')\n",
      "Row(DateTime=datetime.datetime(2012, 10, 12, 18, 0), id='MAC000002', std='Std', kwh=0.228, year=2012, month=10, date=12, hour=18, min=0, LCLid='MAC000002', stdorToU='Std', Acorn='ACORN-A', Acorn_grouped='Affluent', file='block_0')\n",
      "Row(DateTime=datetime.datetime(2012, 10, 12, 18, 30), id='MAC000002', std='Std', kwh=0.195, year=2012, month=10, date=12, hour=18, min=30, LCLid='MAC000002', stdorToU='Std', Acorn='ACORN-A', Acorn_grouped='Affluent', file='block_0')\n",
      "Row(DateTime=datetime.datetime(2012, 10, 12, 19, 0), id='MAC000002', std='Std', kwh=0.527, year=2012, month=10, date=12, hour=19, min=0, LCLid='MAC000002', stdorToU='Std', Acorn='ACORN-A', Acorn_grouped='Affluent', file='block_0')\n",
      "Row(DateTime=datetime.datetime(2012, 10, 12, 19, 30), id='MAC000002', std='Std', kwh=0.886, year=2012, month=10, date=12, hour=19, min=30, LCLid='MAC000002', stdorToU='Std', Acorn='ACORN-A', Acorn_grouped='Affluent', file='block_0')\n",
      "Row(DateTime=datetime.datetime(2012, 10, 12, 20, 0), id='MAC000002', std='Std', kwh=0.198, year=2012, month=10, date=12, hour=20, min=0, LCLid='MAC000002', stdorToU='Std', Acorn='ACORN-A', Acorn_grouped='Affluent', file='block_0')\n",
      "Row(DateTime=datetime.datetime(2012, 10, 12, 20, 30), id='MAC000002', std='Std', kwh=0.243, year=2012, month=10, date=12, hour=20, min=30, LCLid='MAC000002', stdorToU='Std', Acorn='ACORN-A', Acorn_grouped='Affluent', file='block_0')\n",
      "Row(DateTime=datetime.datetime(2012, 10, 12, 21, 0), id='MAC000002', std='Std', kwh=0.193, year=2012, month=10, date=12, hour=21, min=0, LCLid='MAC000002', stdorToU='Std', Acorn='ACORN-A', Acorn_grouped='Affluent', file='block_0')\n",
      "Row(DateTime=datetime.datetime(2012, 10, 12, 21, 30), id='MAC000002', std='Std', kwh=0.342, year=2012, month=10, date=12, hour=21, min=30, LCLid='MAC000002', stdorToU='Std', Acorn='ACORN-A', Acorn_grouped='Affluent', file='block_0')\n",
      "Row(DateTime=datetime.datetime(2012, 10, 12, 22, 0), id='MAC000002', std='Std', kwh=0.27, year=2012, month=10, date=12, hour=22, min=0, LCLid='MAC000002', stdorToU='Std', Acorn='ACORN-A', Acorn_grouped='Affluent', file='block_0')\n",
      "Row(DateTime=datetime.datetime(2012, 10, 12, 22, 30), id='MAC000002', std='Std', kwh=0.325, year=2012, month=10, date=12, hour=22, min=30, LCLid='MAC000002', stdorToU='Std', Acorn='ACORN-A', Acorn_grouped='Affluent', file='block_0')\n",
      "Row(DateTime=datetime.datetime(2012, 10, 12, 23, 0), id='MAC000002', std='Std', kwh=0.269, year=2012, month=10, date=12, hour=23, min=0, LCLid='MAC000002', stdorToU='Std', Acorn='ACORN-A', Acorn_grouped='Affluent', file='block_0')\n",
      "Row(DateTime=datetime.datetime(2012, 10, 12, 23, 30), id='MAC000002', std='Std', kwh=0.29, year=2012, month=10, date=12, hour=23, min=30, LCLid='MAC000002', stdorToU='Std', Acorn='ACORN-A', Acorn_grouped='Affluent', file='block_0')\n",
      "Row(DateTime=datetime.datetime(2012, 10, 13, 0, 0), id='MAC000002', std='Std', kwh=0.263, year=2012, month=10, date=13, hour=0, min=0, LCLid='MAC000002', stdorToU='Std', Acorn='ACORN-A', Acorn_grouped='Affluent', file='block_0')\n",
      "Row(DateTime=datetime.datetime(2012, 10, 13, 0, 30), id='MAC000002', std='Std', kwh=0.269, year=2012, month=10, date=13, hour=0, min=30, LCLid='MAC000002', stdorToU='Std', Acorn='ACORN-A', Acorn_grouped='Affluent', file='block_0')\n",
      "Row(DateTime=datetime.datetime(2012, 10, 13, 1, 0), id='MAC000002', std='Std', kwh=0.275, year=2012, month=10, date=13, hour=1, min=0, LCLid='MAC000002', stdorToU='Std', Acorn='ACORN-A', Acorn_grouped='Affluent', file='block_0')\n",
      "Row(DateTime=datetime.datetime(2012, 10, 13, 1, 30), id='MAC000002', std='Std', kwh=0.256, year=2012, month=10, date=13, hour=1, min=30, LCLid='MAC000002', stdorToU='Std', Acorn='ACORN-A', Acorn_grouped='Affluent', file='block_0')\n"
     ]
    }
   ],
   "source": [
    "for i in df4.head(50):\n",
    "    print(i)"
   ]
  },
  {
   "cell_type": "code",
   "execution_count": 83,
   "metadata": {},
   "outputs": [
    {
     "data": {
      "text/plain": [
       "167932474"
      ]
     },
     "execution_count": 83,
     "metadata": {},
     "output_type": "execute_result"
    }
   ],
   "source": [
    "df4.count()"
   ]
  },
  {
   "cell_type": "code",
   "execution_count": null,
   "metadata": {},
   "outputs": [],
   "source": [
    "#move the hours to the coloums "
   ]
  },
  {
   "cell_type": "code",
   "execution_count": 87,
   "metadata": {},
   "outputs": [],
   "source": [
    "pivot_hours = df4.groupby(\"id\",\"year\",\"month\",\"date\",\"std\").pivot(\"hour\").sum(\"kwh\")"
   ]
  },
  {
   "cell_type": "code",
   "execution_count": 88,
   "metadata": {},
   "outputs": [
    {
     "data": {
      "text/plain": [
       "3510433"
      ]
     },
     "execution_count": 88,
     "metadata": {},
     "output_type": "execute_result"
    }
   ],
   "source": [
    "#Total Rows of pivot \n",
    "pivot_hours.count()"
   ]
  },
  {
   "cell_type": "code",
   "execution_count": 90,
   "metadata": {},
   "outputs": [
    {
     "data": {
      "text/plain": [
       "[Row(id='MAC000022', year=2011, month=12, date=7, std='Std', 0=None, 1=None, 2=None, 3=None, 4=None, 5=None, 6=None, 7=None, 8=None, 9=None, 10=0.533, 11=0.453, 12=0.41800000000000004, 13=0.426, 14=0.478, 15=0.367, 16=0.495, 17=0.523, 18=0.688, 19=0.591, 20=0.657, 21=0.669, 22=0.772, 23=0.6930000000000001),\n",
       " Row(id='MAC000022', year=2011, month=12, date=8, std='Std', 0=0.623, 1=0.604, 2=0.265, 3=0.255, 4=0.259, 5=0.246, 6=0.251, 7=0.241, 8=0.318, 9=0.46399999999999997, 10=0.487, 11=0.378, 12=0.523, 13=0.43600000000000005, 14=0.434, 15=0.361, 16=0.565, 17=0.499, 18=0.6910000000000001, 19=0.586, 20=0.5489999999999999, 21=1.033, 22=1.078, 23=0.635),\n",
       " Row(id='MAC000022', year=2011, month=12, date=9, std='Std', 0=0.665, 1=0.6439999999999999, 2=0.47300000000000003, 3=0.269, 4=0.245, 5=0.243, 6=0.245, 7=0.237, 8=0.313, 9=0.321, 10=0.6439999999999999, 11=0.365, 12=0.398, 13=0.51, 14=0.445, 15=0.359, 16=0.528, 17=0.63, 18=0.644, 19=0.621, 20=0.585, 21=0.536, 22=0.614, 23=0.679),\n",
       " Row(id='MAC000022', year=2011, month=12, date=10, std='Std', 0=0.631, 1=0.565, 2=0.274, 3=0.256, 4=0.263, 5=0.255, 6=0.238, 7=0.247, 8=0.31, 9=0.319, 10=0.40900000000000003, 11=0.40700000000000003, 12=0.445, 13=0.439, 14=0.355, 15=0.471, 16=0.482, 17=0.741, 18=0.6890000000000001, 19=0.597, 20=0.627, 21=0.512, 22=0.768, 23=0.747),\n",
       " Row(id='MAC000022', year=2011, month=12, date=11, std='Std', 0=0.614, 1=0.663, 2=0.533, 3=0.327, 4=0.262, 5=0.5820000000000001, 6=2.2270000000000003, 7=0.319, 8=0.328, 9=0.328, 10=0.311, 11=0.333, 12=0.368, 13=0.498, 14=0.383, 15=0.353, 16=0.577, 17=0.516, 18=0.59, 19=0.7150000000000001, 20=0.5760000000000001, 21=1.08, 22=0.617, 23=0.644)]"
      ]
     },
     "execution_count": 90,
     "metadata": {},
     "output_type": "execute_result"
    }
   ],
   "source": [
    "pivot_hours.head(5)"
   ]
  },
  {
   "cell_type": "code",
   "execution_count": 91,
   "metadata": {},
   "outputs": [
    {
     "data": {
      "text/plain": [
       "pyspark.sql.dataframe.DataFrame"
      ]
     },
     "execution_count": 91,
     "metadata": {},
     "output_type": "execute_result"
    }
   ],
   "source": [
    "type(pivot_hours)"
   ]
  },
  {
   "cell_type": "code",
   "execution_count": 101,
   "metadata": {},
   "outputs": [
    {
     "ename": "Py4JJavaError",
     "evalue": "An error occurred while calling o420.collectToPython.\n: java.lang.OutOfMemoryError: Java heap space\n",
     "output_type": "error",
     "traceback": [
      "\u001B[0;31m---------------------------------------------------------------------------\u001B[0m",
      "\u001B[0;31mPy4JJavaError\u001B[0m                             Traceback (most recent call last)",
      "\u001B[0;32m<ipython-input-101-1c959cd1f5f2>\u001B[0m in \u001B[0;36m<module>\u001B[0;34m\u001B[0m\n\u001B[0;32m----> 1\u001B[0;31m \u001B[0mpivot_hours_df\u001B[0m\u001B[0;34m=\u001B[0m\u001B[0mpivot_hours\u001B[0m\u001B[0;34m.\u001B[0m\u001B[0mtoPandas\u001B[0m\u001B[0;34m(\u001B[0m\u001B[0;34m)\u001B[0m\u001B[0;34m\u001B[0m\u001B[0;34m\u001B[0m\u001B[0m\n\u001B[0m",
      "\u001B[0;32m~/PycharmProjects/NoSql_Data_Model/venv/lib/python3.8/site-packages/pyspark/sql/pandas/conversion.py\u001B[0m in \u001B[0;36mtoPandas\u001B[0;34m(self)\u001B[0m\n\u001B[1;32m    155\u001B[0m \u001B[0;34m\u001B[0m\u001B[0m\n\u001B[1;32m    156\u001B[0m         \u001B[0;31m# Below is toPandas without Arrow optimization.\u001B[0m\u001B[0;34m\u001B[0m\u001B[0;34m\u001B[0m\u001B[0;34m\u001B[0m\u001B[0m\n\u001B[0;32m--> 157\u001B[0;31m         \u001B[0mpdf\u001B[0m \u001B[0;34m=\u001B[0m \u001B[0mpd\u001B[0m\u001B[0;34m.\u001B[0m\u001B[0mDataFrame\u001B[0m\u001B[0;34m.\u001B[0m\u001B[0mfrom_records\u001B[0m\u001B[0;34m(\u001B[0m\u001B[0mself\u001B[0m\u001B[0;34m.\u001B[0m\u001B[0mcollect\u001B[0m\u001B[0;34m(\u001B[0m\u001B[0;34m)\u001B[0m\u001B[0;34m,\u001B[0m \u001B[0mcolumns\u001B[0m\u001B[0;34m=\u001B[0m\u001B[0mself\u001B[0m\u001B[0;34m.\u001B[0m\u001B[0mcolumns\u001B[0m\u001B[0;34m)\u001B[0m\u001B[0;34m\u001B[0m\u001B[0;34m\u001B[0m\u001B[0m\n\u001B[0m\u001B[1;32m    158\u001B[0m         \u001B[0mcolumn_counter\u001B[0m \u001B[0;34m=\u001B[0m \u001B[0mCounter\u001B[0m\u001B[0;34m(\u001B[0m\u001B[0mself\u001B[0m\u001B[0;34m.\u001B[0m\u001B[0mcolumns\u001B[0m\u001B[0;34m)\u001B[0m\u001B[0;34m\u001B[0m\u001B[0;34m\u001B[0m\u001B[0m\n\u001B[1;32m    159\u001B[0m \u001B[0;34m\u001B[0m\u001B[0m\n",
      "\u001B[0;32m~/PycharmProjects/NoSql_Data_Model/venv/lib/python3.8/site-packages/pyspark/sql/dataframe.py\u001B[0m in \u001B[0;36mcollect\u001B[0;34m(self)\u001B[0m\n\u001B[1;32m    691\u001B[0m         \"\"\"\n\u001B[1;32m    692\u001B[0m         \u001B[0;32mwith\u001B[0m \u001B[0mSCCallSiteSync\u001B[0m\u001B[0;34m(\u001B[0m\u001B[0mself\u001B[0m\u001B[0;34m.\u001B[0m\u001B[0m_sc\u001B[0m\u001B[0;34m)\u001B[0m \u001B[0;32mas\u001B[0m \u001B[0mcss\u001B[0m\u001B[0;34m:\u001B[0m\u001B[0;34m\u001B[0m\u001B[0;34m\u001B[0m\u001B[0m\n\u001B[0;32m--> 693\u001B[0;31m             \u001B[0msock_info\u001B[0m \u001B[0;34m=\u001B[0m \u001B[0mself\u001B[0m\u001B[0;34m.\u001B[0m\u001B[0m_jdf\u001B[0m\u001B[0;34m.\u001B[0m\u001B[0mcollectToPython\u001B[0m\u001B[0;34m(\u001B[0m\u001B[0;34m)\u001B[0m\u001B[0;34m\u001B[0m\u001B[0;34m\u001B[0m\u001B[0m\n\u001B[0m\u001B[1;32m    694\u001B[0m         \u001B[0;32mreturn\u001B[0m \u001B[0mlist\u001B[0m\u001B[0;34m(\u001B[0m\u001B[0m_load_from_socket\u001B[0m\u001B[0;34m(\u001B[0m\u001B[0msock_info\u001B[0m\u001B[0;34m,\u001B[0m \u001B[0mBatchedSerializer\u001B[0m\u001B[0;34m(\u001B[0m\u001B[0mPickleSerializer\u001B[0m\u001B[0;34m(\u001B[0m\u001B[0;34m)\u001B[0m\u001B[0;34m)\u001B[0m\u001B[0;34m)\u001B[0m\u001B[0;34m)\u001B[0m\u001B[0;34m\u001B[0m\u001B[0;34m\u001B[0m\u001B[0m\n\u001B[1;32m    695\u001B[0m \u001B[0;34m\u001B[0m\u001B[0m\n",
      "\u001B[0;32m~/PycharmProjects/NoSql_Data_Model/venv/lib/python3.8/site-packages/py4j/java_gateway.py\u001B[0m in \u001B[0;36m__call__\u001B[0;34m(self, *args)\u001B[0m\n\u001B[1;32m   1319\u001B[0m \u001B[0;34m\u001B[0m\u001B[0m\n\u001B[1;32m   1320\u001B[0m         \u001B[0manswer\u001B[0m \u001B[0;34m=\u001B[0m \u001B[0mself\u001B[0m\u001B[0;34m.\u001B[0m\u001B[0mgateway_client\u001B[0m\u001B[0;34m.\u001B[0m\u001B[0msend_command\u001B[0m\u001B[0;34m(\u001B[0m\u001B[0mcommand\u001B[0m\u001B[0;34m)\u001B[0m\u001B[0;34m\u001B[0m\u001B[0;34m\u001B[0m\u001B[0m\n\u001B[0;32m-> 1321\u001B[0;31m         return_value = get_return_value(\n\u001B[0m\u001B[1;32m   1322\u001B[0m             answer, self.gateway_client, self.target_id, self.name)\n\u001B[1;32m   1323\u001B[0m \u001B[0;34m\u001B[0m\u001B[0m\n",
      "\u001B[0;32m~/PycharmProjects/NoSql_Data_Model/venv/lib/python3.8/site-packages/pyspark/sql/utils.py\u001B[0m in \u001B[0;36mdeco\u001B[0;34m(*a, **kw)\u001B[0m\n\u001B[1;32m    109\u001B[0m     \u001B[0;32mdef\u001B[0m \u001B[0mdeco\u001B[0m\u001B[0;34m(\u001B[0m\u001B[0;34m*\u001B[0m\u001B[0ma\u001B[0m\u001B[0;34m,\u001B[0m \u001B[0;34m**\u001B[0m\u001B[0mkw\u001B[0m\u001B[0;34m)\u001B[0m\u001B[0;34m:\u001B[0m\u001B[0;34m\u001B[0m\u001B[0;34m\u001B[0m\u001B[0m\n\u001B[1;32m    110\u001B[0m         \u001B[0;32mtry\u001B[0m\u001B[0;34m:\u001B[0m\u001B[0;34m\u001B[0m\u001B[0;34m\u001B[0m\u001B[0m\n\u001B[0;32m--> 111\u001B[0;31m             \u001B[0;32mreturn\u001B[0m \u001B[0mf\u001B[0m\u001B[0;34m(\u001B[0m\u001B[0;34m*\u001B[0m\u001B[0ma\u001B[0m\u001B[0;34m,\u001B[0m \u001B[0;34m**\u001B[0m\u001B[0mkw\u001B[0m\u001B[0;34m)\u001B[0m\u001B[0;34m\u001B[0m\u001B[0;34m\u001B[0m\u001B[0m\n\u001B[0m\u001B[1;32m    112\u001B[0m         \u001B[0;32mexcept\u001B[0m \u001B[0mpy4j\u001B[0m\u001B[0;34m.\u001B[0m\u001B[0mprotocol\u001B[0m\u001B[0;34m.\u001B[0m\u001B[0mPy4JJavaError\u001B[0m \u001B[0;32mas\u001B[0m \u001B[0me\u001B[0m\u001B[0;34m:\u001B[0m\u001B[0;34m\u001B[0m\u001B[0;34m\u001B[0m\u001B[0m\n\u001B[1;32m    113\u001B[0m             \u001B[0mconverted\u001B[0m \u001B[0;34m=\u001B[0m \u001B[0mconvert_exception\u001B[0m\u001B[0;34m(\u001B[0m\u001B[0me\u001B[0m\u001B[0;34m.\u001B[0m\u001B[0mjava_exception\u001B[0m\u001B[0;34m)\u001B[0m\u001B[0;34m\u001B[0m\u001B[0;34m\u001B[0m\u001B[0m\n",
      "\u001B[0;32m~/PycharmProjects/NoSql_Data_Model/venv/lib/python3.8/site-packages/py4j/protocol.py\u001B[0m in \u001B[0;36mget_return_value\u001B[0;34m(answer, gateway_client, target_id, name)\u001B[0m\n\u001B[1;32m    324\u001B[0m             \u001B[0mvalue\u001B[0m \u001B[0;34m=\u001B[0m \u001B[0mOUTPUT_CONVERTER\u001B[0m\u001B[0;34m[\u001B[0m\u001B[0mtype\u001B[0m\u001B[0;34m]\u001B[0m\u001B[0;34m(\u001B[0m\u001B[0manswer\u001B[0m\u001B[0;34m[\u001B[0m\u001B[0;36m2\u001B[0m\u001B[0;34m:\u001B[0m\u001B[0;34m]\u001B[0m\u001B[0;34m,\u001B[0m \u001B[0mgateway_client\u001B[0m\u001B[0;34m)\u001B[0m\u001B[0;34m\u001B[0m\u001B[0;34m\u001B[0m\u001B[0m\n\u001B[1;32m    325\u001B[0m             \u001B[0;32mif\u001B[0m \u001B[0manswer\u001B[0m\u001B[0;34m[\u001B[0m\u001B[0;36m1\u001B[0m\u001B[0;34m]\u001B[0m \u001B[0;34m==\u001B[0m \u001B[0mREFERENCE_TYPE\u001B[0m\u001B[0;34m:\u001B[0m\u001B[0;34m\u001B[0m\u001B[0;34m\u001B[0m\u001B[0m\n\u001B[0;32m--> 326\u001B[0;31m                 raise Py4JJavaError(\n\u001B[0m\u001B[1;32m    327\u001B[0m                     \u001B[0;34m\"An error occurred while calling {0}{1}{2}.\\n\"\u001B[0m\u001B[0;34m.\u001B[0m\u001B[0;34m\u001B[0m\u001B[0;34m\u001B[0m\u001B[0m\n\u001B[1;32m    328\u001B[0m                     format(target_id, \".\", name), value)\n",
      "\u001B[0;31mPy4JJavaError\u001B[0m: An error occurred while calling o420.collectToPython.\n: java.lang.OutOfMemoryError: Java heap space\n"
     ]
    }
   ],
   "source": [
    "pivot_hours_df=pivot_hours.toPandas()"
   ]
  },
  {
   "cell_type": "code",
   "execution_count": 102,
   "metadata": {},
   "outputs": [
    {
     "data": {
      "text/plain": [
       "<pyspark.sql.readwriter.DataFrameWriterV2 at 0x7f64281caeb0>"
      ]
     },
     "execution_count": 102,
     "metadata": {},
     "output_type": "execute_result"
    }
   ],
   "source": [
    "pivot_hours.writeTo(\"pivot_hours.csv\")"
   ]
  },
  {
   "cell_type": "code",
   "execution_count": 103,
   "metadata": {},
   "outputs": [],
   "source": [
    "pivot_hours.write.format(\"csv\").save(\"pivot_hours\")"
   ]
  },
  {
   "cell_type": "code",
   "execution_count": null,
   "metadata": {},
   "outputs": [],
   "source": [
    "type(pivot_hours_df)"
   ]
  },
  {
   "cell_type": "code",
   "execution_count": 20,
   "metadata": {},
   "outputs": [
    {
     "name": "stdout",
     "output_type": "stream",
     "text": [
      "root\n",
      " |-- DateTime: timestamp (nullable = true)\n",
      " |-- id: string (nullable = true)\n",
      " |-- std: string (nullable = true)\n",
      " |-- kwh: double (nullable = true)\n",
      " |-- year: integer (nullable = true)\n",
      " |-- month: integer (nullable = true)\n",
      " |-- date: integer (nullable = true)\n",
      " |-- hour: integer (nullable = true)\n",
      " |-- min: integer (nullable = true)\n",
      " |-- LCLid: string (nullable = true)\n",
      " |-- stdorToU: string (nullable = true)\n",
      " |-- Acorn: string (nullable = true)\n",
      " |-- Acorn_grouped: string (nullable = true)\n",
      " |-- file: string (nullable = true)\n",
      "\n"
     ]
    }
   ],
   "source": [
    "for i in"
   ]
  },
  {
   "cell_type": "code",
   "execution_count": 74,
   "metadata": {},
   "outputs": [],
   "source": [
    "from pyspark.sql import functions as f\n",
    "df_all_statistics=df4.groupby(\"id\",\"std\",\"year\",\"month\",\"date\").agg(f.sum(\"kwh\"),f.avg(\"kwh\"),f.max(\"kwh\"),f.min(\"kwh\"),f.count(\"kwh\"),f.stddev_pop(\"kwh\"))"
   ]
  },
  {
   "cell_type": "code",
   "execution_count": 73,
   "metadata": {},
   "outputs": [],
   "source": [
    "st=df_all_statistics.toPandas"
   ]
  },
  {
   "cell_type": "code",
   "execution_count": null,
   "metadata": {},
   "outputs": [],
   "source": []
  },
  {
   "cell_type": "code",
   "execution_count": null,
   "metadata": {},
   "outputs": [],
   "source": [
    "#########################\n",
    "#Aggregate  per Year\n",
    "######################"
   ]
  },
  {
   "cell_type": "code",
   "execution_count": null,
   "metadata": {},
   "outputs": [],
   "source": []
  },
  {
   "cell_type": "code",
   "execution_count": null,
   "metadata": {},
   "outputs": [],
   "source": []
  },
  {
   "cell_type": "code",
   "execution_count": 32,
   "metadata": {},
   "outputs": [],
   "source": [
    "Energy_Total= df4.groupby(\"year\").sum(\"kwh\")"
   ]
  },
  {
   "cell_type": "code",
   "execution_count": 36,
   "metadata": {},
   "outputs": [],
   "source": [
    "Energy_Total_df=Energy_Total.toPandas()"
   ]
  },
  {
   "cell_type": "code",
   "execution_count": 38,
   "metadata": {},
   "outputs": [
    {
     "data": {
      "text/plain": [
       "pandas.core.frame.DataFrame"
      ]
     },
     "execution_count": 38,
     "metadata": {},
     "output_type": "execute_result"
    }
   ],
   "source": [
    "type(Energy_Total_df)"
   ]
  },
  {
   "cell_type": "code",
   "execution_count": 39,
   "metadata": {},
   "outputs": [
    {
     "data": {
      "text/html": [
       "<div>\n",
       "<style scoped>\n",
       "    .dataframe tbody tr th:only-of-type {\n",
       "        vertical-align: middle;\n",
       "    }\n",
       "\n",
       "    .dataframe tbody tr th {\n",
       "        vertical-align: top;\n",
       "    }\n",
       "\n",
       "    .dataframe thead th {\n",
       "        text-align: right;\n",
       "    }\n",
       "</style>\n",
       "<table border=\"1\" class=\"dataframe\">\n",
       "  <thead>\n",
       "    <tr style=\"text-align: right;\">\n",
       "      <th></th>\n",
       "      <th>year</th>\n",
       "      <th>sum(kwh)</th>\n",
       "    </tr>\n",
       "  </thead>\n",
       "  <tbody>\n",
       "    <tr>\n",
       "      <th>0</th>\n",
       "      <td>2013</td>\n",
       "      <td>1.962773e+07</td>\n",
       "    </tr>\n",
       "    <tr>\n",
       "      <th>1</th>\n",
       "      <td>2014</td>\n",
       "      <td>3.333727e+06</td>\n",
       "    </tr>\n",
       "    <tr>\n",
       "      <th>2</th>\n",
       "      <td>2012</td>\n",
       "      <td>1.249532e+07</td>\n",
       "    </tr>\n",
       "    <tr>\n",
       "      <th>3</th>\n",
       "      <td>2011</td>\n",
       "      <td>1.039318e+05</td>\n",
       "    </tr>\n",
       "  </tbody>\n",
       "</table>\n",
       "</div>"
      ],
      "text/plain": [
       "   year      sum(kwh)\n",
       "0  2013  1.962773e+07\n",
       "1  2014  3.333727e+06\n",
       "2  2012  1.249532e+07\n",
       "3  2011  1.039318e+05"
      ]
     },
     "execution_count": 39,
     "metadata": {},
     "output_type": "execute_result"
    }
   ],
   "source": [
    "Energy_Total_df"
   ]
  },
  {
   "cell_type": "code",
   "execution_count": 40,
   "metadata": {},
   "outputs": [
    {
     "data": {
      "text/plain": [
       "<AxesSubplot:ylabel='year'>"
      ]
     },
     "execution_count": 40,
     "metadata": {},
     "output_type": "execute_result"
    },
    {
     "data": {
      "image/png": "[encoded data removed]",
      "text/plain": [
       "<Figure size 432x288 with 1 Axes>"
      ]
     },
     "metadata": {
      "needs_background": "light"
     },
     "output_type": "display_data"
    }
   ],
   "source": [
    "Energy_Total_df.plot(kind='barh',x='year',y='sum(kwh)',colormap='winter_r')"
   ]
  },
  {
   "cell_type": "code",
   "execution_count": 43,
   "metadata": {},
   "outputs": [],
   "source": [
    "Energy_Total_hour= df4.groupby(\"hour\").sum(\"kwh\").orderBy(\"hour\")"
   ]
  },
  {
   "cell_type": "code",
   "execution_count": 44,
   "metadata": {},
   "outputs": [],
   "source": [
    "Energy_Total__hour_df=Energy_Total_hour.toPandas()"
   ]
  },
  {
   "cell_type": "code",
   "execution_count": 45,
   "metadata": {},
   "outputs": [
    {
     "data": {
      "text/html": [
       "<div>\n",
       "<style scoped>\n",
       "    .dataframe tbody tr th:only-of-type {\n",
       "        vertical-align: middle;\n",
       "    }\n",
       "\n",
       "    .dataframe tbody tr th {\n",
       "        vertical-align: top;\n",
       "    }\n",
       "\n",
       "    .dataframe thead th {\n",
       "        text-align: right;\n",
       "    }\n",
       "</style>\n",
       "<table border=\"1\" class=\"dataframe\">\n",
       "  <thead>\n",
       "    <tr style=\"text-align: right;\">\n",
       "      <th></th>\n",
       "      <th>hour</th>\n",
       "      <th>sum(kwh)</th>\n",
       "    </tr>\n",
       "  </thead>\n",
       "  <tbody>\n",
       "    <tr>\n",
       "      <th>0</th>\n",
       "      <td>0</td>\n",
       "      <td>1.239179e+06</td>\n",
       "    </tr>\n",
       "    <tr>\n",
       "      <th>1</th>\n",
       "      <td>1</td>\n",
       "      <td>1.012919e+06</td>\n",
       "    </tr>\n",
       "    <tr>\n",
       "      <th>2</th>\n",
       "      <td>2</td>\n",
       "      <td>8.718021e+05</td>\n",
       "    </tr>\n",
       "    <tr>\n",
       "      <th>3</th>\n",
       "      <td>3</td>\n",
       "      <td>8.060688e+05</td>\n",
       "    </tr>\n",
       "    <tr>\n",
       "      <th>4</th>\n",
       "      <td>4</td>\n",
       "      <td>8.017403e+05</td>\n",
       "    </tr>\n",
       "    <tr>\n",
       "      <th>5</th>\n",
       "      <td>5</td>\n",
       "      <td>8.784814e+05</td>\n",
       "    </tr>\n",
       "    <tr>\n",
       "      <th>6</th>\n",
       "      <td>6</td>\n",
       "      <td>1.098781e+06</td>\n",
       "    </tr>\n",
       "    <tr>\n",
       "      <th>7</th>\n",
       "      <td>7</td>\n",
       "      <td>1.346582e+06</td>\n",
       "    </tr>\n",
       "    <tr>\n",
       "      <th>8</th>\n",
       "      <td>8</td>\n",
       "      <td>1.491711e+06</td>\n",
       "    </tr>\n",
       "    <tr>\n",
       "      <th>9</th>\n",
       "      <td>9</td>\n",
       "      <td>1.508027e+06</td>\n",
       "    </tr>\n",
       "    <tr>\n",
       "      <th>10</th>\n",
       "      <td>10</td>\n",
       "      <td>1.495790e+06</td>\n",
       "    </tr>\n",
       "    <tr>\n",
       "      <th>11</th>\n",
       "      <td>11</td>\n",
       "      <td>1.497628e+06</td>\n",
       "    </tr>\n",
       "    <tr>\n",
       "      <th>12</th>\n",
       "      <td>12</td>\n",
       "      <td>1.513430e+06</td>\n",
       "    </tr>\n",
       "    <tr>\n",
       "      <th>13</th>\n",
       "      <td>13</td>\n",
       "      <td>1.499494e+06</td>\n",
       "    </tr>\n",
       "    <tr>\n",
       "      <th>14</th>\n",
       "      <td>14</td>\n",
       "      <td>1.472686e+06</td>\n",
       "    </tr>\n",
       "    <tr>\n",
       "      <th>15</th>\n",
       "      <td>15</td>\n",
       "      <td>1.512699e+06</td>\n",
       "    </tr>\n",
       "    <tr>\n",
       "      <th>16</th>\n",
       "      <td>16</td>\n",
       "      <td>1.689039e+06</td>\n",
       "    </tr>\n",
       "    <tr>\n",
       "      <th>17</th>\n",
       "      <td>17</td>\n",
       "      <td>1.967848e+06</td>\n",
       "    </tr>\n",
       "    <tr>\n",
       "      <th>18</th>\n",
       "      <td>18</td>\n",
       "      <td>2.183588e+06</td>\n",
       "    </tr>\n",
       "    <tr>\n",
       "      <th>19</th>\n",
       "      <td>19</td>\n",
       "      <td>2.244912e+06</td>\n",
       "    </tr>\n",
       "    <tr>\n",
       "      <th>20</th>\n",
       "      <td>20</td>\n",
       "      <td>2.188769e+06</td>\n",
       "    </tr>\n",
       "    <tr>\n",
       "      <th>21</th>\n",
       "      <td>21</td>\n",
       "      <td>2.055869e+06</td>\n",
       "    </tr>\n",
       "    <tr>\n",
       "      <th>22</th>\n",
       "      <td>22</td>\n",
       "      <td>1.778870e+06</td>\n",
       "    </tr>\n",
       "    <tr>\n",
       "      <th>23</th>\n",
       "      <td>23</td>\n",
       "      <td>1.404795e+06</td>\n",
       "    </tr>\n",
       "  </tbody>\n",
       "</table>\n",
       "</div>"
      ],
      "text/plain": [
       "    hour      sum(kwh)\n",
       "0      0  1.239179e+06\n",
       "1      1  1.012919e+06\n",
       "2      2  8.718021e+05\n",
       "3      3  8.060688e+05\n",
       "4      4  8.017403e+05\n",
       "5      5  8.784814e+05\n",
       "6      6  1.098781e+06\n",
       "7      7  1.346582e+06\n",
       "8      8  1.491711e+06\n",
       "9      9  1.508027e+06\n",
       "10    10  1.495790e+06\n",
       "11    11  1.497628e+06\n",
       "12    12  1.513430e+06\n",
       "13    13  1.499494e+06\n",
       "14    14  1.472686e+06\n",
       "15    15  1.512699e+06\n",
       "16    16  1.689039e+06\n",
       "17    17  1.967848e+06\n",
       "18    18  2.183588e+06\n",
       "19    19  2.244912e+06\n",
       "20    20  2.188769e+06\n",
       "21    21  2.055869e+06\n",
       "22    22  1.778870e+06\n",
       "23    23  1.404795e+06"
      ]
     },
     "execution_count": 45,
     "metadata": {},
     "output_type": "execute_result"
    }
   ],
   "source": [
    "Energy_Total__hour_df"
   ]
  },
  {
   "cell_type": "code",
   "execution_count": 48,
   "metadata": {},
   "outputs": [
    {
     "data": {
      "text/plain": [
       "<AxesSubplot:xlabel='hour'>"
      ]
     },
     "execution_count": 48,
     "metadata": {},
     "output_type": "execute_result"
    },
    {
     "data": {
      "image/png": "[encoded data removed]",
      "text/plain": [
       "<Figure size 432x288 with 1 Axes>"
      ]
     },
     "metadata": {
      "needs_background": "light"
     },
     "output_type": "display_data"
    }
   ],
   "source": [
    "Energy_Total__hour_df.plot(kind='line',x='hour',y='sum(kwh)',colormap='winter_r')"
   ]
  },
  {
   "cell_type": "code",
   "execution_count": 59,
   "metadata": {},
   "outputs": [],
   "source": [
    "Energy_Total_month= df4.groupby(\"month\").sum(\"kwh\").orderBy(\"month\")"
   ]
  },
  {
   "cell_type": "code",
   "execution_count": 60,
   "metadata": {},
   "outputs": [],
   "source": [
    "Energy_Total__month_df=Energy_Total_month.toPandas()"
   ]
  },
  {
   "cell_type": "code",
   "execution_count": 62,
   "metadata": {},
   "outputs": [
    {
     "data": {
      "text/html": [
       "<div>\n",
       "<style scoped>\n",
       "    .dataframe tbody tr th:only-of-type {\n",
       "        vertical-align: middle;\n",
       "    }\n",
       "\n",
       "    .dataframe tbody tr th {\n",
       "        vertical-align: top;\n",
       "    }\n",
       "\n",
       "    .dataframe thead th {\n",
       "        text-align: right;\n",
       "    }\n",
       "</style>\n",
       "<table border=\"1\" class=\"dataframe\">\n",
       "  <thead>\n",
       "    <tr style=\"text-align: right;\">\n",
       "      <th></th>\n",
       "      <th>month</th>\n",
       "      <th>sum(kwh)</th>\n",
       "    </tr>\n",
       "  </thead>\n",
       "  <tbody>\n",
       "    <tr>\n",
       "      <th>0</th>\n",
       "      <td>1</td>\n",
       "      <td>4.162616e+06</td>\n",
       "    </tr>\n",
       "    <tr>\n",
       "      <th>1</th>\n",
       "      <td>2</td>\n",
       "      <td>3.696300e+06</td>\n",
       "    </tr>\n",
       "    <tr>\n",
       "      <th>2</th>\n",
       "      <td>3</td>\n",
       "      <td>2.391070e+06</td>\n",
       "    </tr>\n",
       "    <tr>\n",
       "      <th>3</th>\n",
       "      <td>4</td>\n",
       "      <td>2.125795e+06</td>\n",
       "    </tr>\n",
       "    <tr>\n",
       "      <th>4</th>\n",
       "      <td>5</td>\n",
       "      <td>2.284001e+06</td>\n",
       "    </tr>\n",
       "    <tr>\n",
       "      <th>5</th>\n",
       "      <td>6</td>\n",
       "      <td>2.349512e+06</td>\n",
       "    </tr>\n",
       "    <tr>\n",
       "      <th>6</th>\n",
       "      <td>7</td>\n",
       "      <td>2.510983e+06</td>\n",
       "    </tr>\n",
       "    <tr>\n",
       "      <th>7</th>\n",
       "      <td>8</td>\n",
       "      <td>2.480945e+06</td>\n",
       "    </tr>\n",
       "    <tr>\n",
       "      <th>8</th>\n",
       "      <td>9</td>\n",
       "      <td>2.649542e+06</td>\n",
       "    </tr>\n",
       "    <tr>\n",
       "      <th>9</th>\n",
       "      <td>10</td>\n",
       "      <td>3.203642e+06</td>\n",
       "    </tr>\n",
       "    <tr>\n",
       "      <th>10</th>\n",
       "      <td>11</td>\n",
       "      <td>3.619664e+06</td>\n",
       "    </tr>\n",
       "    <tr>\n",
       "      <th>11</th>\n",
       "      <td>12</td>\n",
       "      <td>4.086640e+06</td>\n",
       "    </tr>\n",
       "  </tbody>\n",
       "</table>\n",
       "</div>"
      ],
      "text/plain": [
       "    month      sum(kwh)\n",
       "0       1  4.162616e+06\n",
       "1       2  3.696300e+06\n",
       "2       3  2.391070e+06\n",
       "3       4  2.125795e+06\n",
       "4       5  2.284001e+06\n",
       "5       6  2.349512e+06\n",
       "6       7  2.510983e+06\n",
       "7       8  2.480945e+06\n",
       "8       9  2.649542e+06\n",
       "9      10  3.203642e+06\n",
       "10     11  3.619664e+06\n",
       "11     12  4.086640e+06"
      ]
     },
     "execution_count": 62,
     "metadata": {},
     "output_type": "execute_result"
    }
   ],
   "source": [
    "Energy_Total__month_df"
   ]
  },
  {
   "cell_type": "code",
   "execution_count": 63,
   "metadata": {},
   "outputs": [
    {
     "data": {
      "text/plain": [
       "<AxesSubplot:xlabel='month'>"
      ]
     },
     "execution_count": 63,
     "metadata": {},
     "output_type": "execute_result"
    },
    {
     "data": {
      "image/png": "[encoded data removed]",
      "text/plain": [
       "<Figure size 432x288 with 1 Axes>"
      ]
     },
     "metadata": {
      "needs_background": "light"
     },
     "output_type": "display_data"
    }
   ],
   "source": [
    "Energy_Total__month_df.plot(kind='line',x='month',y='sum(kwh)',colormap='winter_r')"
   ]
  },
  {
   "cell_type": "code",
   "execution_count": null,
   "metadata": {},
   "outputs": [],
   "source": []
  },
  {
   "cell_type": "code",
   "execution_count": null,
   "metadata": {},
   "outputs": [],
   "source": []
  },
  {
   "cell_type": "code",
   "execution_count": null,
   "metadata": {},
   "outputs": [],
   "source": []
  },
  {
   "cell_type": "code",
   "execution_count": null,
   "metadata": {},
   "outputs": [],
   "source": [
    "#create new dataset move the  hours from rows to coloumns "
   ]
  },
  {
   "cell_type": "code",
   "execution_count": null,
   "metadata": {},
   "outputs": [],
   "source": [
    "pivot_Energy = df_4.groupby(\"id\",\"year\",\"month\",\"date\").pivot(\"hour\").sum(\"kwh\")"
   ]
  },
  {
   "cell_type": "code",
   "execution_count": null,
   "metadata": {},
   "outputs": [],
   "source": []
  },
  {
   "cell_type": "code",
   "execution_count": null,
   "metadata": {},
   "outputs": [],
   "source": []
  },
  {
   "cell_type": "code",
   "execution_count": 14,
   "metadata": {},
   "outputs": [
    {
     "name": "stdout",
     "output_type": "stream",
     "text": [
      "Before casting\n",
      "root\n",
      " |-- id: string (nullable = true)\n",
      " |-- std: string (nullable = true)\n",
      " |-- year: integer (nullable = true)\n",
      " |-- month: integer (nullable = true)\n",
      " |-- date: integer (nullable = true)\n",
      " |-- hour: integer (nullable = true)\n",
      " |-- sum(kwh): double (nullable = true)\n",
      "\n",
      "After casting\n",
      "root\n",
      " |-- id: string (nullable = true)\n",
      " |-- std: string (nullable = true)\n",
      " |-- year: integer (nullable = true)\n",
      " |-- month: integer (nullable = true)\n",
      " |-- date: integer (nullable = true)\n",
      " |-- hour: integer (nullable = true)\n",
      " |-- sum(kwh): double (nullable = true)\n",
      " |-- hours: integer (nullable = true)\n",
      "\n"
     ]
    }
   ],
   "source": [
    "#For each household id take thje hrous to coloumn and the agragate with the total energy co\n",
    "df8=df5.groupby(\"id\",\"std\",\"year\",\"month\",\"date\",\"hour\").sum(\"kwh\")\n",
    "\n",
    "\n",
    "print(\"Before casting\")\n",
    "df8.printSchema()\n",
    "df8_hours=df8.withColumn(\"hours\",df8['hour'].cast('integer'))\n",
    "print(\"After casting\")\n",
    "df8_hours.printSchema()\n",
    "\n",
    "pivot_df = df8_hours.groupby(\"id\",\"year\",\"month\",\"date\").pivot(\"hours\").sum(\"sum(kwh)\")\n",
    "\n",
    "\n",
    "#apply for all data in the dataset the aggregation sums\n",
    "\n",
    "#first we aggregate in hours , in this data set we have every half hour so we sum every hour\n",
    "# In the Eveddent dataset we do not need to aggredate every hour\n",
    "df_all8=df5.groupby(\"id\",\"std\",\"year\",\"month\",\"date\",\"hour\").sum(\"kwh\")\n",
    "#make ne aggregation per data\n",
    "\n",
    "\n",
    "from pyspark.sql import functions as f\n",
    "\n",
    "#create agragate columns for one day avg/max.min/standard division and sum of energy \n",
    "df_all_statistics=df5.groupby(\"id\",\"std\",\"year\",\"month\",\"date\").agg(f.sum(\"kwh\"),f.avg(\"kwh\"),f.max(\"kwh\"),f.min(\"kwh\"),f.count(\"kwh\"),f.stddev_pop(\"kwh\"))\n"
   ]
  },
  {
   "cell_type": "code",
   "execution_count": 14,
   "metadata": {},
   "outputs": [
    {
     "ename": "NameError",
     "evalue": "name 'pivot_df' is not defined",
     "output_type": "error",
     "traceback": [
      "\u001B[0;31m---------------------------------------------------------------------------\u001B[0m",
      "\u001B[0;31mNameError\u001B[0m                                 Traceback (most recent call last)",
      "\u001B[0;32m<ipython-input-14-f08062c854a0>\u001B[0m in \u001B[0;36m<module>\u001B[0;34m\u001B[0m\n\u001B[0;32m----> 1\u001B[0;31m \u001B[0mpivot_df\u001B[0m\u001B[0;34m.\u001B[0m\u001B[0mtoPandas\u001B[0m\u001B[0;34m\u001B[0m\u001B[0;34m\u001B[0m\u001B[0m\n\u001B[0m",
      "\u001B[0;31mNameError\u001B[0m: name 'pivot_df' is not defined"
     ]
    }
   ],
   "source": []
  },
  {
   "cell_type": "code",
   "execution_count": null,
   "metadata": {},
   "outputs": [],
   "source": []
  },
  {
   "cell_type": "code",
   "execution_count": 76,
   "metadata": {},
   "outputs": [
    {
     "name": "stdout",
     "output_type": "stream",
     "text": [
      "Row(id='MAC000002', year=2012, month=10, date=12, 0=0.0, 1=0.0, 2=0.0, 3=0.0, 4=0.0, 5=0.0, 6=0.0, 7=0.0, 8=0.0, 9=0.0, 10=0.0, 11=0.143, 12=0.919, 13=0.354, 14=0.29000000000000004, 15=0.28800000000000003, 16=0.29100000000000004, 17=0.847, 18=0.42300000000000004, 19=1.413, 20=0.441, 21=0.535, 22=0.595, 23=0.5589999999999999)\n",
      "Row(id='MAC000002', year=2012, month=10, date=13, 0=0.532, 1=0.531, 2=0.347, 3=0.28, 4=0.276, 5=0.275, 6=0.28300000000000003, 7=0.28300000000000003, 8=0.252, 9=0.326, 10=1.848, 11=0.26, 12=0.20900000000000002, 13=0.20900000000000002, 14=0.34800000000000003, 15=0.369, 16=0.308, 17=0.406, 18=0.648, 19=1.1960000000000002, 20=0.506, 21=0.463, 22=0.423, 23=0.509)\n",
      "Row(id='MAC000002', year=2012, month=10, date=14, 0=0.42800000000000005, 1=0.314, 2=0.20800000000000002, 3=0.20600000000000002, 4=0.199, 5=0.196, 6=0.197, 7=0.195, 8=0.238, 9=0.542, 10=0.6, 11=0.796, 12=0.45, 13=0.254, 14=0.28, 15=0.23099999999999998, 16=0.256, 17=0.46399999999999997, 18=1.471, 19=2.0309999999999997, 20=1.5659999999999998, 21=1.2229999999999999, 22=0.441, 23=0.43700000000000006)\n",
      "Row(id='MAC000002', year=2012, month=10, date=15, 0=0.28900000000000003, 1=0.22399999999999998, 2=0.202, 3=0.20400000000000001, 4=0.202, 5=0.2, 6=0.199, 7=0.246, 8=1.1949999999999998, 9=0.269, 10=0.20900000000000002, 11=0.628, 12=0.278, 13=0.20500000000000002, 14=0.20400000000000001, 15=0.203, 16=0.36, 17=0.955, 18=0.482, 19=1.4129999999999998, 20=0.483, 21=0.5940000000000001, 22=0.5349999999999999, 23=0.478)\n",
      "Row(id='MAC000002', year=2012, month=10, date=16, 0=0.474, 1=0.311, 2=0.20500000000000002, 3=0.203, 4=0.196, 5=0.195, 6=0.195, 7=0.194, 8=0.244, 9=0.51, 10=0.21600000000000003, 11=0.5, 12=1.181, 13=0.431, 14=0.20700000000000002, 15=0.206, 16=0.368, 17=0.488, 18=0.7130000000000001, 19=1.138, 20=0.42000000000000004, 21=0.41400000000000003, 22=0.401, 23=0.359)\n"
     ]
    }
   ],
   "source": [
    "for i in pivot_df.head(5):\n",
    "    print(i)"
   ]
  },
  {
   "cell_type": "code",
   "execution_count": 44,
   "metadata": {},
   "outputs": [
    {
     "data": {
      "text/plain": [
       "[Row(id='MAC000032', std='Std', year=2011, month=12, date=7, sum(kwh)=3.5269999999999997, avg(kwh)=0.15334782608695652, max(kwh)=0.692, min(kwh)=0.015, count(kwh)=23, stddev_pop(kwh)=0.20240609388825276),\n",
       " Row(id='MAC000032', std='Std', year=2011, month=12, date=8, sum(kwh)=17.6700001, avg(kwh)=0.3681250020833333, max(kwh)=2.5050001, min(kwh)=0.01, count(kwh)=48, stddev_pop(kwh)=0.5694364846124748),\n",
       " Row(id='MAC000032', std='Std', year=2011, month=12, date=9, sum(kwh)=18.41300040000001, avg(kwh)=0.38360417500000016, max(kwh)=2.5680001, min(kwh)=0.01, count(kwh)=48, stddev_pop(kwh)=0.6339574196381306),\n",
       " Row(id='MAC000032', std='Std', year=2011, month=12, date=10, sum(kwh)=21.75300010000001, avg(kwh)=0.4531875020833335, max(kwh)=2.586, min(kwh)=0.01, count(kwh)=48, stddev_pop(kwh)=0.6246162401870999),\n",
       " Row(id='MAC000032', std='Std', year=2011, month=12, date=11, sum(kwh)=19.146000000000004, avg(kwh)=0.3988750000000001, max(kwh)=2.648, min(kwh)=0.01, count(kwh)=48, stddev_pop(kwh)=0.6859822830863299)]"
      ]
     },
     "execution_count": 44,
     "metadata": {},
     "output_type": "execute_result"
    }
   ],
   "source": [
    "#print the df\n",
    "df_all_statistics.head(5)"
   ]
  },
  {
   "cell_type": "code",
   "execution_count": 77,
   "metadata": {},
   "outputs": [
    {
     "name": "stdout",
     "output_type": "stream",
     "text": [
      "test\n"
     ]
    }
   ],
   "source": [
    "print(\"test\")"
   ]
  },
  {
   "cell_type": "code",
   "execution_count": null,
   "metadata": {},
   "outputs": [],
   "source": []
  },
  {
   "cell_type": "code",
   "execution_count": 19,
   "metadata": {},
   "outputs": [
    {
     "name": "stdout",
     "output_type": "stream",
     "text": [
      "Row(id='MAC000032', std='Std', year=2011, month=12, date=7, sum(kwh)=3.5269999999999997, avg(kwh)=0.15334782608695652, max(kwh)=0.692, min(kwh)=0.015, count(kwh)=23, stddev_pop(kwh)=0.20240609388825276)\n",
      "Row(id='MAC000032', std='Std', year=2011, month=12, date=8, sum(kwh)=17.6700001, avg(kwh)=0.3681250020833333, max(kwh)=2.5050001, min(kwh)=0.01, count(kwh)=48, stddev_pop(kwh)=0.5694364846124748)\n",
      "Row(id='MAC000032', std='Std', year=2011, month=12, date=9, sum(kwh)=18.41300040000001, avg(kwh)=0.38360417500000016, max(kwh)=2.5680001, min(kwh)=0.01, count(kwh)=48, stddev_pop(kwh)=0.6339574196381306)\n",
      "Row(id='MAC000032', std='Std', year=2011, month=12, date=10, sum(kwh)=21.75300010000001, avg(kwh)=0.4531875020833335, max(kwh)=2.586, min(kwh)=0.01, count(kwh)=48, stddev_pop(kwh)=0.6246162401870999)\n",
      "Row(id='MAC000032', std='Std', year=2011, month=12, date=11, sum(kwh)=19.146000000000004, avg(kwh)=0.3988750000000001, max(kwh)=2.648, min(kwh)=0.01, count(kwh)=48, stddev_pop(kwh)=0.6859822830863299)\n"
     ]
    }
   ],
   "source": [
    "#The previous print for better visual each row\n",
    "for i in df_all_statistics.head(5):\n",
    "    print(i)"
   ]
  },
  {
   "cell_type": "markdown",
   "metadata": {},
   "source": [
    "**df_all_statistics is the final dayly aggregation**"
   ]
  },
  {
   "cell_type": "code",
   "execution_count": 20,
   "metadata": {},
   "outputs": [
    {
     "data": {
      "text/plain": [
       "3510433"
      ]
     },
     "execution_count": 20,
     "metadata": {},
     "output_type": "execute_result"
    }
   ],
   "source": [
    "#df_all_statistics is the final dayly aggregation\n",
    "df_all_statistics.count()"
   ]
  },
  {
   "cell_type": "code",
   "execution_count": 68,
   "metadata": {},
   "outputs": [
    {
     "name": "stdout",
     "output_type": "stream",
     "text": [
      "Before casting\n",
      "root\n",
      " |-- DateTime: timestamp (nullable = true)\n",
      " |-- id: string (nullable = true)\n",
      " |-- std: string (nullable = true)\n",
      " |-- kwh: double (nullable = true)\n",
      " |-- year: integer (nullable = true)\n",
      " |-- month: integer (nullable = true)\n",
      " |-- date: integer (nullable = true)\n",
      " |-- hour: integer (nullable = true)\n",
      " |-- min: integer (nullable = true)\n",
      " |-- LCLid: string (nullable = true)\n",
      " |-- stdorToU: string (nullable = true)\n",
      " |-- Acorn: string (nullable = true)\n",
      " |-- Acorn_grouped: string (nullable = true)\n",
      " |-- file: string (nullable = true)\n",
      "\n"
     ]
    }
   ],
   "source": [
    "print(\"Before casting\")\n",
    "df7.printSchema()\n",
    "\n",
    "\n"
   ]
  },
  {
   "cell_type": "code",
   "execution_count": 71,
   "metadata": {},
   "outputs": [
    {
     "data": {
      "text/plain": [
       "505"
      ]
     },
     "execution_count": 71,
     "metadata": {},
     "output_type": "execute_result"
    }
   ],
   "source": [
    "#df_all_hours=df_all8.withColumn(\"hours\",df_all8['hour'].cast('integer'))\n",
    "#print(\"After casting\")\n",
    "#df_all_hours.printSchema()\n",
    "pivot_df_all=df7.groupby(\"id\",\"year\",\"month\",\"date\").pivot(\"hour\").sum(\"kwh\")\n",
    "#dataset = pivot_df_all.groupby(\"id\",\"year\",\"month\",\"date\").sum(\"sum(kwh)\").avg(\"sum(kwh)\")(\"sum(kwh)\").min(\"sum(kwh)\").count(\"sum(kwh)\").std(\"sum(kwh)\")\n",
    "\n",
    "pivot_df_all.count()"
   ]
  },
  {
   "cell_type": "code",
   "execution_count": 73,
   "metadata": {},
   "outputs": [
    {
     "name": "stdout",
     "output_type": "stream",
     "text": [
      "+---------+----+-----+----+-------------------+-------------------+-------------------+-------------------+-------------------+-------------------+-------------------+-------------------+-------------------+------------------+-------------------+-------------------+-------------------+-------------------+-------------------+-------------------+-------------------+-------------------+-------------------+------------------+-------------------+-------------------+------------------+-------------------+\n",
      "|       id|year|month|date|                  0|                  1|                  2|                  3|                  4|                  5|                  6|                  7|                  8|                 9|                 10|                 11|                 12|                 13|                 14|                 15|                 16|                 17|                 18|                19|                 20|                 21|                22|                 23|\n",
      "+---------+----+-----+----+-------------------+-------------------+-------------------+-------------------+-------------------+-------------------+-------------------+-------------------+-------------------+------------------+-------------------+-------------------+-------------------+-------------------+-------------------+-------------------+-------------------+-------------------+-------------------+------------------+-------------------+-------------------+------------------+-------------------+\n",
      "|MAC000002|2012|   10|  12|                0.0|                0.0|                0.0|                0.0|                0.0|                0.0|                0.0|                0.0|                0.0|               0.0|                0.0|              0.143|              0.919|              0.354|0.29000000000000004|0.28800000000000003|0.29100000000000004|              0.847|0.42300000000000004|             1.413|              0.441|              0.535|             0.595| 0.5589999999999999|\n",
      "|MAC000002|2012|   10|  13|              0.532|              0.531|              0.347|               0.28|              0.276|              0.275|0.28300000000000003|0.28300000000000003|              0.252|             0.326|              1.848|               0.26|0.20900000000000002|0.20900000000000002|0.34800000000000003|              0.369|              0.308|              0.406|              0.648|1.1960000000000002|              0.506|              0.463|             0.423|              0.509|\n",
      "|MAC000002|2012|   10|  14|0.42800000000000005|              0.314|0.20800000000000002|0.20600000000000002|              0.199|              0.196|              0.197|              0.195|              0.238|             0.542|                0.6|              0.796|               0.45|              0.254|               0.28|0.23099999999999998|              0.256|0.46399999999999997|              1.471|2.0309999999999997| 1.5659999999999998| 1.2229999999999999|             0.441|0.43700000000000006|\n",
      "|MAC000002|2012|   10|  15|0.28900000000000003|0.22399999999999998|              0.202|0.20400000000000001|              0.202|                0.2|              0.199|              0.246| 1.1949999999999998|             0.269|0.20900000000000002|              0.628|              0.278|0.20500000000000002|0.20400000000000001|              0.203|               0.36|              0.955|              0.482|1.4129999999999998|              0.483| 0.5940000000000001|0.5349999999999999|              0.478|\n",
      "|MAC000002|2012|   10|  16|              0.474|              0.311|0.20500000000000002|              0.203|              0.196|              0.195|              0.195|              0.194|              0.244|              0.51|0.21600000000000003|                0.5|              1.181|              0.431|0.20700000000000002|              0.206|              0.368|              0.488| 0.7130000000000001|             1.138|0.42000000000000004|0.41400000000000003|             0.401|              0.359|\n",
      "|MAC000002|2012|   10|  17|              0.368|              0.324|0.21800000000000003|              0.202|              0.199|              0.198|              0.197|              0.191|               0.25|             0.986|              1.465|              1.342|              0.617|0.20500000000000002|0.20800000000000002|              0.203|              0.363|              0.348|              0.475|             0.298|              0.438|              0.642|0.6040000000000001|              0.544|\n",
      "|MAC000002|2012|   10|  18| 0.5469999999999999| 0.5289999999999999|0.28600000000000003|              0.277|              0.275|              0.272|              0.267|              0.267|0.31799999999999995|0.5529999999999999|              0.384|              0.505|              0.264|              0.271|              0.271|               0.27|              0.267|              0.379|              0.297|             1.229|              1.491|              0.833|             0.371|              0.328|\n",
      "|MAC000002|2012|   10|  19|              0.319|              0.287|0.21000000000000002|0.20700000000000002|0.20500000000000002|0.21000000000000002|              0.211|0.21100000000000002|               0.39|             0.387|              0.202|                0.2|              0.198|              0.198|              0.331|0.21200000000000002|               0.39|              0.515|               0.44|             0.531|              1.144|              0.509|             0.495|              0.429|\n",
      "|MAC000002|2012|   10|  20|              0.629|0.40900000000000003|              0.319|              0.217|              0.215|              0.214|              0.213|0.21300000000000002|0.21000000000000002|             0.263|              0.337|              1.303| 1.3860000000000001|              0.468|0.32599999999999996|              0.561|               1.02|              1.581|          2.3619999|             1.141|              1.267|              1.147|0.9650000000000001|              0.812|\n",
      "|MAC000002|2012|   10|  21|              0.738| 0.7130000000000001|              0.655|               0.54|              0.538|              0.518|              0.518|              0.627| 0.5329999999999999|              0.65|              0.788|              1.151|               0.97| 0.7889999999999999|              1.017|              0.778|               1.23|              1.667| 3.4450000999999997|             1.549| 1.5739999999999998|              1.716|0.9500000000000001| 0.8360000000000001|\n",
      "|MAC000002|2012|   10|  22| 0.8320000000000001|              0.653| 0.6579999999999999|              0.659|              0.858|              0.855|              0.856|              0.907|              1.234|             0.976|               0.54|              0.493|               0.28|0.22899999999999998|               0.22|              0.823|              1.094|              1.109|               1.26|              1.41|              0.723| 1.0979999999999999|             0.587|              0.531|\n",
      "|MAC000002|2012|   10|  23|              0.372|0.33599999999999997|0.22999999999999998|0.21699999999999997|0.21300000000000002|0.21300000000000002|0.21500000000000002|              0.215|              0.373|             0.694|0.20400000000000001|0.20600000000000002|              0.643|              0.333|              0.379|              0.633|              0.477|0.33499999999999996|0.34199999999999997|              0.63|                1.0|              1.167|             0.647|0.41100000000000003|\n",
      "|MAC000002|2012|   10|  24|              0.372|              0.368|              0.219|0.21400000000000002|0.20400000000000001|0.20400000000000001|              0.238|              0.309| 0.8220000000000001|1.1219999999999999|              0.424|              0.323|              1.048|              0.383|              0.227|              0.202|0.41300000000000003|               0.39|               1.01|         2.6850001| 1.3599999999999999| 1.2839999999999998|             1.189| 0.5269999999999999|\n",
      "|MAC000002|2012|   10|  25|              0.485|0.29600000000000004|              0.227|              0.219|              0.217|0.21300000000000002|              0.201|              0.198|              0.402|             1.112|              1.347|              1.287|              0.296|0.30000000000000004|              0.258|              0.312|              0.299|0.41500000000000004|              0.815|0.7969999999999999|              0.538|              1.028|0.9590000000000001|              0.907|\n",
      "|MAC000002|2012|   10|  26|              0.442|              0.238|              0.223|0.21999999999999997|0.21500000000000002|0.20800000000000002|0.20700000000000002|              0.331|              0.605|1.0390000000000001|              0.385|0.21600000000000003|              0.279|              0.201|              0.199|              0.349|              0.572|              1.058|              1.544|             1.508| 1.5419999999999998|              1.037|             1.189|              1.258|\n",
      "|MAC000002|2012|   10|  27|              1.068| 0.8720000000000001|              0.309|0.21200000000000002|              0.212|0.20900000000000002|0.20800000000000002|              0.206|              0.269|0.8009999999999999|              1.155|              0.401|              0.267|              0.922| 0.7929999999999999|              1.296| 0.5700000000000001| 0.6759999999999999| 0.6890000000000001|             1.783|              1.266|              0.847|             0.875|               0.98|\n",
      "|MAC000002|2012|   10|  28|              0.872|              0.759| 0.7549999999999999|              0.399|0.32399999999999995|0.20800000000000002|              0.201|              0.199|              0.568|             1.076|              0.883| 0.8719999999999999|              1.009|              0.585|0.46699999999999997|0.31599999999999995|               0.28|0.29500000000000004|              0.394|             0.942|              2.269|          2.0199999|             1.959|              1.977|\n",
      "|MAC000002|2012|   10|  29| 0.8089999999999999|              0.539|               0.33|0.21000000000000002|              0.201|              0.199|              0.197|              0.195|              0.607|             1.163|0.20600000000000002|              0.196|              0.236|              0.645|              1.903|              0.249|              0.247|              0.291|              0.592|             0.485|              1.284|              0.491|             0.639|              0.865|\n",
      "|MAC000002|2012|   10|  30| 1.1560000000000001|              0.756|              0.579|              0.276|0.21200000000000002|0.20400000000000001|                0.2|              0.313|              0.637|             0.793|              0.216|0.21000000000000002|              0.206|0.20400000000000001| 0.6839999999999999|              0.235|              0.198|               0.45|              1.045|             0.469|              1.194| 1.5470000000000002|             1.055| 1.1219999999999999|\n",
      "|MAC000002|2012|   10|  31|              1.074| 0.8959999999999999| 0.5409999999999999|              0.511|               0.25|              0.218|              0.218|0.21700000000000003|              0.302|             0.532|              1.234|              2.268| 0.7050000000000001|               1.04|              0.357|              0.325|0.31499999999999995|              0.471|              0.868|             0.637| 0.7010000000000001| 2.3960000999999997|             1.251|              0.495|\n",
      "+---------+----+-----+----+-------------------+-------------------+-------------------+-------------------+-------------------+-------------------+-------------------+-------------------+-------------------+------------------+-------------------+-------------------+-------------------+-------------------+-------------------+-------------------+-------------------+-------------------+-------------------+------------------+-------------------+-------------------+------------------+-------------------+\n",
      "only showing top 20 rows\n",
      "\n"
     ]
    }
   ],
   "source": [
    "pivot_df_all.show()"
   ]
  },
  {
   "cell_type": "code",
   "execution_count": null,
   "metadata": {},
   "outputs": [],
   "source": [
    "#pivot_df is the final dayly dataset with data schema"
   ]
  },
  {
   "cell_type": "code",
   "execution_count": null,
   "metadata": {},
   "outputs": [],
   "source": [
    "pivot_df_all.print"
   ]
  },
  {
   "cell_type": "code",
   "execution_count": null,
   "metadata": {},
   "outputs": [],
   "source": [
    "#moreover the pivot dayly has the hourly energy consumtin at coloums and there is a coloumn with the total energy consumtion"
   ]
  },
  {
   "cell_type": "code",
   "execution_count": null,
   "metadata": {},
   "outputs": [],
   "source": []
  },
  {
   "cell_type": "code",
   "execution_count": 45,
   "metadata": {
    "pycharm": {
     "is_executing": true
    }
   },
   "outputs": [],
   "source": [
    "from pyspark_dist_explore import hist\n",
    "import matplotlib.pyplot as plt\n",
    "\n",
    "\n",
    "import pandas as pd\n",
    "\n",
    "from datetime import datetime\n",
    "import calendar\n",
    "import warnings\n",
    "warnings.filterwarnings(\"ignore\")\n"
   ]
  },
  {
   "cell_type": "code",
   "execution_count": 46,
   "metadata": {
    "pycharm": {
     "is_executing": true
    }
   },
   "outputs": [],
   "source": [
    "\n",
    "# Reading Household info data\n",
    "df_houtio sehold = pd.read_csv(\"data/add/informations_households.csv\", encoding=\"utf-8\")\n",
    "\n",
    "#household convert spark  dataframe\n",
    "householdd=spark.createDataFrame(df_household)"
   ]
  },
  {
   "cell_type": "code",
   "execution_count": 47,
   "metadata": {},
   "outputs": [],
   "source": [
    "df_4=df3.withColumn(\"kwh\", df3.kwh.cast('double'))\n",
    "#Join two DataSet\n",
    "df4=df3.join(householdd, df3.id == householdd.LCLid, 'left')\n",
    "\n",
    "df5=df4.withColumn(\"kwh\", df4.kwh.cast('double'))\n",
    "\n",
    "dff_2012=df5.filter(df5.year=='2012')\n",
    "dff_2013=df5.filter(df5.year=='2013')\n",
    "dff_2014=df5.filter(df5.year=='2014')\n"
   ]
  },
  {
   "cell_type": "code",
   "execution_count": 48,
   "metadata": {},
   "outputs": [],
   "source": [
    "\n",
    "\n",
    "\n",
    "df8_hours=dff_2012.withColumn(\"hours\",dff_2012['hour'].cast('integer'))\n",
    "\n",
    "\n",
    "Energy_Total2012 = dff_2012.groupby(\"year\").sum(\"kwh\")\n"
   ]
  },
  {
   "cell_type": "code",
   "execution_count": 49,
   "metadata": {},
   "outputs": [],
   "source": [
    "\n",
    "#aggragate function and hours cosumtion at coloumns\n",
    "pivot_df_2012 = df_4.groupby(\"id\",\"year\",\"month\",\"date\").pivot(\"hour\").sum(\"kwh\")\n",
    "\n",
    "pd.set_option('display.float_format', lambda x: '%.5f' % x)\n"
   ]
  },
  {
   "cell_type": "code",
   "execution_count": 72,
   "metadata": {},
   "outputs": [
    {
     "data": {
      "text/html": [
       "<div>\n",
       "<style scoped>\n",
       "    .dataframe tbody tr th:only-of-type {\n",
       "        vertical-align: middle;\n",
       "    }\n",
       "\n",
       "    .dataframe tbody tr th {\n",
       "        vertical-align: top;\n",
       "    }\n",
       "\n",
       "    .dataframe thead th {\n",
       "        text-align: right;\n",
       "    }\n",
       "</style>\n",
       "<table border=\"1\" class=\"dataframe\">\n",
       "  <thead>\n",
       "    <tr style=\"text-align: right;\">\n",
       "      <th></th>\n",
       "      <th>month</th>\n",
       "      <th>sum(kwh)</th>\n",
       "    </tr>\n",
       "  </thead>\n",
       "  <tbody>\n",
       "    <tr>\n",
       "      <th>0</th>\n",
       "      <td>1</td>\n",
       "      <td>187845.99499</td>\n",
       "    </tr>\n",
       "    <tr>\n",
       "      <th>1</th>\n",
       "      <td>2</td>\n",
       "      <td>280490.43099</td>\n",
       "    </tr>\n",
       "    <tr>\n",
       "      <th>2</th>\n",
       "      <td>3</td>\n",
       "      <td>354919.33499</td>\n",
       "    </tr>\n",
       "    <tr>\n",
       "      <th>3</th>\n",
       "      <td>4</td>\n",
       "      <td>497697.70101</td>\n",
       "    </tr>\n",
       "    <tr>\n",
       "      <th>4</th>\n",
       "      <td>5</td>\n",
       "      <td>803443.58199</td>\n",
       "    </tr>\n",
       "    <tr>\n",
       "      <th>5</th>\n",
       "      <td>6</td>\n",
       "      <td>1011463.46600</td>\n",
       "    </tr>\n",
       "    <tr>\n",
       "      <th>6</th>\n",
       "      <td>7</td>\n",
       "      <td>1188737.91597</td>\n",
       "    </tr>\n",
       "    <tr>\n",
       "      <th>7</th>\n",
       "      <td>8</td>\n",
       "      <td>1195059.26099</td>\n",
       "    </tr>\n",
       "    <tr>\n",
       "      <th>8</th>\n",
       "      <td>9</td>\n",
       "      <td>1274225.74199</td>\n",
       "    </tr>\n",
       "    <tr>\n",
       "      <th>9</th>\n",
       "      <td>10</td>\n",
       "      <td>1671514.69801</td>\n",
       "    </tr>\n",
       "    <tr>\n",
       "      <th>10</th>\n",
       "      <td>11</td>\n",
       "      <td>1900102.99995</td>\n",
       "    </tr>\n",
       "    <tr>\n",
       "      <th>11</th>\n",
       "      <td>12</td>\n",
       "      <td>2129816.48496</td>\n",
       "    </tr>\n",
       "  </tbody>\n",
       "</table>\n",
       "</div>"
      ],
      "text/plain": [
       "    month      sum(kwh)\n",
       "0       1  187845.99499\n",
       "1       2  280490.43099\n",
       "2       3  354919.33499\n",
       "3       4  497697.70101\n",
       "4       5  803443.58199\n",
       "5       6 1011463.46600\n",
       "6       7 1188737.91597\n",
       "7       8 1195059.26099\n",
       "8       9 1274225.74199\n",
       "9      10 1671514.69801\n",
       "10     11 1900102.99995\n",
       "11     12 2129816.48496"
      ]
     },
     "execution_count": 72,
     "metadata": {},
     "output_type": "execute_result"
    }
   ],
   "source": [
    "Energy_Months2012"
   ]
  },
  {
   "cell_type": "code",
   "execution_count": 50,
   "metadata": {
    "pycharm": {
     "name": "#%%\n"
    }
   },
   "outputs": [
    {
     "data": {
      "text/plain": [
       "<AxesSubplot:ylabel='month'>"
      ]
     },
     "execution_count": 50,
     "metadata": {},
     "output_type": "execute_result"
    },
    {
     "data": {
      "image/png": "[encoded data removed]",
      "text/plain": [
       "<Figure size 432x288 with 1 Axes>"
      ]
     },
     "metadata": {
      "needs_background": "light"
     },
     "output_type": "display_data"
    }
   ],
   "source": [
    "Energy_Months2012 = dff_2012.groupby(\"month\").sum(\"kwh\").orderBy(\"month\").toPandas()\n",
    "\n",
    "Energy_Months2012.plot(kind='barh',x='month',y='sum(kwh)',colormap='winter_r')\n",
    "\n",
    "\n"
   ]
  },
  {
   "cell_type": "code",
   "execution_count": null,
   "metadata": {},
   "outputs": [],
   "source": []
  },
  {
   "cell_type": "code",
   "execution_count": null,
   "metadata": {},
   "outputs": [],
   "source": []
  },
  {
   "cell_type": "code",
   "execution_count": 51,
   "metadata": {},
   "outputs": [],
   "source": [
    "plt.show()\n"
   ]
  },
  {
   "cell_type": "code",
   "execution_count": 60,
   "metadata": {},
   "outputs": [
    {
     "data": {
      "text/html": [
       "<div>\n",
       "<style scoped>\n",
       "    .dataframe tbody tr th:only-of-type {\n",
       "        vertical-align: middle;\n",
       "    }\n",
       "\n",
       "    .dataframe tbody tr th {\n",
       "        vertical-align: top;\n",
       "    }\n",
       "\n",
       "    .dataframe thead th {\n",
       "        text-align: right;\n",
       "    }\n",
       "</style>\n",
       "<table border=\"1\" class=\"dataframe\">\n",
       "  <thead>\n",
       "    <tr style=\"text-align: right;\">\n",
       "      <th></th>\n",
       "      <th>month</th>\n",
       "      <th>sum(kwh)</th>\n",
       "    </tr>\n",
       "  </thead>\n",
       "  <tbody>\n",
       "    <tr>\n",
       "      <th>0</th>\n",
       "      <td>1</td>\n",
       "      <td>187845.99499</td>\n",
       "    </tr>\n",
       "    <tr>\n",
       "      <th>1</th>\n",
       "      <td>2</td>\n",
       "      <td>280490.43099</td>\n",
       "    </tr>\n",
       "    <tr>\n",
       "      <th>2</th>\n",
       "      <td>3</td>\n",
       "      <td>354919.33499</td>\n",
       "    </tr>\n",
       "    <tr>\n",
       "      <th>3</th>\n",
       "      <td>4</td>\n",
       "      <td>497697.70101</td>\n",
       "    </tr>\n",
       "    <tr>\n",
       "      <th>4</th>\n",
       "      <td>5</td>\n",
       "      <td>803443.58199</td>\n",
       "    </tr>\n",
       "    <tr>\n",
       "      <th>5</th>\n",
       "      <td>6</td>\n",
       "      <td>1011463.46600</td>\n",
       "    </tr>\n",
       "    <tr>\n",
       "      <th>6</th>\n",
       "      <td>7</td>\n",
       "      <td>1188737.91597</td>\n",
       "    </tr>\n",
       "    <tr>\n",
       "      <th>7</th>\n",
       "      <td>8</td>\n",
       "      <td>1195059.26099</td>\n",
       "    </tr>\n",
       "    <tr>\n",
       "      <th>8</th>\n",
       "      <td>9</td>\n",
       "      <td>1274225.74199</td>\n",
       "    </tr>\n",
       "    <tr>\n",
       "      <th>9</th>\n",
       "      <td>10</td>\n",
       "      <td>1671514.69801</td>\n",
       "    </tr>\n",
       "    <tr>\n",
       "      <th>10</th>\n",
       "      <td>11</td>\n",
       "      <td>1900102.99995</td>\n",
       "    </tr>\n",
       "    <tr>\n",
       "      <th>11</th>\n",
       "      <td>12</td>\n",
       "      <td>2129816.48496</td>\n",
       "    </tr>\n",
       "  </tbody>\n",
       "</table>\n",
       "</div>"
      ],
      "text/plain": [
       "    month      sum(kwh)\n",
       "0       1  187845.99499\n",
       "1       2  280490.43099\n",
       "2       3  354919.33499\n",
       "3       4  497697.70101\n",
       "4       5  803443.58199\n",
       "5       6 1011463.46600\n",
       "6       7 1188737.91597\n",
       "7       8 1195059.26099\n",
       "8       9 1274225.74199\n",
       "9      10 1671514.69801\n",
       "10     11 1900102.99995\n",
       "11     12 2129816.48496"
      ]
     },
     "execution_count": 60,
     "metadata": {},
     "output_type": "execute_result"
    }
   ],
   "source": [
    "Energy_Months2012[\"month\"]\n"
   ]
  },
  {
   "cell_type": "code",
   "execution_count": 61,
   "metadata": {},
   "outputs": [
    {
     "data": {
      "text/plain": [
       "0     187845.99499\n",
       "1     280490.43099\n",
       "2     354919.33499\n",
       "3     497697.70101\n",
       "4     803443.58199\n",
       "5    1011463.46600\n",
       "6    1188737.91597\n",
       "7    1195059.26099\n",
       "8    1274225.74199\n",
       "9    1671514.69801\n",
       "10   1900102.99995\n",
       "11   2129816.48496\n",
       "Name: sum(kwh), dtype: float64"
      ]
     },
     "execution_count": 61,
     "metadata": {},
     "output_type": "execute_result"
    }
   ],
   "source": [
    "Energy_Months2012[\"sum(kwh)\"]"
   ]
  },
  {
   "cell_type": "code",
   "execution_count": 62,
   "metadata": {},
   "outputs": [],
   "source": [
    "def f(t):\n",
    "    return np.exp(-t) * np.cos(2*np.pi*t)"
   ]
  },
  {
   "cell_type": "code",
   "execution_count": 65,
   "metadata": {},
   "outputs": [
    {
     "data": {
      "text/plain": [
       "[<matplotlib.lines.Line2D at 0x7f50c629fdc0>,\n",
       " <matplotlib.lines.Line2D at 0x7f50c629fc40>]"
      ]
     },
     "execution_count": 65,
     "metadata": {},
     "output_type": "execute_result"
    },
    {
     "data": {
      "image/png": "[encoded data removed]",
      "text/plain": [
       "<Figure size 432x288 with 1 Axes>"
      ]
     },
     "metadata": {
      "needs_background": "light"
     },
     "output_type": "display_data"
    }
   ],
   "source": [
    "plt.figure()\n",
    "plt.subplot(211)\n",
    "plt.plot(Energy_Months2012[\"sum(kwh)\"], f(Energy_Months2012[\"sum(kwh)\"]), 'bo', Energy_Months2012[\"month\"], f(Energy_Months2012[\"month\"]), 'k')"
   ]
  },
  {
   "cell_type": "code",
   "execution_count": 66,
   "metadata": {},
   "outputs": [
    {
     "data": {
      "image/png": "[encoded data removed]",
      "text/plain": [
       "<Figure size 432x288 with 1 Axes>"
      ]
     },
     "metadata": {
      "needs_background": "light"
     },
     "output_type": "display_data"
    }
   ],
   "source": [
    "plt.subplot(212)\n",
    "plt.plot(Energy_Months2012[\"sum(kwh)\"], np.cos(2*np.pi*Energy_Months2012[\"sum(kwh)\"]), 'r--')\n",
    "plt.show()"
   ]
  },
  {
   "cell_type": "code",
   "execution_count": 67,
   "metadata": {},
   "outputs": [
    {
     "data": {
      "text/plain": [
       "<AxesSubplot:xlabel='month'>"
      ]
     },
     "execution_count": 67,
     "metadata": {},
     "output_type": "execute_result"
    },
    {
     "data": {
      "image/png": "[encoded data removed]",
      "text/plain": [
       "<Figure size 432x288 with 1 Axes>"
      ]
     },
     "metadata": {
      "needs_background": "light"
     },
     "output_type": "display_data"
    }
   ],
   "source": [
    "Energy_Months2012.plot(kind='line',x='month',y='sum(kwh)',colormap='winter_r')"
   ]
  },
  {
   "cell_type": "code",
   "execution_count": null,
   "metadata": {},
   "outputs": [],
   "source": [
    "k"
   ]
  }
 ],
 "metadata": {
  "kernelspec": {
   "display_name": "Python 3.8.5 64-bit ('venv': venv)",
   "language": "python",
   "name": "python385jvsc74a57bd0ed4335d6cbe1b4beeab2279141ac2539677c122e695ba2529d61d5b04ad0c51b"
  },
  "language_info": {
   "codemirror_mode": {
    "name": "ipython",
    "version": 3
   },
   "file_extension": ".py",
   "mimetype": "text/x-python",
   "name": "python",
   "nbconvert_exporter": "python",
   "pygments_lexer": "ipython3",
   "version": "3.8.10"
  }
 },
 "nbformat": 4,
 "nbformat_minor": 4
}