{
 "cells": [
  {
   "cell_type": "code",
   "execution_count": 1,
   "metadata": {},
   "outputs": [],
   "source": [
    "import matplotlib.pyplot as plt\n",
    "\n",
    "import pyspark\n",
    "from pyspark.sql import SparkSession\n",
    "from pyspark.sql.functions import to_timestamp\n",
    "from pyspark.sql.functions import *\n",
    "import calendar\n",
    "\n",
    "import pandas as pd"
   ]
  },
  {
   "cell_type": "code",
   "execution_count": null,
   "metadata": {},
   "outputs": [],
   "source": []
  },
  {
   "cell_type": "code",
   "execution_count": 2,
   "metadata": {},
   "outputs": [
    {
     "name": "stdout",
     "output_type": "stream",
     "text": [
      "root\n",
      " |-- LCLid: string (nullable = true)\n",
      " |-- stdorToU: string (nullable = true)\n",
      " |-- DateTime: string (nullable = true)\n",
      " |-- KWH/hh (per half hour) : string (nullable = true)\n",
      "\n"
     ]
    }
   ],
   "source": [
    "#create or use a spark sessio n , We use the local  but we can chabge it to cluster\n",
    "spark = SparkSession.builder.master(\"local[1]\") \\\n",
    "                    .appName('SparkByExamples.com') \\\n",
    "                    .getOrCreate()\n",
    "df = spark.read.option(\"header\",True).csv(\"data/CC_LCL-FullData.csv\")\n",
    "df.printSchema()"
   ]
  },
  {
   "cell_type": "markdown",
   "metadata": {},
   "source": [
    "# Enerrgy Consumtion  Uk"
   ]
  },
  {
   "cell_type": "code",
   "execution_count": 3,
   "metadata": {},
   "outputs": [],
   "source": [
    "#Split the timestamp\n",
    "df = df.withColumn(\"DateTime\",df.DateTime.astype('Timestamp'))\n",
    "#https://sparkbyexamples.com/pyspark/pyspark-sql-date-and-timestamp-functions/\n",
    "df3=df.select(col(\"DateTime\"),\n",
    "             col(\"LCLid\").alias((\"id\")),\n",
    "            col(\"stdorToU\").alias(\"std\"),\n",
    "            col(\"KWH/hh (per half hour) \").alias(\"kwh\"),\n",
    "     year(col(\"DateTime\")).alias(\"year\"),\n",
    "     month(col(\"DateTime\")).alias(\"month\"),\n",
    "    dayofmonth(col(\"DateTime\")).alias(\"date\"),\n",
    "    hour(col(\"DateTime\")).alias(\"hour\"),\n",
    "    minute(col(\"DateTime\")).alias(\"min\"),\n",
    "  )\n",
    "\n"
   ]
  },
  {
   "cell_type": "markdown",
   "metadata": {},
   "source": [
    "# Total rows"
   ]
  },
  {
   "cell_type": "code",
   "execution_count": 4,
   "metadata": {},
   "outputs": [
    {
     "data": {
      "text/plain": [
       "167932474"
      ]
     },
     "execution_count": 4,
     "metadata": {},
     "output_type": "execute_result"
    }
   ],
   "source": [
    "#The dataset  consist from 165M++ rows\n",
    "df.count()"
   ]
  },
  {
   "cell_type": "code",
   "execution_count": null,
   "metadata": {},
   "outputs": [],
   "source": []
  },
  {
   "cell_type": "code",
   "execution_count": 5,
   "metadata": {},
   "outputs": [],
   "source": [
    "from datetime import datetime\n",
    "import calendar\n",
    "import warnings\n",
    "warnings.filterwarnings(\"ignore\")\n"
   ]
  },
  {
   "cell_type": "code",
   "execution_count": 85,
   "metadata": {},
   "outputs": [],
   "source": [
    "# Reading Weather data\n",
    "df_weather = pd.read_csv(\"data/add/weather_hourly_darksky.csv\")\n"
   ]
  },
  {
   "cell_type": "code",
   "execution_count": 71,
   "metadata": {},
   "outputs": [
    {
     "data": {
      "text/html": [
       "<div>\n",
       "<style scoped>\n",
       "    .dataframe tbody tr th:only-of-type {\n",
       "        vertical-align: middle;\n",
       "    }\n",
       "\n",
       "    .dataframe tbody tr th {\n",
       "        vertical-align: top;\n",
       "    }\n",
       "\n",
       "    .dataframe thead th {\n",
       "        text-align: right;\n",
       "    }\n",
       "</style>\n",
       "<table border=\"1\" class=\"dataframe\">\n",
       "  <thead>\n",
       "    <tr style=\"text-align: right;\">\n",
       "      <th></th>\n",
       "      <th>visibility</th>\n",
       "      <th>windBearing</th>\n",
       "      <th>temperature</th>\n",
       "      <th>time</th>\n",
       "      <th>dewPoint</th>\n",
       "      <th>pressure</th>\n",
       "      <th>apparentTemperature</th>\n",
       "      <th>windSpeed</th>\n",
       "      <th>precipType</th>\n",
       "      <th>icon</th>\n",
       "      <th>humidity</th>\n",
       "      <th>summary</th>\n",
       "    </tr>\n",
       "  </thead>\n",
       "  <tbody>\n",
       "    <tr>\n",
       "      <th>0</th>\n",
       "      <td>5.970000000</td>\n",
       "      <td>104</td>\n",
       "      <td>10.240000000</td>\n",
       "      <td>2011-11-11 00:00:00</td>\n",
       "      <td>8.860000000</td>\n",
       "      <td>1016.760000000</td>\n",
       "      <td>10.240000000</td>\n",
       "      <td>2.770000000</td>\n",
       "      <td>rain</td>\n",
       "      <td>partly-cloudy-night</td>\n",
       "      <td>0.910000000</td>\n",
       "      <td>Partly Cloudy</td>\n",
       "    </tr>\n",
       "    <tr>\n",
       "      <th>1</th>\n",
       "      <td>4.880000000</td>\n",
       "      <td>99</td>\n",
       "      <td>9.760000000</td>\n",
       "      <td>2011-11-11 01:00:00</td>\n",
       "      <td>8.830000000</td>\n",
       "      <td>1016.630000000</td>\n",
       "      <td>8.240000000</td>\n",
       "      <td>2.950000000</td>\n",
       "      <td>rain</td>\n",
       "      <td>partly-cloudy-night</td>\n",
       "      <td>0.940000000</td>\n",
       "      <td>Partly Cloudy</td>\n",
       "    </tr>\n",
       "    <tr>\n",
       "      <th>2</th>\n",
       "      <td>3.700000000</td>\n",
       "      <td>98</td>\n",
       "      <td>9.460000000</td>\n",
       "      <td>2011-11-11 02:00:00</td>\n",
       "      <td>8.790000000</td>\n",
       "      <td>1016.360000000</td>\n",
       "      <td>7.760000000</td>\n",
       "      <td>3.170000000</td>\n",
       "      <td>rain</td>\n",
       "      <td>partly-cloudy-night</td>\n",
       "      <td>0.960000000</td>\n",
       "      <td>Partly Cloudy</td>\n",
       "    </tr>\n",
       "  </tbody>\n",
       "</table>\n",
       "</div>"
      ],
      "text/plain": [
       "   visibility  windBearing  temperature                 time    dewPoint  \\\n",
       "0 5.970000000          104 10.240000000  2011-11-11 00:00:00 8.860000000   \n",
       "1 4.880000000           99  9.760000000  2011-11-11 01:00:00 8.830000000   \n",
       "2 3.700000000           98  9.460000000  2011-11-11 02:00:00 8.790000000   \n",
       "\n",
       "        pressure  apparentTemperature   windSpeed precipType  \\\n",
       "0 1016.760000000         10.240000000 2.770000000       rain   \n",
       "1 1016.630000000          8.240000000 2.950000000       rain   \n",
       "2 1016.360000000          7.760000000 3.170000000       rain   \n",
       "\n",
       "                  icon    humidity        summary  \n",
       "0  partly-cloudy-night 0.910000000  Partly Cloudy  \n",
       "1  partly-cloudy-night 0.940000000  Partly Cloudy  \n",
       "2  partly-cloudy-night 0.960000000  Partly Cloudy  "
      ]
     },
     "execution_count": 71,
     "metadata": {},
     "output_type": "execute_result"
    }
   ],
   "source": [
    "df_weather.head(3)"
   ]
  },
  {
   "cell_type": "code",
   "execution_count": 81,
   "metadata": {},
   "outputs": [],
   "source": [
    "import numpy as np "
   ]
  },
  {
   "cell_type": "code",
   "execution_count": 92,
   "metadata": {},
   "outputs": [],
   "source": [
    "df_acorn = pd.read_csv(\"data/add/acorn_details.csv\",encoding=\"ISO-8859-1\")"
   ]
  },
  {
   "cell_type": "code",
   "execution_count": 93,
   "metadata": {},
   "outputs": [
    {
     "data": {
      "text/html": [
       "<div>\n",
       "<style scoped>\n",
       "    .dataframe tbody tr th:only-of-type {\n",
       "        vertical-align: middle;\n",
       "    }\n",
       "\n",
       "    .dataframe tbody tr th {\n",
       "        vertical-align: top;\n",
       "    }\n",
       "\n",
       "    .dataframe thead th {\n",
       "        text-align: right;\n",
       "    }\n",
       "</style>\n",
       "<table border=\"1\" class=\"dataframe\">\n",
       "  <thead>\n",
       "    <tr style=\"text-align: right;\">\n",
       "      <th></th>\n",
       "      <th>MAIN CATEGORIES</th>\n",
       "      <th>CATEGORIES</th>\n",
       "      <th>REFERENCE</th>\n",
       "      <th>ACORN-A</th>\n",
       "      <th>ACORN-B</th>\n",
       "      <th>ACORN-C</th>\n",
       "      <th>ACORN-D</th>\n",
       "      <th>ACORN-E</th>\n",
       "      <th>ACORN-F</th>\n",
       "      <th>ACORN-G</th>\n",
       "      <th>ACORN-H</th>\n",
       "      <th>ACORN-I</th>\n",
       "      <th>ACORN-J</th>\n",
       "      <th>ACORN-K</th>\n",
       "      <th>ACORN-L</th>\n",
       "      <th>ACORN-M</th>\n",
       "      <th>ACORN-N</th>\n",
       "      <th>ACORN-O</th>\n",
       "      <th>ACORN-P</th>\n",
       "      <th>ACORN-Q</th>\n",
       "    </tr>\n",
       "  </thead>\n",
       "  <tbody>\n",
       "    <tr>\n",
       "      <th>0</th>\n",
       "      <td>POPULATION</td>\n",
       "      <td>Age</td>\n",
       "      <td>Age 0-4</td>\n",
       "      <td>77.000000000</td>\n",
       "      <td>83.000000000</td>\n",
       "      <td>72.000000000</td>\n",
       "      <td>100.000000000</td>\n",
       "      <td>120.000000000</td>\n",
       "      <td>77.000000000</td>\n",
       "      <td>97.000000000</td>\n",
       "      <td>97.000000000</td>\n",
       "      <td>63.000000000</td>\n",
       "      <td>119.000000000</td>\n",
       "      <td>67.000000000</td>\n",
       "      <td>114.000000000</td>\n",
       "      <td>113.000000000</td>\n",
       "      <td>89.000000000</td>\n",
       "      <td>123.000000000</td>\n",
       "      <td>138.000000000</td>\n",
       "      <td>133.000000000</td>\n",
       "    </tr>\n",
       "    <tr>\n",
       "      <th>1</th>\n",
       "      <td>POPULATION</td>\n",
       "      <td>Age</td>\n",
       "      <td>Age 5-17</td>\n",
       "      <td>117.000000000</td>\n",
       "      <td>109.000000000</td>\n",
       "      <td>87.000000000</td>\n",
       "      <td>69.000000000</td>\n",
       "      <td>94.000000000</td>\n",
       "      <td>95.000000000</td>\n",
       "      <td>102.000000000</td>\n",
       "      <td>106.000000000</td>\n",
       "      <td>67.000000000</td>\n",
       "      <td>95.000000000</td>\n",
       "      <td>64.000000000</td>\n",
       "      <td>108.000000000</td>\n",
       "      <td>116.000000000</td>\n",
       "      <td>86.000000000</td>\n",
       "      <td>89.000000000</td>\n",
       "      <td>136.000000000</td>\n",
       "      <td>106.000000000</td>\n",
       "    </tr>\n",
       "    <tr>\n",
       "      <th>2</th>\n",
       "      <td>POPULATION</td>\n",
       "      <td>Age</td>\n",
       "      <td>Age 18-24</td>\n",
       "      <td>64.000000000</td>\n",
       "      <td>73.000000000</td>\n",
       "      <td>67.000000000</td>\n",
       "      <td>107.000000000</td>\n",
       "      <td>100.000000000</td>\n",
       "      <td>71.000000000</td>\n",
       "      <td>83.000000000</td>\n",
       "      <td>89.000000000</td>\n",
       "      <td>62.000000000</td>\n",
       "      <td>104.000000000</td>\n",
       "      <td>459.000000000</td>\n",
       "      <td>97.000000000</td>\n",
       "      <td>96.000000000</td>\n",
       "      <td>86.000000000</td>\n",
       "      <td>117.000000000</td>\n",
       "      <td>109.000000000</td>\n",
       "      <td>110.000000000</td>\n",
       "    </tr>\n",
       "    <tr>\n",
       "      <th>3</th>\n",
       "      <td>POPULATION</td>\n",
       "      <td>Age</td>\n",
       "      <td>Age 25-34</td>\n",
       "      <td>52.000000000</td>\n",
       "      <td>63.000000000</td>\n",
       "      <td>62.000000000</td>\n",
       "      <td>197.000000000</td>\n",
       "      <td>151.000000000</td>\n",
       "      <td>66.000000000</td>\n",
       "      <td>90.000000000</td>\n",
       "      <td>88.000000000</td>\n",
       "      <td>63.000000000</td>\n",
       "      <td>132.000000000</td>\n",
       "      <td>145.000000000</td>\n",
       "      <td>109.000000000</td>\n",
       "      <td>96.000000000</td>\n",
       "      <td>90.000000000</td>\n",
       "      <td>140.000000000</td>\n",
       "      <td>120.000000000</td>\n",
       "      <td>120.000000000</td>\n",
       "    </tr>\n",
       "    <tr>\n",
       "      <th>4</th>\n",
       "      <td>POPULATION</td>\n",
       "      <td>Age</td>\n",
       "      <td>Age 35-49</td>\n",
       "      <td>102.000000000</td>\n",
       "      <td>105.000000000</td>\n",
       "      <td>91.000000000</td>\n",
       "      <td>124.000000000</td>\n",
       "      <td>118.000000000</td>\n",
       "      <td>93.000000000</td>\n",
       "      <td>102.000000000</td>\n",
       "      <td>103.000000000</td>\n",
       "      <td>76.000000000</td>\n",
       "      <td>111.000000000</td>\n",
       "      <td>67.000000000</td>\n",
       "      <td>99.000000000</td>\n",
       "      <td>98.000000000</td>\n",
       "      <td>90.000000000</td>\n",
       "      <td>102.000000000</td>\n",
       "      <td>103.000000000</td>\n",
       "      <td>100.000000000</td>\n",
       "    </tr>\n",
       "    <tr>\n",
       "      <th>...</th>\n",
       "      <td>...</td>\n",
       "      <td>...</td>\n",
       "      <td>...</td>\n",
       "      <td>...</td>\n",
       "      <td>...</td>\n",
       "      <td>...</td>\n",
       "      <td>...</td>\n",
       "      <td>...</td>\n",
       "      <td>...</td>\n",
       "      <td>...</td>\n",
       "      <td>...</td>\n",
       "      <td>...</td>\n",
       "      <td>...</td>\n",
       "      <td>...</td>\n",
       "      <td>...</td>\n",
       "      <td>...</td>\n",
       "      <td>...</td>\n",
       "      <td>...</td>\n",
       "      <td>...</td>\n",
       "      <td>...</td>\n",
       "    </tr>\n",
       "    <tr>\n",
       "      <th>821</th>\n",
       "      <td>LEISURE TIME</td>\n",
       "      <td>Holiday Destination/Type</td>\n",
       "      <td>Asia</td>\n",
       "      <td>171.000000000</td>\n",
       "      <td>137.000000000</td>\n",
       "      <td>94.000000000</td>\n",
       "      <td>220.000000000</td>\n",
       "      <td>196.000000000</td>\n",
       "      <td>69.000000000</td>\n",
       "      <td>122.000000000</td>\n",
       "      <td>95.000000000</td>\n",
       "      <td>72.000000000</td>\n",
       "      <td>97.000000000</td>\n",
       "      <td>124.000000000</td>\n",
       "      <td>73.000000000</td>\n",
       "      <td>57.000000000</td>\n",
       "      <td>49.000000000</td>\n",
       "      <td>96.000000000</td>\n",
       "      <td>113.000000000</td>\n",
       "      <td>63.000000000</td>\n",
       "    </tr>\n",
       "    <tr>\n",
       "      <th>822</th>\n",
       "      <td>LEISURE TIME</td>\n",
       "      <td>Holiday Destination/Type</td>\n",
       "      <td>Activity / Outdoor Sports</td>\n",
       "      <td>298.000000000</td>\n",
       "      <td>278.000000000</td>\n",
       "      <td>138.000000000</td>\n",
       "      <td>119.000000000</td>\n",
       "      <td>93.000000000</td>\n",
       "      <td>96.000000000</td>\n",
       "      <td>113.000000000</td>\n",
       "      <td>96.000000000</td>\n",
       "      <td>84.000000000</td>\n",
       "      <td>96.000000000</td>\n",
       "      <td>56.000000000</td>\n",
       "      <td>48.000000000</td>\n",
       "      <td>48.000000000</td>\n",
       "      <td>46.000000000</td>\n",
       "      <td>23.000000000</td>\n",
       "      <td>23.000000000</td>\n",
       "      <td>23.000000000</td>\n",
       "    </tr>\n",
       "    <tr>\n",
       "      <th>823</th>\n",
       "      <td>LEISURE TIME</td>\n",
       "      <td>Holiday Destination/Type</td>\n",
       "      <td>Cruise</td>\n",
       "      <td>272.000000000</td>\n",
       "      <td>295.000000000</td>\n",
       "      <td>272.000000000</td>\n",
       "      <td>44.000000000</td>\n",
       "      <td>44.000000000</td>\n",
       "      <td>70.000000000</td>\n",
       "      <td>70.000000000</td>\n",
       "      <td>70.000000000</td>\n",
       "      <td>70.000000000</td>\n",
       "      <td>70.000000000</td>\n",
       "      <td>28.000000000</td>\n",
       "      <td>28.000000000</td>\n",
       "      <td>28.000000000</td>\n",
       "      <td>28.000000000</td>\n",
       "      <td>49.000000000</td>\n",
       "      <td>49.000000000</td>\n",
       "      <td>49.000000000</td>\n",
       "    </tr>\n",
       "    <tr>\n",
       "      <th>824</th>\n",
       "      <td>LEISURE TIME</td>\n",
       "      <td>Holiday Destination/Type</td>\n",
       "      <td>Package</td>\n",
       "      <td>196.000000000</td>\n",
       "      <td>186.000000000</td>\n",
       "      <td>166.000000000</td>\n",
       "      <td>49.000000000</td>\n",
       "      <td>49.000000000</td>\n",
       "      <td>101.000000000</td>\n",
       "      <td>101.000000000</td>\n",
       "      <td>121.000000000</td>\n",
       "      <td>106.000000000</td>\n",
       "      <td>101.000000000</td>\n",
       "      <td>48.000000000</td>\n",
       "      <td>75.000000000</td>\n",
       "      <td>75.000000000</td>\n",
       "      <td>75.000000000</td>\n",
       "      <td>54.000000000</td>\n",
       "      <td>54.000000000</td>\n",
       "      <td>54.000000000</td>\n",
       "    </tr>\n",
       "    <tr>\n",
       "      <th>825</th>\n",
       "      <td>LEISURE TIME</td>\n",
       "      <td>Holiday Destination/Type</td>\n",
       "      <td>Self-catering</td>\n",
       "      <td>308.000000000</td>\n",
       "      <td>181.000000000</td>\n",
       "      <td>181.000000000</td>\n",
       "      <td>55.000000000</td>\n",
       "      <td>55.000000000</td>\n",
       "      <td>127.000000000</td>\n",
       "      <td>147.000000000</td>\n",
       "      <td>124.000000000</td>\n",
       "      <td>113.000000000</td>\n",
       "      <td>166.000000000</td>\n",
       "      <td>44.000000000</td>\n",
       "      <td>44.000000000</td>\n",
       "      <td>44.000000000</td>\n",
       "      <td>33.000000000</td>\n",
       "      <td>32.000000000</td>\n",
       "      <td>35.000000000</td>\n",
       "      <td>35.000000000</td>\n",
       "    </tr>\n",
       "  </tbody>\n",
       "</table>\n",
       "<p>826 rows × 20 columns</p>\n",
       "</div>"
      ],
      "text/plain": [
       "    MAIN CATEGORIES                CATEGORIES                  REFERENCE  \\\n",
       "0        POPULATION                       Age                    Age 0-4   \n",
       "1        POPULATION                       Age                   Age 5-17   \n",
       "2        POPULATION                       Age                  Age 18-24   \n",
       "3        POPULATION                       Age                  Age 25-34   \n",
       "4        POPULATION                       Age                  Age 35-49   \n",
       "..              ...                       ...                        ...   \n",
       "821    LEISURE TIME  Holiday Destination/Type                       Asia   \n",
       "822    LEISURE TIME  Holiday Destination/Type  Activity / Outdoor Sports   \n",
       "823    LEISURE TIME  Holiday Destination/Type                     Cruise   \n",
       "824    LEISURE TIME  Holiday Destination/Type                    Package   \n",
       "825    LEISURE TIME  Holiday Destination/Type              Self-catering   \n",
       "\n",
       "          ACORN-A       ACORN-B       ACORN-C       ACORN-D       ACORN-E  \\\n",
       "0    77.000000000  83.000000000  72.000000000 100.000000000 120.000000000   \n",
       "1   117.000000000 109.000000000  87.000000000  69.000000000  94.000000000   \n",
       "2    64.000000000  73.000000000  67.000000000 107.000000000 100.000000000   \n",
       "3    52.000000000  63.000000000  62.000000000 197.000000000 151.000000000   \n",
       "4   102.000000000 105.000000000  91.000000000 124.000000000 118.000000000   \n",
       "..            ...           ...           ...           ...           ...   \n",
       "821 171.000000000 137.000000000  94.000000000 220.000000000 196.000000000   \n",
       "822 298.000000000 278.000000000 138.000000000 119.000000000  93.000000000   \n",
       "823 272.000000000 295.000000000 272.000000000  44.000000000  44.000000000   \n",
       "824 196.000000000 186.000000000 166.000000000  49.000000000  49.000000000   \n",
       "825 308.000000000 181.000000000 181.000000000  55.000000000  55.000000000   \n",
       "\n",
       "          ACORN-F       ACORN-G       ACORN-H       ACORN-I       ACORN-J  \\\n",
       "0    77.000000000  97.000000000  97.000000000  63.000000000 119.000000000   \n",
       "1    95.000000000 102.000000000 106.000000000  67.000000000  95.000000000   \n",
       "2    71.000000000  83.000000000  89.000000000  62.000000000 104.000000000   \n",
       "3    66.000000000  90.000000000  88.000000000  63.000000000 132.000000000   \n",
       "4    93.000000000 102.000000000 103.000000000  76.000000000 111.000000000   \n",
       "..            ...           ...           ...           ...           ...   \n",
       "821  69.000000000 122.000000000  95.000000000  72.000000000  97.000000000   \n",
       "822  96.000000000 113.000000000  96.000000000  84.000000000  96.000000000   \n",
       "823  70.000000000  70.000000000  70.000000000  70.000000000  70.000000000   \n",
       "824 101.000000000 101.000000000 121.000000000 106.000000000 101.000000000   \n",
       "825 127.000000000 147.000000000 124.000000000 113.000000000 166.000000000   \n",
       "\n",
       "          ACORN-K       ACORN-L       ACORN-M      ACORN-N       ACORN-O  \\\n",
       "0    67.000000000 114.000000000 113.000000000 89.000000000 123.000000000   \n",
       "1    64.000000000 108.000000000 116.000000000 86.000000000  89.000000000   \n",
       "2   459.000000000  97.000000000  96.000000000 86.000000000 117.000000000   \n",
       "3   145.000000000 109.000000000  96.000000000 90.000000000 140.000000000   \n",
       "4    67.000000000  99.000000000  98.000000000 90.000000000 102.000000000   \n",
       "..            ...           ...           ...          ...           ...   \n",
       "821 124.000000000  73.000000000  57.000000000 49.000000000  96.000000000   \n",
       "822  56.000000000  48.000000000  48.000000000 46.000000000  23.000000000   \n",
       "823  28.000000000  28.000000000  28.000000000 28.000000000  49.000000000   \n",
       "824  48.000000000  75.000000000  75.000000000 75.000000000  54.000000000   \n",
       "825  44.000000000  44.000000000  44.000000000 33.000000000  32.000000000   \n",
       "\n",
       "          ACORN-P       ACORN-Q  \n",
       "0   138.000000000 133.000000000  \n",
       "1   136.000000000 106.000000000  \n",
       "2   109.000000000 110.000000000  \n",
       "3   120.000000000 120.000000000  \n",
       "4   103.000000000 100.000000000  \n",
       "..            ...           ...  \n",
       "821 113.000000000  63.000000000  \n",
       "822  23.000000000  23.000000000  \n",
       "823  49.000000000  49.000000000  \n",
       "824  54.000000000  54.000000000  \n",
       "825  35.000000000  35.000000000  \n",
       "\n",
       "[826 rows x 20 columns]"
      ]
     },
     "execution_count": 93,
     "metadata": {},
     "output_type": "execute_result"
    }
   ],
   "source": [
    "df_acorn"
   ]
  },
  {
   "cell_type": "code",
   "execution_count": 95,
   "metadata": {},
   "outputs": [],
   "source": [
    "df_bank_holidays = pd.read_csv(\"data/add/uk_bank_holidays.csv\")"
   ]
  },
  {
   "cell_type": "code",
   "execution_count": 96,
   "metadata": {},
   "outputs": [
    {
     "data": {
      "text/html": [
       "<div>\n",
       "<style scoped>\n",
       "    .dataframe tbody tr th:only-of-type {\n",
       "        vertical-align: middle;\n",
       "    }\n",
       "\n",
       "    .dataframe tbody tr th {\n",
       "        vertical-align: top;\n",
       "    }\n",
       "\n",
       "    .dataframe thead th {\n",
       "        text-align: right;\n",
       "    }\n",
       "</style>\n",
       "<table border=\"1\" class=\"dataframe\">\n",
       "  <thead>\n",
       "    <tr style=\"text-align: right;\">\n",
       "      <th></th>\n",
       "      <th>Bank holidays</th>\n",
       "      <th>Type</th>\n",
       "    </tr>\n",
       "  </thead>\n",
       "  <tbody>\n",
       "    <tr>\n",
       "      <th>0</th>\n",
       "      <td>2012-12-26</td>\n",
       "      <td>Boxing Day</td>\n",
       "    </tr>\n",
       "    <tr>\n",
       "      <th>1</th>\n",
       "      <td>2012-12-25</td>\n",
       "      <td>Christmas Day</td>\n",
       "    </tr>\n",
       "    <tr>\n",
       "      <th>2</th>\n",
       "      <td>2012-08-27</td>\n",
       "      <td>Summer bank holiday</td>\n",
       "    </tr>\n",
       "    <tr>\n",
       "      <th>3</th>\n",
       "      <td>2012-05-06</td>\n",
       "      <td>Queen?s Diamond Jubilee (extra bank holiday)</td>\n",
       "    </tr>\n",
       "    <tr>\n",
       "      <th>4</th>\n",
       "      <td>2012-04-06</td>\n",
       "      <td>Spring bank holiday (substitute day)</td>\n",
       "    </tr>\n",
       "    <tr>\n",
       "      <th>5</th>\n",
       "      <td>2012-07-05</td>\n",
       "      <td>Early May bank holiday</td>\n",
       "    </tr>\n",
       "    <tr>\n",
       "      <th>6</th>\n",
       "      <td>2012-09-04</td>\n",
       "      <td>Easter Monday</td>\n",
       "    </tr>\n",
       "    <tr>\n",
       "      <th>7</th>\n",
       "      <td>2012-06-04</td>\n",
       "      <td>Good Friday</td>\n",
       "    </tr>\n",
       "    <tr>\n",
       "      <th>8</th>\n",
       "      <td>2012-02-01</td>\n",
       "      <td>New Year?s Day (substitute day)</td>\n",
       "    </tr>\n",
       "    <tr>\n",
       "      <th>9</th>\n",
       "      <td>2013-12-26</td>\n",
       "      <td>Boxing Day</td>\n",
       "    </tr>\n",
       "    <tr>\n",
       "      <th>10</th>\n",
       "      <td>2013-12-25</td>\n",
       "      <td>Christmas Day</td>\n",
       "    </tr>\n",
       "    <tr>\n",
       "      <th>11</th>\n",
       "      <td>2013-08-26</td>\n",
       "      <td>Summer bank holiday</td>\n",
       "    </tr>\n",
       "    <tr>\n",
       "      <th>12</th>\n",
       "      <td>2013-05-27</td>\n",
       "      <td>Spring bank holiday</td>\n",
       "    </tr>\n",
       "    <tr>\n",
       "      <th>13</th>\n",
       "      <td>2013-06-05</td>\n",
       "      <td>Early May bank holiday</td>\n",
       "    </tr>\n",
       "    <tr>\n",
       "      <th>14</th>\n",
       "      <td>2013-01-04</td>\n",
       "      <td>Easter Monday</td>\n",
       "    </tr>\n",
       "    <tr>\n",
       "      <th>15</th>\n",
       "      <td>2013-03-29</td>\n",
       "      <td>Good Friday</td>\n",
       "    </tr>\n",
       "    <tr>\n",
       "      <th>16</th>\n",
       "      <td>2013-01-01</td>\n",
       "      <td>New Year?s Day</td>\n",
       "    </tr>\n",
       "    <tr>\n",
       "      <th>17</th>\n",
       "      <td>2014-12-26</td>\n",
       "      <td>Boxing Day</td>\n",
       "    </tr>\n",
       "    <tr>\n",
       "      <th>18</th>\n",
       "      <td>2014-12-25</td>\n",
       "      <td>Christmas Day</td>\n",
       "    </tr>\n",
       "    <tr>\n",
       "      <th>19</th>\n",
       "      <td>2014-08-25</td>\n",
       "      <td>Summer bank holiday</td>\n",
       "    </tr>\n",
       "    <tr>\n",
       "      <th>20</th>\n",
       "      <td>2014-05-26</td>\n",
       "      <td>Spring bank holiday</td>\n",
       "    </tr>\n",
       "    <tr>\n",
       "      <th>21</th>\n",
       "      <td>2014-05-05</td>\n",
       "      <td>Early May bank holiday</td>\n",
       "    </tr>\n",
       "    <tr>\n",
       "      <th>22</th>\n",
       "      <td>2014-04-21</td>\n",
       "      <td>Easter Monday</td>\n",
       "    </tr>\n",
       "    <tr>\n",
       "      <th>23</th>\n",
       "      <td>2014-04-18</td>\n",
       "      <td>Good Friday</td>\n",
       "    </tr>\n",
       "    <tr>\n",
       "      <th>24</th>\n",
       "      <td>2014-01-01</td>\n",
       "      <td>New Year?s Day</td>\n",
       "    </tr>\n",
       "  </tbody>\n",
       "</table>\n",
       "</div>"
      ],
      "text/plain": [
       "   Bank holidays                                          Type\n",
       "0     2012-12-26                                    Boxing Day\n",
       "1     2012-12-25                                 Christmas Day\n",
       "2     2012-08-27                           Summer bank holiday\n",
       "3     2012-05-06  Queen?s Diamond Jubilee (extra bank holiday)\n",
       "4     2012-04-06          Spring bank holiday (substitute day)\n",
       "5     2012-07-05                        Early May bank holiday\n",
       "6     2012-09-04                                 Easter Monday\n",
       "7     2012-06-04                                   Good Friday\n",
       "8     2012-02-01               New Year?s Day (substitute day)\n",
       "9     2013-12-26                                    Boxing Day\n",
       "10    2013-12-25                                 Christmas Day\n",
       "11    2013-08-26                           Summer bank holiday\n",
       "12    2013-05-27                           Spring bank holiday\n",
       "13    2013-06-05                        Early May bank holiday\n",
       "14    2013-01-04                                 Easter Monday\n",
       "15    2013-03-29                                   Good Friday\n",
       "16    2013-01-01                                New Year?s Day\n",
       "17    2014-12-26                                    Boxing Day\n",
       "18    2014-12-25                                 Christmas Day\n",
       "19    2014-08-25                           Summer bank holiday\n",
       "20    2014-05-26                           Spring bank holiday\n",
       "21    2014-05-05                        Early May bank holiday\n",
       "22    2014-04-21                                 Easter Monday\n",
       "23    2014-04-18                                   Good Friday\n",
       "24    2014-01-01                                New Year?s Day"
      ]
     },
     "execution_count": 96,
     "metadata": {},
     "output_type": "execute_result"
    }
   ],
   "source": [
    "df_bank_holidays"
   ]
  },
  {
   "cell_type": "code",
   "execution_count": null,
   "metadata": {},
   "outputs": [],
   "source": []
  },
  {
   "cell_type": "code",
   "execution_count": null,
   "metadata": {},
   "outputs": [],
   "source": []
  },
  {
   "cell_type": "code",
   "execution_count": null,
   "metadata": {},
   "outputs": [],
   "source": []
  },
  {
   "cell_type": "code",
   "execution_count": 8,
   "metadata": {},
   "outputs": [],
   "source": [
    "# Reading Household info data\n",
    "# Reading Household info data\n",
    "df_household = pd.read_csv(\"data/add/informations_households.csv\", encoding=\"utf-8\")\n",
    "\n",
    "#household convert spark  dataframe\n",
    "householdd=spark.createDataFrame(df_household)"
   ]
  },
  {
   "cell_type": "code",
   "execution_count": null,
   "metadata": {},
   "outputs": [],
   "source": []
  },
  {
   "cell_type": "code",
   "execution_count": 97,
   "metadata": {},
   "outputs": [
    {
     "data": {
      "text/html": [
       "<div>\n",
       "<style scoped>\n",
       "    .dataframe tbody tr th:only-of-type {\n",
       "        vertical-align: middle;\n",
       "    }\n",
       "\n",
       "    .dataframe tbody tr th {\n",
       "        vertical-align: top;\n",
       "    }\n",
       "\n",
       "    .dataframe thead th {\n",
       "        text-align: right;\n",
       "    }\n",
       "</style>\n",
       "<table border=\"1\" class=\"dataframe\">\n",
       "  <thead>\n",
       "    <tr style=\"text-align: right;\">\n",
       "      <th></th>\n",
       "      <th>LCLid</th>\n",
       "      <th>stdorToU</th>\n",
       "      <th>Acorn</th>\n",
       "      <th>Acorn_grouped</th>\n",
       "      <th>file</th>\n",
       "    </tr>\n",
       "  </thead>\n",
       "  <tbody>\n",
       "    <tr>\n",
       "      <th>0</th>\n",
       "      <td>MAC005492</td>\n",
       "      <td>ToU</td>\n",
       "      <td>ACORN-</td>\n",
       "      <td>ACORN-</td>\n",
       "      <td>block_0</td>\n",
       "    </tr>\n",
       "    <tr>\n",
       "      <th>1</th>\n",
       "      <td>MAC001074</td>\n",
       "      <td>ToU</td>\n",
       "      <td>ACORN-</td>\n",
       "      <td>ACORN-</td>\n",
       "      <td>block_0</td>\n",
       "    </tr>\n",
       "    <tr>\n",
       "      <th>2</th>\n",
       "      <td>MAC000002</td>\n",
       "      <td>Std</td>\n",
       "      <td>ACORN-A</td>\n",
       "      <td>Affluent</td>\n",
       "      <td>block_0</td>\n",
       "    </tr>\n",
       "    <tr>\n",
       "      <th>3</th>\n",
       "      <td>MAC003613</td>\n",
       "      <td>Std</td>\n",
       "      <td>ACORN-A</td>\n",
       "      <td>Affluent</td>\n",
       "      <td>block_0</td>\n",
       "    </tr>\n",
       "    <tr>\n",
       "      <th>4</th>\n",
       "      <td>MAC003597</td>\n",
       "      <td>Std</td>\n",
       "      <td>ACORN-A</td>\n",
       "      <td>Affluent</td>\n",
       "      <td>block_0</td>\n",
       "    </tr>\n",
       "  </tbody>\n",
       "</table>\n",
       "</div>"
      ],
      "text/plain": [
       "       LCLid stdorToU    Acorn Acorn_grouped     file\n",
       "0  MAC005492      ToU   ACORN-        ACORN-  block_0\n",
       "1  MAC001074      ToU   ACORN-        ACORN-  block_0\n",
       "2  MAC000002      Std  ACORN-A      Affluent  block_0\n",
       "3  MAC003613      Std  ACORN-A      Affluent  block_0\n",
       "4  MAC003597      Std  ACORN-A      Affluent  block_0"
      ]
     },
     "execution_count": 97,
     "metadata": {},
     "output_type": "execute_result"
    }
   ],
   "source": [
    "df_household.head(5)"
   ]
  },
  {
   "cell_type": "code",
   "execution_count": null,
   "metadata": {},
   "outputs": [],
   "source": [
    "# filter data for one household and total count for one household"
   ]
  },
  {
   "cell_type": "code",
   "execution_count": null,
   "metadata": {},
   "outputs": [],
   "source": [
    "\n",
    "import numpy as np\n",
    "import matplotlib.pyplot as plt\n",
    "import seaborn as sns\n",
    "from datetime import datetime\n",
    "import calendar\n",
    "\n",
    "#filter the data for one househd to have smaller dataset for the coclulations, after we can remove the filetr\n",
    "df3.filter(df3.id=='MAC000002').count()\n"
   ]
  },
  {
   "cell_type": "code",
   "execution_count": null,
   "metadata": {},
   "outputs": [],
   "source": []
  },
  {
   "cell_type": "code",
   "execution_count": 10,
   "metadata": {},
   "outputs": [],
   "source": [
    "\n",
    "#household convert spark  dataframe\n",
    "householdd=spark.createDataFrame(df_household)\n",
    "\n",
    "#Join the housolod dataset two DataSet\n",
    "df_4=df3.withColumn(\"kwh\", df3.kwh.cast('double'))\n",
    "\n",
    "\n"
   ]
  },
  {
   "cell_type": "code",
   "execution_count": null,
   "metadata": {},
   "outputs": [],
   "source": [
    "\n"
   ]
  },
  {
   "cell_type": "code",
   "execution_count": 12,
   "metadata": {},
   "outputs": [
    {
     "data": {
      "text/plain": [
       "167932474"
      ]
     },
     "execution_count": 12,
     "metadata": {},
     "output_type": "execute_result"
    }
   ],
   "source": [
    "#filter thepip install pyspark-dist-explore data to perform to  a smaller sample all the\n",
    "#dff=df3.filter(df3.id=='MAC000002')\n",
    "\n",
    "\n",
    "#innerjoin with household and energy\n",
    "df_4.count()"
   ]
  },
  {
   "cell_type": "code",
   "execution_count": 13,
   "metadata": {},
   "outputs": [
    {
     "name": "stdout",
     "output_type": "stream",
     "text": [
      "root\n",
      " |-- DateTime: timestamp (nullable = true)\n",
      " |-- id: string (nullable = true)\n",
      " |-- std: string (nullable = true)\n",
      " |-- kwh: double (nullable = true)\n",
      " |-- year: integer (nullable = true)\n",
      " |-- month: integer (nullable = true)\n",
      " |-- date: integer (nullable = true)\n",
      " |-- hour: integer (nullable = true)\n",
      " |-- min: integer (nullable = true)\n",
      "\n"
     ]
    }
   ],
   "source": [
    "df_4.printSchema()"
   ]
  },
  {
   "cell_type": "code",
   "execution_count": 14,
   "metadata": {},
   "outputs": [],
   "source": [
    "#Join two DataSet\n",
    "#we can join and other data set"
   ]
  },
  {
   "cell_type": "code",
   "execution_count": 15,
   "metadata": {},
   "outputs": [],
   "source": [
    "df4=df_4.join(householdd, df_4.id == householdd.LCLid, 'left')"
   ]
  },
  {
   "cell_type": "code",
   "execution_count": 16,
   "metadata": {},
   "outputs": [
    {
     "name": "stdout",
     "output_type": "stream",
     "text": [
      "root\n",
      " |-- DateTime: timestamp (nullable = true)\n",
      " |-- id: string (nullable = true)\n",
      " |-- std: string (nullable = true)\n",
      " |-- kwh: double (nullable = true)\n",
      " |-- year: integer (nullable = true)\n",
      " |-- month: integer (nullable = true)\n",
      " |-- date: integer (nullable = true)\n",
      " |-- hour: integer (nullable = true)\n",
      " |-- min: integer (nullable = true)\n",
      " |-- LCLid: string (nullable = true)\n",
      " |-- stdorToU: string (nullable = true)\n",
      " |-- Acorn: string (nullable = true)\n",
      " |-- Acorn_grouped: string (nullable = true)\n",
      " |-- file: string (nullable = true)\n",
      "\n"
     ]
    }
   ],
   "source": [
    "df4.printSchema()"
   ]
  },
  {
   "cell_type": "code",
   "execution_count": 18,
   "metadata": {},
   "outputs": [
    {
     "name": "stdout",
     "output_type": "stream",
     "text": [
      "Row(DateTime=datetime.datetime(2012, 10, 12, 0, 30), id='MAC000002', std='Std', kwh=0.0, year=2012, month=10, date=12, hour=0, min=30, LCLid='MAC000002', stdorToU='Std', Acorn='ACORN-A', Acorn_grouped='Affluent', file='block_0')\n",
      "Row(DateTime=datetime.datetime(2012, 10, 12, 1, 0), id='MAC000002', std='Std', kwh=0.0, year=2012, month=10, date=12, hour=1, min=0, LCLid='MAC000002', stdorToU='Std', Acorn='ACORN-A', Acorn_grouped='Affluent', file='block_0')\n",
      "Row(DateTime=datetime.datetime(2012, 10, 12, 1, 30), id='MAC000002', std='Std', kwh=0.0, year=2012, month=10, date=12, hour=1, min=30, LCLid='MAC000002', stdorToU='Std', Acorn='ACORN-A', Acorn_grouped='Affluent', file='block_0')\n",
      "Row(DateTime=datetime.datetime(2012, 10, 12, 2, 0), id='MAC000002', std='Std', kwh=0.0, year=2012, month=10, date=12, hour=2, min=0, LCLid='MAC000002', stdorToU='Std', Acorn='ACORN-A', Acorn_grouped='Affluent', file='block_0')\n",
      "Row(DateTime=datetime.datetime(2012, 10, 12, 2, 30), id='MAC000002', std='Std', kwh=0.0, year=2012, month=10, date=12, hour=2, min=30, LCLid='MAC000002', stdorToU='Std', Acorn='ACORN-A', Acorn_grouped='Affluent', file='block_0')\n",
      "Row(DateTime=datetime.datetime(2012, 10, 12, 3, 0), id='MAC000002', std='Std', kwh=0.0, year=2012, month=10, date=12, hour=3, min=0, LCLid='MAC000002', stdorToU='Std', Acorn='ACORN-A', Acorn_grouped='Affluent', file='block_0')\n",
      "Row(DateTime=datetime.datetime(2012, 10, 12, 3, 30), id='MAC000002', std='Std', kwh=0.0, year=2012, month=10, date=12, hour=3, min=30, LCLid='MAC000002', stdorToU='Std', Acorn='ACORN-A', Acorn_grouped='Affluent', file='block_0')\n",
      "Row(DateTime=datetime.datetime(2012, 10, 12, 4, 0), id='MAC000002', std='Std', kwh=0.0, year=2012, month=10, date=12, hour=4, min=0, LCLid='MAC000002', stdorToU='Std', Acorn='ACORN-A', Acorn_grouped='Affluent', file='block_0')\n",
      "Row(DateTime=datetime.datetime(2012, 10, 12, 4, 30), id='MAC000002', std='Std', kwh=0.0, year=2012, month=10, date=12, hour=4, min=30, LCLid='MAC000002', stdorToU='Std', Acorn='ACORN-A', Acorn_grouped='Affluent', file='block_0')\n",
      "Row(DateTime=datetime.datetime(2012, 10, 12, 5, 0), id='MAC000002', std='Std', kwh=0.0, year=2012, month=10, date=12, hour=5, min=0, LCLid='MAC000002', stdorToU='Std', Acorn='ACORN-A', Acorn_grouped='Affluent', file='block_0')\n",
      "Row(DateTime=datetime.datetime(2012, 10, 12, 5, 30), id='MAC000002', std='Std', kwh=0.0, year=2012, month=10, date=12, hour=5, min=30, LCLid='MAC000002', stdorToU='Std', Acorn='ACORN-A', Acorn_grouped='Affluent', file='block_0')\n",
      "Row(DateTime=datetime.datetime(2012, 10, 12, 6, 0), id='MAC000002', std='Std', kwh=0.0, year=2012, month=10, date=12, hour=6, min=0, LCLid='MAC000002', stdorToU='Std', Acorn='ACORN-A', Acorn_grouped='Affluent', file='block_0')\n",
      "Row(DateTime=datetime.datetime(2012, 10, 12, 6, 30), id='MAC000002', std='Std', kwh=0.0, year=2012, month=10, date=12, hour=6, min=30, LCLid='MAC000002', stdorToU='Std', Acorn='ACORN-A', Acorn_grouped='Affluent', file='block_0')\n",
      "Row(DateTime=datetime.datetime(2012, 10, 12, 7, 0), id='MAC000002', std='Std', kwh=0.0, year=2012, month=10, date=12, hour=7, min=0, LCLid='MAC000002', stdorToU='Std', Acorn='ACORN-A', Acorn_grouped='Affluent', file='block_0')\n",
      "Row(DateTime=datetime.datetime(2012, 10, 12, 7, 30), id='MAC000002', std='Std', kwh=0.0, year=2012, month=10, date=12, hour=7, min=30, LCLid='MAC000002', stdorToU='Std', Acorn='ACORN-A', Acorn_grouped='Affluent', file='block_0')\n",
      "Row(DateTime=datetime.datetime(2012, 10, 12, 8, 0), id='MAC000002', std='Std', kwh=0.0, year=2012, month=10, date=12, hour=8, min=0, LCLid='MAC000002', stdorToU='Std', Acorn='ACORN-A', Acorn_grouped='Affluent', file='block_0')\n",
      "Row(DateTime=datetime.datetime(2012, 10, 12, 8, 30), id='MAC000002', std='Std', kwh=0.0, year=2012, month=10, date=12, hour=8, min=30, LCLid='MAC000002', stdorToU='Std', Acorn='ACORN-A', Acorn_grouped='Affluent', file='block_0')\n",
      "Row(DateTime=datetime.datetime(2012, 10, 12, 9, 0), id='MAC000002', std='Std', kwh=0.0, year=2012, month=10, date=12, hour=9, min=0, LCLid='MAC000002', stdorToU='Std', Acorn='ACORN-A', Acorn_grouped='Affluent', file='block_0')\n",
      "Row(DateTime=datetime.datetime(2012, 10, 12, 9, 30), id='MAC000002', std='Std', kwh=0.0, year=2012, month=10, date=12, hour=9, min=30, LCLid='MAC000002', stdorToU='Std', Acorn='ACORN-A', Acorn_grouped='Affluent', file='block_0')\n",
      "Row(DateTime=datetime.datetime(2012, 10, 12, 10, 0), id='MAC000002', std='Std', kwh=0.0, year=2012, month=10, date=12, hour=10, min=0, LCLid='MAC000002', stdorToU='Std', Acorn='ACORN-A', Acorn_grouped='Affluent', file='block_0')\n",
      "Row(DateTime=datetime.datetime(2012, 10, 12, 10, 30), id='MAC000002', std='Std', kwh=0.0, year=2012, month=10, date=12, hour=10, min=30, LCLid='MAC000002', stdorToU='Std', Acorn='ACORN-A', Acorn_grouped='Affluent', file='block_0')\n",
      "Row(DateTime=datetime.datetime(2012, 10, 12, 11, 30), id='MAC000002', std='Std', kwh=0.143, year=2012, month=10, date=12, hour=11, min=30, LCLid='MAC000002', stdorToU='Std', Acorn='ACORN-A', Acorn_grouped='Affluent', file='block_0')\n",
      "Row(DateTime=datetime.datetime(2012, 10, 12, 12, 0), id='MAC000002', std='Std', kwh=0.663, year=2012, month=10, date=12, hour=12, min=0, LCLid='MAC000002', stdorToU='Std', Acorn='ACORN-A', Acorn_grouped='Affluent', file='block_0')\n",
      "Row(DateTime=datetime.datetime(2012, 10, 12, 12, 30), id='MAC000002', std='Std', kwh=0.256, year=2012, month=10, date=12, hour=12, min=30, LCLid='MAC000002', stdorToU='Std', Acorn='ACORN-A', Acorn_grouped='Affluent', file='block_0')\n",
      "Row(DateTime=datetime.datetime(2012, 10, 12, 13, 0), id='MAC000002', std='Std', kwh=0.155, year=2012, month=10, date=12, hour=13, min=0, LCLid='MAC000002', stdorToU='Std', Acorn='ACORN-A', Acorn_grouped='Affluent', file='block_0')\n",
      "Row(DateTime=datetime.datetime(2012, 10, 12, 13, 30), id='MAC000002', std='Std', kwh=0.199, year=2012, month=10, date=12, hour=13, min=30, LCLid='MAC000002', stdorToU='Std', Acorn='ACORN-A', Acorn_grouped='Affluent', file='block_0')\n",
      "Row(DateTime=datetime.datetime(2012, 10, 12, 14, 0), id='MAC000002', std='Std', kwh=0.125, year=2012, month=10, date=12, hour=14, min=0, LCLid='MAC000002', stdorToU='Std', Acorn='ACORN-A', Acorn_grouped='Affluent', file='block_0')\n",
      "Row(DateTime=datetime.datetime(2012, 10, 12, 14, 30), id='MAC000002', std='Std', kwh=0.165, year=2012, month=10, date=12, hour=14, min=30, LCLid='MAC000002', stdorToU='Std', Acorn='ACORN-A', Acorn_grouped='Affluent', file='block_0')\n",
      "Row(DateTime=datetime.datetime(2012, 10, 12, 15, 0), id='MAC000002', std='Std', kwh=0.14, year=2012, month=10, date=12, hour=15, min=0, LCLid='MAC000002', stdorToU='Std', Acorn='ACORN-A', Acorn_grouped='Affluent', file='block_0')\n",
      "Row(DateTime=datetime.datetime(2012, 10, 12, 15, 30), id='MAC000002', std='Std', kwh=0.148, year=2012, month=10, date=12, hour=15, min=30, LCLid='MAC000002', stdorToU='Std', Acorn='ACORN-A', Acorn_grouped='Affluent', file='block_0')\n",
      "Row(DateTime=datetime.datetime(2012, 10, 12, 16, 0), id='MAC000002', std='Std', kwh=0.154, year=2012, month=10, date=12, hour=16, min=0, LCLid='MAC000002', stdorToU='Std', Acorn='ACORN-A', Acorn_grouped='Affluent', file='block_0')\n",
      "Row(DateTime=datetime.datetime(2012, 10, 12, 16, 30), id='MAC000002', std='Std', kwh=0.137, year=2012, month=10, date=12, hour=16, min=30, LCLid='MAC000002', stdorToU='Std', Acorn='ACORN-A', Acorn_grouped='Affluent', file='block_0')\n",
      "Row(DateTime=datetime.datetime(2012, 10, 12, 17, 0), id='MAC000002', std='Std', kwh=0.493, year=2012, month=10, date=12, hour=17, min=0, LCLid='MAC000002', stdorToU='Std', Acorn='ACORN-A', Acorn_grouped='Affluent', file='block_0')\n",
      "Row(DateTime=datetime.datetime(2012, 10, 12, 17, 30), id='MAC000002', std='Std', kwh=0.354, year=2012, month=10, date=12, hour=17, min=30, LCLid='MAC000002', stdorToU='Std', Acorn='ACORN-A', Acorn_grouped='Affluent', file='block_0')\n",
      "Row(DateTime=datetime.datetime(2012, 10, 12, 18, 0), id='MAC000002', std='Std', kwh=0.228, year=2012, month=10, date=12, hour=18, min=0, LCLid='MAC000002', stdorToU='Std', Acorn='ACORN-A', Acorn_grouped='Affluent', file='block_0')\n",
      "Row(DateTime=datetime.datetime(2012, 10, 12, 18, 30), id='MAC000002', std='Std', kwh=0.195, year=2012, month=10, date=12, hour=18, min=30, LCLid='MAC000002', stdorToU='Std', Acorn='ACORN-A', Acorn_grouped='Affluent', file='block_0')\n",
      "Row(DateTime=datetime.datetime(2012, 10, 12, 19, 0), id='MAC000002', std='Std', kwh=0.527, year=2012, month=10, date=12, hour=19, min=0, LCLid='MAC000002', stdorToU='Std', Acorn='ACORN-A', Acorn_grouped='Affluent', file='block_0')\n",
      "Row(DateTime=datetime.datetime(2012, 10, 12, 19, 30), id='MAC000002', std='Std', kwh=0.886, year=2012, month=10, date=12, hour=19, min=30, LCLid='MAC000002', stdorToU='Std', Acorn='ACORN-A', Acorn_grouped='Affluent', file='block_0')\n",
      "Row(DateTime=datetime.datetime(2012, 10, 12, 20, 0), id='MAC000002', std='Std', kwh=0.198, year=2012, month=10, date=12, hour=20, min=0, LCLid='MAC000002', stdorToU='Std', Acorn='ACORN-A', Acorn_grouped='Affluent', file='block_0')\n",
      "Row(DateTime=datetime.datetime(2012, 10, 12, 20, 30), id='MAC000002', std='Std', kwh=0.243, year=2012, month=10, date=12, hour=20, min=30, LCLid='MAC000002', stdorToU='Std', Acorn='ACORN-A', Acorn_grouped='Affluent', file='block_0')\n",
      "Row(DateTime=datetime.datetime(2012, 10, 12, 21, 0), id='MAC000002', std='Std', kwh=0.193, year=2012, month=10, date=12, hour=21, min=0, LCLid='MAC000002', stdorToU='Std', Acorn='ACORN-A', Acorn_grouped='Affluent', file='block_0')\n",
      "Row(DateTime=datetime.datetime(2012, 10, 12, 21, 30), id='MAC000002', std='Std', kwh=0.342, year=2012, month=10, date=12, hour=21, min=30, LCLid='MAC000002', stdorToU='Std', Acorn='ACORN-A', Acorn_grouped='Affluent', file='block_0')\n",
      "Row(DateTime=datetime.datetime(2012, 10, 12, 22, 0), id='MAC000002', std='Std', kwh=0.27, year=2012, month=10, date=12, hour=22, min=0, LCLid='MAC000002', stdorToU='Std', Acorn='ACORN-A', Acorn_grouped='Affluent', file='block_0')\n",
      "Row(DateTime=datetime.datetime(2012, 10, 12, 22, 30), id='MAC000002', std='Std', kwh=0.325, year=2012, month=10, date=12, hour=22, min=30, LCLid='MAC000002', stdorToU='Std', Acorn='ACORN-A', Acorn_grouped='Affluent', file='block_0')\n",
      "Row(DateTime=datetime.datetime(2012, 10, 12, 23, 0), id='MAC000002', std='Std', kwh=0.269, year=2012, month=10, date=12, hour=23, min=0, LCLid='MAC000002', stdorToU='Std', Acorn='ACORN-A', Acorn_grouped='Affluent', file='block_0')\n",
      "Row(DateTime=datetime.datetime(2012, 10, 12, 23, 30), id='MAC000002', std='Std', kwh=0.29, year=2012, month=10, date=12, hour=23, min=30, LCLid='MAC000002', stdorToU='Std', Acorn='ACORN-A', Acorn_grouped='Affluent', file='block_0')\n",
      "Row(DateTime=datetime.datetime(2012, 10, 13, 0, 0), id='MAC000002', std='Std', kwh=0.263, year=2012, month=10, date=13, hour=0, min=0, LCLid='MAC000002', stdorToU='Std', Acorn='ACORN-A', Acorn_grouped='Affluent', file='block_0')\n",
      "Row(DateTime=datetime.datetime(2012, 10, 13, 0, 30), id='MAC000002', std='Std', kwh=0.269, year=2012, month=10, date=13, hour=0, min=30, LCLid='MAC000002', stdorToU='Std', Acorn='ACORN-A', Acorn_grouped='Affluent', file='block_0')\n",
      "Row(DateTime=datetime.datetime(2012, 10, 13, 1, 0), id='MAC000002', std='Std', kwh=0.275, year=2012, month=10, date=13, hour=1, min=0, LCLid='MAC000002', stdorToU='Std', Acorn='ACORN-A', Acorn_grouped='Affluent', file='block_0')\n",
      "Row(DateTime=datetime.datetime(2012, 10, 13, 1, 30), id='MAC000002', std='Std', kwh=0.256, year=2012, month=10, date=13, hour=1, min=30, LCLid='MAC000002', stdorToU='Std', Acorn='ACORN-A', Acorn_grouped='Affluent', file='block_0')\n"
     ]
    }
   ],
   "source": [
    "for i in df4.head(50):\n",
    "    print(i)"
   ]
  },
  {
   "cell_type": "code",
   "execution_count": 98,
   "metadata": {},
   "outputs": [
    {
     "data": {
      "text/plain": [
       "[Row(DateTime=datetime.datetime(2012, 10, 12, 0, 30), id='MAC000002', std='Std', kwh=0.0, year=2012, month=10, date=12, hour=0, min=30, LCLid='MAC000002', stdorToU='Std', Acorn='ACORN-A', Acorn_grouped='Affluent', file='block_0'),\n",
       " Row(DateTime=datetime.datetime(2012, 10, 12, 1, 0), id='MAC000002', std='Std', kwh=0.0, year=2012, month=10, date=12, hour=1, min=0, LCLid='MAC000002', stdorToU='Std', Acorn='ACORN-A', Acorn_grouped='Affluent', file='block_0'),\n",
       " Row(DateTime=datetime.datetime(2012, 10, 12, 1, 30), id='MAC000002', std='Std', kwh=0.0, year=2012, month=10, date=12, hour=1, min=30, LCLid='MAC000002', stdorToU='Std', Acorn='ACORN-A', Acorn_grouped='Affluent', file='block_0'),\n",
       " Row(DateTime=datetime.datetime(2012, 10, 12, 2, 0), id='MAC000002', std='Std', kwh=0.0, year=2012, month=10, date=12, hour=2, min=0, LCLid='MAC000002', stdorToU='Std', Acorn='ACORN-A', Acorn_grouped='Affluent', file='block_0'),\n",
       " Row(DateTime=datetime.datetime(2012, 10, 12, 2, 30), id='MAC000002', std='Std', kwh=0.0, year=2012, month=10, date=12, hour=2, min=30, LCLid='MAC000002', stdorToU='Std', Acorn='ACORN-A', Acorn_grouped='Affluent', file='block_0'),\n",
       " Row(DateTime=datetime.datetime(2012, 10, 12, 3, 0), id='MAC000002', std='Std', kwh=0.0, year=2012, month=10, date=12, hour=3, min=0, LCLid='MAC000002', stdorToU='Std', Acorn='ACORN-A', Acorn_grouped='Affluent', file='block_0'),\n",
       " Row(DateTime=datetime.datetime(2012, 10, 12, 3, 30), id='MAC000002', std='Std', kwh=0.0, year=2012, month=10, date=12, hour=3, min=30, LCLid='MAC000002', stdorToU='Std', Acorn='ACORN-A', Acorn_grouped='Affluent', file='block_0'),\n",
       " Row(DateTime=datetime.datetime(2012, 10, 12, 4, 0), id='MAC000002', std='Std', kwh=0.0, year=2012, month=10, date=12, hour=4, min=0, LCLid='MAC000002', stdorToU='Std', Acorn='ACORN-A', Acorn_grouped='Affluent', file='block_0'),\n",
       " Row(DateTime=datetime.datetime(2012, 10, 12, 4, 30), id='MAC000002', std='Std', kwh=0.0, year=2012, month=10, date=12, hour=4, min=30, LCLid='MAC000002', stdorToU='Std', Acorn='ACORN-A', Acorn_grouped='Affluent', file='block_0'),\n",
       " Row(DateTime=datetime.datetime(2012, 10, 12, 5, 0), id='MAC000002', std='Std', kwh=0.0, year=2012, month=10, date=12, hour=5, min=0, LCLid='MAC000002', stdorToU='Std', Acorn='ACORN-A', Acorn_grouped='Affluent', file='block_0'),\n",
       " Row(DateTime=datetime.datetime(2012, 10, 12, 5, 30), id='MAC000002', std='Std', kwh=0.0, year=2012, month=10, date=12, hour=5, min=30, LCLid='MAC000002', stdorToU='Std', Acorn='ACORN-A', Acorn_grouped='Affluent', file='block_0'),\n",
       " Row(DateTime=datetime.datetime(2012, 10, 12, 6, 0), id='MAC000002', std='Std', kwh=0.0, year=2012, month=10, date=12, hour=6, min=0, LCLid='MAC000002', stdorToU='Std', Acorn='ACORN-A', Acorn_grouped='Affluent', file='block_0'),\n",
       " Row(DateTime=datetime.datetime(2012, 10, 12, 6, 30), id='MAC000002', std='Std', kwh=0.0, year=2012, month=10, date=12, hour=6, min=30, LCLid='MAC000002', stdorToU='Std', Acorn='ACORN-A', Acorn_grouped='Affluent', file='block_0'),\n",
       " Row(DateTime=datetime.datetime(2012, 10, 12, 7, 0), id='MAC000002', std='Std', kwh=0.0, year=2012, month=10, date=12, hour=7, min=0, LCLid='MAC000002', stdorToU='Std', Acorn='ACORN-A', Acorn_grouped='Affluent', file='block_0'),\n",
       " Row(DateTime=datetime.datetime(2012, 10, 12, 7, 30), id='MAC000002', std='Std', kwh=0.0, year=2012, month=10, date=12, hour=7, min=30, LCLid='MAC000002', stdorToU='Std', Acorn='ACORN-A', Acorn_grouped='Affluent', file='block_0'),\n",
       " Row(DateTime=datetime.datetime(2012, 10, 12, 8, 0), id='MAC000002', std='Std', kwh=0.0, year=2012, month=10, date=12, hour=8, min=0, LCLid='MAC000002', stdorToU='Std', Acorn='ACORN-A', Acorn_grouped='Affluent', file='block_0'),\n",
       " Row(DateTime=datetime.datetime(2012, 10, 12, 8, 30), id='MAC000002', std='Std', kwh=0.0, year=2012, month=10, date=12, hour=8, min=30, LCLid='MAC000002', stdorToU='Std', Acorn='ACORN-A', Acorn_grouped='Affluent', file='block_0'),\n",
       " Row(DateTime=datetime.datetime(2012, 10, 12, 9, 0), id='MAC000002', std='Std', kwh=0.0, year=2012, month=10, date=12, hour=9, min=0, LCLid='MAC000002', stdorToU='Std', Acorn='ACORN-A', Acorn_grouped='Affluent', file='block_0'),\n",
       " Row(DateTime=datetime.datetime(2012, 10, 12, 9, 30), id='MAC000002', std='Std', kwh=0.0, year=2012, month=10, date=12, hour=9, min=30, LCLid='MAC000002', stdorToU='Std', Acorn='ACORN-A', Acorn_grouped='Affluent', file='block_0'),\n",
       " Row(DateTime=datetime.datetime(2012, 10, 12, 10, 0), id='MAC000002', std='Std', kwh=0.0, year=2012, month=10, date=12, hour=10, min=0, LCLid='MAC000002', stdorToU='Std', Acorn='ACORN-A', Acorn_grouped='Affluent', file='block_0'),\n",
       " Row(DateTime=datetime.datetime(2012, 10, 12, 10, 30), id='MAC000002', std='Std', kwh=0.0, year=2012, month=10, date=12, hour=10, min=30, LCLid='MAC000002', stdorToU='Std', Acorn='ACORN-A', Acorn_grouped='Affluent', file='block_0'),\n",
       " Row(DateTime=datetime.datetime(2012, 10, 12, 11, 30), id='MAC000002', std='Std', kwh=0.143, year=2012, month=10, date=12, hour=11, min=30, LCLid='MAC000002', stdorToU='Std', Acorn='ACORN-A', Acorn_grouped='Affluent', file='block_0'),\n",
       " Row(DateTime=datetime.datetime(2012, 10, 12, 12, 0), id='MAC000002', std='Std', kwh=0.663, year=2012, month=10, date=12, hour=12, min=0, LCLid='MAC000002', stdorToU='Std', Acorn='ACORN-A', Acorn_grouped='Affluent', file='block_0'),\n",
       " Row(DateTime=datetime.datetime(2012, 10, 12, 12, 30), id='MAC000002', std='Std', kwh=0.256, year=2012, month=10, date=12, hour=12, min=30, LCLid='MAC000002', stdorToU='Std', Acorn='ACORN-A', Acorn_grouped='Affluent', file='block_0'),\n",
       " Row(DateTime=datetime.datetime(2012, 10, 12, 13, 0), id='MAC000002', std='Std', kwh=0.155, year=2012, month=10, date=12, hour=13, min=0, LCLid='MAC000002', stdorToU='Std', Acorn='ACORN-A', Acorn_grouped='Affluent', file='block_0'),\n",
       " Row(DateTime=datetime.datetime(2012, 10, 12, 13, 30), id='MAC000002', std='Std', kwh=0.199, year=2012, month=10, date=12, hour=13, min=30, LCLid='MAC000002', stdorToU='Std', Acorn='ACORN-A', Acorn_grouped='Affluent', file='block_0'),\n",
       " Row(DateTime=datetime.datetime(2012, 10, 12, 14, 0), id='MAC000002', std='Std', kwh=0.125, year=2012, month=10, date=12, hour=14, min=0, LCLid='MAC000002', stdorToU='Std', Acorn='ACORN-A', Acorn_grouped='Affluent', file='block_0'),\n",
       " Row(DateTime=datetime.datetime(2012, 10, 12, 14, 30), id='MAC000002', std='Std', kwh=0.165, year=2012, month=10, date=12, hour=14, min=30, LCLid='MAC000002', stdorToU='Std', Acorn='ACORN-A', Acorn_grouped='Affluent', file='block_0'),\n",
       " Row(DateTime=datetime.datetime(2012, 10, 12, 15, 0), id='MAC000002', std='Std', kwh=0.14, year=2012, month=10, date=12, hour=15, min=0, LCLid='MAC000002', stdorToU='Std', Acorn='ACORN-A', Acorn_grouped='Affluent', file='block_0'),\n",
       " Row(DateTime=datetime.datetime(2012, 10, 12, 15, 30), id='MAC000002', std='Std', kwh=0.148, year=2012, month=10, date=12, hour=15, min=30, LCLid='MAC000002', stdorToU='Std', Acorn='ACORN-A', Acorn_grouped='Affluent', file='block_0'),\n",
       " Row(DateTime=datetime.datetime(2012, 10, 12, 16, 0), id='MAC000002', std='Std', kwh=0.154, year=2012, month=10, date=12, hour=16, min=0, LCLid='MAC000002', stdorToU='Std', Acorn='ACORN-A', Acorn_grouped='Affluent', file='block_0'),\n",
       " Row(DateTime=datetime.datetime(2012, 10, 12, 16, 30), id='MAC000002', std='Std', kwh=0.137, year=2012, month=10, date=12, hour=16, min=30, LCLid='MAC000002', stdorToU='Std', Acorn='ACORN-A', Acorn_grouped='Affluent', file='block_0'),\n",
       " Row(DateTime=datetime.datetime(2012, 10, 12, 17, 0), id='MAC000002', std='Std', kwh=0.493, year=2012, month=10, date=12, hour=17, min=0, LCLid='MAC000002', stdorToU='Std', Acorn='ACORN-A', Acorn_grouped='Affluent', file='block_0'),\n",
       " Row(DateTime=datetime.datetime(2012, 10, 12, 17, 30), id='MAC000002', std='Std', kwh=0.354, year=2012, month=10, date=12, hour=17, min=30, LCLid='MAC000002', stdorToU='Std', Acorn='ACORN-A', Acorn_grouped='Affluent', file='block_0'),\n",
       " Row(DateTime=datetime.datetime(2012, 10, 12, 18, 0), id='MAC000002', std='Std', kwh=0.228, year=2012, month=10, date=12, hour=18, min=0, LCLid='MAC000002', stdorToU='Std', Acorn='ACORN-A', Acorn_grouped='Affluent', file='block_0'),\n",
       " Row(DateTime=datetime.datetime(2012, 10, 12, 18, 30), id='MAC000002', std='Std', kwh=0.195, year=2012, month=10, date=12, hour=18, min=30, LCLid='MAC000002', stdorToU='Std', Acorn='ACORN-A', Acorn_grouped='Affluent', file='block_0'),\n",
       " Row(DateTime=datetime.datetime(2012, 10, 12, 19, 0), id='MAC000002', std='Std', kwh=0.527, year=2012, month=10, date=12, hour=19, min=0, LCLid='MAC000002', stdorToU='Std', Acorn='ACORN-A', Acorn_grouped='Affluent', file='block_0'),\n",
       " Row(DateTime=datetime.datetime(2012, 10, 12, 19, 30), id='MAC000002', std='Std', kwh=0.886, year=2012, month=10, date=12, hour=19, min=30, LCLid='MAC000002', stdorToU='Std', Acorn='ACORN-A', Acorn_grouped='Affluent', file='block_0'),\n",
       " Row(DateTime=datetime.datetime(2012, 10, 12, 20, 0), id='MAC000002', std='Std', kwh=0.198, year=2012, month=10, date=12, hour=20, min=0, LCLid='MAC000002', stdorToU='Std', Acorn='ACORN-A', Acorn_grouped='Affluent', file='block_0'),\n",
       " Row(DateTime=datetime.datetime(2012, 10, 12, 20, 30), id='MAC000002', std='Std', kwh=0.243, year=2012, month=10, date=12, hour=20, min=30, LCLid='MAC000002', stdorToU='Std', Acorn='ACORN-A', Acorn_grouped='Affluent', file='block_0'),\n",
       " Row(DateTime=datetime.datetime(2012, 10, 12, 21, 0), id='MAC000002', std='Std', kwh=0.193, year=2012, month=10, date=12, hour=21, min=0, LCLid='MAC000002', stdorToU='Std', Acorn='ACORN-A', Acorn_grouped='Affluent', file='block_0'),\n",
       " Row(DateTime=datetime.datetime(2012, 10, 12, 21, 30), id='MAC000002', std='Std', kwh=0.342, year=2012, month=10, date=12, hour=21, min=30, LCLid='MAC000002', stdorToU='Std', Acorn='ACORN-A', Acorn_grouped='Affluent', file='block_0'),\n",
       " Row(DateTime=datetime.datetime(2012, 10, 12, 22, 0), id='MAC000002', std='Std', kwh=0.27, year=2012, month=10, date=12, hour=22, min=0, LCLid='MAC000002', stdorToU='Std', Acorn='ACORN-A', Acorn_grouped='Affluent', file='block_0'),\n",
       " Row(DateTime=datetime.datetime(2012, 10, 12, 22, 30), id='MAC000002', std='Std', kwh=0.325, year=2012, month=10, date=12, hour=22, min=30, LCLid='MAC000002', stdorToU='Std', Acorn='ACORN-A', Acorn_grouped='Affluent', file='block_0'),\n",
       " Row(DateTime=datetime.datetime(2012, 10, 12, 23, 0), id='MAC000002', std='Std', kwh=0.269, year=2012, month=10, date=12, hour=23, min=0, LCLid='MAC000002', stdorToU='Std', Acorn='ACORN-A', Acorn_grouped='Affluent', file='block_0'),\n",
       " Row(DateTime=datetime.datetime(2012, 10, 12, 23, 30), id='MAC000002', std='Std', kwh=0.29, year=2012, month=10, date=12, hour=23, min=30, LCLid='MAC000002', stdorToU='Std', Acorn='ACORN-A', Acorn_grouped='Affluent', file='block_0'),\n",
       " Row(DateTime=datetime.datetime(2012, 10, 13, 0, 0), id='MAC000002', std='Std', kwh=0.263, year=2012, month=10, date=13, hour=0, min=0, LCLid='MAC000002', stdorToU='Std', Acorn='ACORN-A', Acorn_grouped='Affluent', file='block_0'),\n",
       " Row(DateTime=datetime.datetime(2012, 10, 13, 0, 30), id='MAC000002', std='Std', kwh=0.269, year=2012, month=10, date=13, hour=0, min=30, LCLid='MAC000002', stdorToU='Std', Acorn='ACORN-A', Acorn_grouped='Affluent', file='block_0'),\n",
       " Row(DateTime=datetime.datetime(2012, 10, 13, 1, 0), id='MAC000002', std='Std', kwh=0.275, year=2012, month=10, date=13, hour=1, min=0, LCLid='MAC000002', stdorToU='Std', Acorn='ACORN-A', Acorn_grouped='Affluent', file='block_0'),\n",
       " Row(DateTime=datetime.datetime(2012, 10, 13, 1, 30), id='MAC000002', std='Std', kwh=0.256, year=2012, month=10, date=13, hour=1, min=30, LCLid='MAC000002', stdorToU='Std', Acorn='ACORN-A', Acorn_grouped='Affluent', file='block_0')]"
      ]
     },
     "execution_count": 98,
     "metadata": {},
     "output_type": "execute_result"
    }
   ],
   "source": [
    "df4.head(50)"
   ]
  },
  {
   "cell_type": "code",
   "execution_count": 83,
   "metadata": {},
   "outputs": [
    {
     "data": {
      "text/plain": [
       "167932474"
      ]
     },
     "execution_count": 83,
     "metadata": {},
     "output_type": "execute_result"
    }
   ],
   "source": [
    "df4.count()"
   ]
  },
  {
   "cell_type": "code",
   "execution_count": null,
   "metadata": {},
   "outputs": [],
   "source": [
    "#move the hours to the coloums maybe is useful and export to Csv"
   ]
  },
  {
   "cell_type": "code",
   "execution_count": 100,
   "metadata": {},
   "outputs": [],
   "source": [
    "pivot_hours = df4.groupby(\"id\",\"year\",\"month\",\"date\",\"std\").pivot(\"hour\").sum(\"kwh\")"
   ]
  },
  {
   "cell_type": "code",
   "execution_count": 134,
   "metadata": {},
   "outputs": [
    {
     "name": "stdout",
     "output_type": "stream",
     "text": [
      "root\n",
      " |-- DateTime: timestamp (nullable = true)\n",
      " |-- id: string (nullable = true)\n",
      " |-- std: string (nullable = true)\n",
      " |-- kwh: double (nullable = true)\n",
      " |-- year: integer (nullable = true)\n",
      " |-- month: integer (nullable = true)\n",
      " |-- date: integer (nullable = true)\n",
      " |-- hour: integer (nullable = true)\n",
      " |-- min: integer (nullable = true)\n",
      " |-- LCLid: string (nullable = true)\n",
      " |-- stdorToU: string (nullable = true)\n",
      " |-- Acorn: string (nullable = true)\n",
      " |-- Acorn_grouped: string (nullable = true)\n",
      " |-- file: string (nullable = true)\n",
      "\n"
     ]
    }
   ],
   "source": [
    "df4.printSchema()"
   ]
  },
  {
   "cell_type": "code",
   "execution_count": 137,
   "metadata": {},
   "outputs": [],
   "source": [
    "from pyspark.sql import functions as f\n",
    "df_hour=df4.groupBy(\"id\",\"hour\",\"Acorn\",\"Acorn_grouped\").agg(f.sum(\"kwh\"))"
   ]
  },
  {
   "cell_type": "code",
   "execution_count": 138,
   "metadata": {},
   "outputs": [
    {
     "data": {
      "text/plain": [
       "133468"
      ]
     },
     "execution_count": 138,
     "metadata": {},
     "output_type": "execute_result"
    }
   ],
   "source": [
    "df_hour.count()"
   ]
  },
  {
   "cell_type": "code",
   "execution_count": 139,
   "metadata": {},
   "outputs": [
    {
     "data": {
      "text/plain": [
       "[Row(id='MAC000032', hour=12, Acorn='ACORN-Q', Acorn_grouped='Adversity', sum(kwh)=222.94700009999946)]"
      ]
     },
     "execution_count": 139,
     "metadata": {},
     "output_type": "execute_result"
    }
   ],
   "source": [
    "df_hour.head(1)"
   ]
  },
  {
   "cell_type": "code",
   "execution_count": 177,
   "metadata": {},
   "outputs": [],
   "source": [
    "#create all hours to pandas\n",
    "df_hour_pandas=df_hour.toPandas()"
   ]
  },
  {
   "cell_type": "code",
   "execution_count": 178,
   "metadata": {},
   "outputs": [
    {
     "data": {
      "text/plain": [
       "pandas.core.frame.DataFrame"
      ]
     },
     "execution_count": 178,
     "metadata": {},
     "output_type": "execute_result"
    }
   ],
   "source": [
    "type(df_hour_pandas)"
   ]
  },
  {
   "cell_type": "code",
   "execution_count": 180,
   "metadata": {},
   "outputs": [
    {
     "data": {
      "text/html": [
       "<div>\n",
       "<style scoped>\n",
       "    .dataframe tbody tr th:only-of-type {\n",
       "        vertical-align: middle;\n",
       "    }\n",
       "\n",
       "    .dataframe tbody tr th {\n",
       "        vertical-align: top;\n",
       "    }\n",
       "\n",
       "    .dataframe thead th {\n",
       "        text-align: right;\n",
       "    }\n",
       "</style>\n",
       "<table border=\"1\" class=\"dataframe\">\n",
       "  <thead>\n",
       "    <tr style=\"text-align: right;\">\n",
       "      <th></th>\n",
       "      <th>id</th>\n",
       "      <th>hour</th>\n",
       "      <th>Acorn</th>\n",
       "      <th>Acorn_grouped</th>\n",
       "      <th>sum(kwh)</th>\n",
       "    </tr>\n",
       "  </thead>\n",
       "  <tbody>\n",
       "    <tr>\n",
       "      <th>0</th>\n",
       "      <td>MAC000032</td>\n",
       "      <td>12</td>\n",
       "      <td>ACORN-Q</td>\n",
       "      <td>Adversity</td>\n",
       "      <td>222.947000100</td>\n",
       "    </tr>\n",
       "    <tr>\n",
       "      <th>1</th>\n",
       "      <td>MAC000032</td>\n",
       "      <td>13</td>\n",
       "      <td>ACORN-Q</td>\n",
       "      <td>Adversity</td>\n",
       "      <td>144.688999800</td>\n",
       "    </tr>\n",
       "    <tr>\n",
       "      <th>2</th>\n",
       "      <td>MAC000032</td>\n",
       "      <td>14</td>\n",
       "      <td>ACORN-Q</td>\n",
       "      <td>Adversity</td>\n",
       "      <td>104.002999900</td>\n",
       "    </tr>\n",
       "    <tr>\n",
       "      <th>3</th>\n",
       "      <td>MAC000032</td>\n",
       "      <td>15</td>\n",
       "      <td>ACORN-Q</td>\n",
       "      <td>Adversity</td>\n",
       "      <td>118.575000100</td>\n",
       "    </tr>\n",
       "    <tr>\n",
       "      <th>4</th>\n",
       "      <td>MAC000032</td>\n",
       "      <td>16</td>\n",
       "      <td>ACORN-Q</td>\n",
       "      <td>Adversity</td>\n",
       "      <td>155.270999900</td>\n",
       "    </tr>\n",
       "    <tr>\n",
       "      <th>...</th>\n",
       "      <td>...</td>\n",
       "      <td>...</td>\n",
       "      <td>...</td>\n",
       "      <td>...</td>\n",
       "      <td>...</td>\n",
       "    </tr>\n",
       "    <tr>\n",
       "      <th>133463</th>\n",
       "      <td>MAC000075</td>\n",
       "      <td>6</td>\n",
       "      <td>ACORN-E</td>\n",
       "      <td>Affluent</td>\n",
       "      <td>141.986000000</td>\n",
       "    </tr>\n",
       "    <tr>\n",
       "      <th>133464</th>\n",
       "      <td>MAC002602</td>\n",
       "      <td>12</td>\n",
       "      <td>ACORN-H</td>\n",
       "      <td>Comfortable</td>\n",
       "      <td>170.100000000</td>\n",
       "    </tr>\n",
       "    <tr>\n",
       "      <th>133465</th>\n",
       "      <td>MAC002602</td>\n",
       "      <td>13</td>\n",
       "      <td>ACORN-H</td>\n",
       "      <td>Comfortable</td>\n",
       "      <td>202.698000000</td>\n",
       "    </tr>\n",
       "    <tr>\n",
       "      <th>133466</th>\n",
       "      <td>MAC002794</td>\n",
       "      <td>6</td>\n",
       "      <td>ACORN-F</td>\n",
       "      <td>Comfortable</td>\n",
       "      <td>263.987000000</td>\n",
       "    </tr>\n",
       "    <tr>\n",
       "      <th>133467</th>\n",
       "      <td>MAC003503</td>\n",
       "      <td>19</td>\n",
       "      <td>ACORN-F</td>\n",
       "      <td>Comfortable</td>\n",
       "      <td>120.605000000</td>\n",
       "    </tr>\n",
       "  </tbody>\n",
       "</table>\n",
       "<p>133468 rows × 5 columns</p>\n",
       "</div>"
      ],
      "text/plain": [
       "               id  hour    Acorn Acorn_grouped      sum(kwh)\n",
       "0       MAC000032    12  ACORN-Q     Adversity 222.947000100\n",
       "1       MAC000032    13  ACORN-Q     Adversity 144.688999800\n",
       "2       MAC000032    14  ACORN-Q     Adversity 104.002999900\n",
       "3       MAC000032    15  ACORN-Q     Adversity 118.575000100\n",
       "4       MAC000032    16  ACORN-Q     Adversity 155.270999900\n",
       "...           ...   ...      ...           ...           ...\n",
       "133463  MAC000075     6  ACORN-E      Affluent 141.986000000\n",
       "133464  MAC002602    12  ACORN-H   Comfortable 170.100000000\n",
       "133465  MAC002602    13  ACORN-H   Comfortable 202.698000000\n",
       "133466  MAC002794     6  ACORN-F   Comfortable 263.987000000\n",
       "133467  MAC003503    19  ACORN-F   Comfortable 120.605000000\n",
       "\n",
       "[133468 rows x 5 columns]"
      ]
     },
     "execution_count": 180,
     "metadata": {},
     "output_type": "execute_result"
    }
   ],
   "source": [
    "#at this dataset we could \n",
    "df_hour_pandas"
   ]
  },
  {
   "cell_type": "code",
   "execution_count": 194,
   "metadata": {},
   "outputs": [],
   "source": [
    "df_id_hours=df_hour_pandas.groupby([\"id\",\"hour\"], as_index=False)[\"sum(kwh)\"].sum()"
   ]
  },
  {
   "cell_type": "code",
   "execution_count": 186,
   "metadata": {},
   "outputs": [
    {
     "data": {
      "text/plain": [
       "127903"
      ]
     },
     "execution_count": 186,
     "metadata": {},
     "output_type": "execute_result"
    }
   ],
   "source": [
    "5561*23"
   ]
  },
  {
   "cell_type": "code",
   "execution_count": 195,
   "metadata": {},
   "outputs": [
    {
     "data": {
      "text/html": [
       "<div>\n",
       "<style scoped>\n",
       "    .dataframe tbody tr th:only-of-type {\n",
       "        vertical-align: middle;\n",
       "    }\n",
       "\n",
       "    .dataframe tbody tr th {\n",
       "        vertical-align: top;\n",
       "    }\n",
       "\n",
       "    .dataframe thead th {\n",
       "        text-align: right;\n",
       "    }\n",
       "</style>\n",
       "<table border=\"1\" class=\"dataframe\">\n",
       "  <thead>\n",
       "    <tr style=\"text-align: right;\">\n",
       "      <th></th>\n",
       "      <th>id</th>\n",
       "      <th>hour</th>\n",
       "      <th>sum(kwh)</th>\n",
       "    </tr>\n",
       "  </thead>\n",
       "  <tbody>\n",
       "    <tr>\n",
       "      <th>0</th>\n",
       "      <td>MAC000002</td>\n",
       "      <td>0</td>\n",
       "      <td>290.864999800</td>\n",
       "    </tr>\n",
       "    <tr>\n",
       "      <th>1</th>\n",
       "      <td>MAC000002</td>\n",
       "      <td>1</td>\n",
       "      <td>234.931000000</td>\n",
       "    </tr>\n",
       "    <tr>\n",
       "      <th>2</th>\n",
       "      <td>MAC000002</td>\n",
       "      <td>2</td>\n",
       "      <td>167.784000000</td>\n",
       "    </tr>\n",
       "    <tr>\n",
       "      <th>3</th>\n",
       "      <td>MAC000002</td>\n",
       "      <td>3</td>\n",
       "      <td>124.376000000</td>\n",
       "    </tr>\n",
       "    <tr>\n",
       "      <th>4</th>\n",
       "      <td>MAC000002</td>\n",
       "      <td>4</td>\n",
       "      <td>113.746000000</td>\n",
       "    </tr>\n",
       "    <tr>\n",
       "      <th>...</th>\n",
       "      <td>...</td>\n",
       "      <td>...</td>\n",
       "      <td>...</td>\n",
       "    </tr>\n",
       "    <tr>\n",
       "      <th>133463</th>\n",
       "      <td>MAC005567</td>\n",
       "      <td>19</td>\n",
       "      <td>135.249999700</td>\n",
       "    </tr>\n",
       "    <tr>\n",
       "      <th>133464</th>\n",
       "      <td>MAC005567</td>\n",
       "      <td>20</td>\n",
       "      <td>143.280000000</td>\n",
       "    </tr>\n",
       "    <tr>\n",
       "      <th>133465</th>\n",
       "      <td>MAC005567</td>\n",
       "      <td>21</td>\n",
       "      <td>153.258000000</td>\n",
       "    </tr>\n",
       "    <tr>\n",
       "      <th>133466</th>\n",
       "      <td>MAC005567</td>\n",
       "      <td>22</td>\n",
       "      <td>153.583000000</td>\n",
       "    </tr>\n",
       "    <tr>\n",
       "      <th>133467</th>\n",
       "      <td>MAC005567</td>\n",
       "      <td>23</td>\n",
       "      <td>143.960000000</td>\n",
       "    </tr>\n",
       "  </tbody>\n",
       "</table>\n",
       "<p>133468 rows × 3 columns</p>\n",
       "</div>"
      ],
      "text/plain": [
       "               id  hour      sum(kwh)\n",
       "0       MAC000002     0 290.864999800\n",
       "1       MAC000002     1 234.931000000\n",
       "2       MAC000002     2 167.784000000\n",
       "3       MAC000002     3 124.376000000\n",
       "4       MAC000002     4 113.746000000\n",
       "...           ...   ...           ...\n",
       "133463  MAC005567    19 135.249999700\n",
       "133464  MAC005567    20 143.280000000\n",
       "133465  MAC005567    21 153.258000000\n",
       "133466  MAC005567    22 153.583000000\n",
       "133467  MAC005567    23 143.960000000\n",
       "\n",
       "[133468 rows x 3 columns]"
      ]
     },
     "execution_count": 195,
     "metadata": {},
     "output_type": "execute_result"
    }
   ],
   "source": [
    "df_id_hours"
   ]
  },
  {
   "cell_type": "code",
   "execution_count": 196,
   "metadata": {},
   "outputs": [],
   "source": [
    "%matplotlib inline"
   ]
  },
  {
   "cell_type": "code",
   "execution_count": 198,
   "metadata": {},
   "outputs": [
    {
     "data": {
      "text/plain": [
       "Index(['id', 'hour', 'sum(kwh)'], dtype='object')"
      ]
     },
     "execution_count": 198,
     "metadata": {},
     "output_type": "execute_result"
    }
   ],
   "source": [
    "df_id_hours.columns\n"
   ]
  },
  {
   "cell_type": "code",
   "execution_count": 207,
   "metadata": {},
   "outputs": [],
   "source": [
    "df_hour_pandas.rename(columns = {'sum(kwh)':'energy',}, inplace = True)"
   ]
  },
  {
   "cell_type": "code",
   "execution_count": 210,
   "metadata": {},
   "outputs": [
    {
     "data": {
      "text/plain": [
       "<AxesSubplot:>"
      ]
     },
     "execution_count": 210,
     "metadata": {},
     "output_type": "execute_result"
    },
    {
     "data": {
      "image/png": "[encoded data removed]",
      "text/plain": [
       "<Figure size 432x288 with 1 Axes>"
      ]
     },
     "metadata": {
      "needs_background": "light"
     },
     "output_type": "display_data"
    }
   ],
   "source": [
    "df_hour_pandas.plot(kind='box')"
   ]
  },
  {
   "cell_type": "code",
   "execution_count": null,
   "metadata": {},
   "outputs": [],
   "source": []
  },
  {
   "cell_type": "code",
   "execution_count": 218,
   "metadata": {},
   "outputs": [],
   "source": [
    "import seaborn as sns"
   ]
  },
  {
   "cell_type": "code",
   "execution_count": null,
   "metadata": {
    "pycharm": {
     "name": "#%%\n"
    }
   },
   "outputs": [],
   "source": [
    "sns.set_style('whitegrid')\n",
    "ax= sns.boxplot(x='hour',y='hour',data=df_hour_pandas)\n",
    "ax = sns.stripplot(x=\"energy\", y=\"energy\",data=df_hour_pandas)"
   ]
  },
  {
   "cell_type": "code",
   "execution_count": null,
   "metadata": {},
   "outputs": [],
   "source": []
  },
  {
   "cell_type": "code",
   "execution_count": null,
   "metadata": {},
   "outputs": [],
   "source": []
  },
  {
   "cell_type": "code",
   "execution_count": null,
   "metadata": {},
   "outputs": [],
   "source": []
  },
  {
   "cell_type": "code",
   "execution_count": null,
   "metadata": {},
   "outputs": [],
   "source": []
  },
  {
   "cell_type": "code",
   "execution_count": null,
   "metadata": {},
   "outputs": [],
   "source": []
  },
  {
   "cell_type": "code",
   "execution_count": null,
   "metadata": {},
   "outputs": [],
   "source": []
  },
  {
   "cell_type": "code",
   "execution_count": 208,
   "metadata": {},
   "outputs": [
    {
     "data": {
      "text/html": [
       "<div>\n",
       "<style scoped>\n",
       "    .dataframe tbody tr th:only-of-type {\n",
       "        vertical-align: middle;\n",
       "    }\n",
       "\n",
       "    .dataframe tbody tr th {\n",
       "        vertical-align: top;\n",
       "    }\n",
       "\n",
       "    .dataframe thead th {\n",
       "        text-align: right;\n",
       "    }\n",
       "</style>\n",
       "<table border=\"1\" class=\"dataframe\">\n",
       "  <thead>\n",
       "    <tr style=\"text-align: right;\">\n",
       "      <th></th>\n",
       "      <th>id</th>\n",
       "      <th>hour</th>\n",
       "      <th>Acorn</th>\n",
       "      <th>Acorn_grouped</th>\n",
       "      <th>energy</th>\n",
       "    </tr>\n",
       "  </thead>\n",
       "  <tbody>\n",
       "    <tr>\n",
       "      <th>0</th>\n",
       "      <td>MAC000032</td>\n",
       "      <td>12</td>\n",
       "      <td>ACORN-Q</td>\n",
       "      <td>Adversity</td>\n",
       "      <td>222.947000100</td>\n",
       "    </tr>\n",
       "    <tr>\n",
       "      <th>1</th>\n",
       "      <td>MAC000032</td>\n",
       "      <td>13</td>\n",
       "      <td>ACORN-Q</td>\n",
       "      <td>Adversity</td>\n",
       "      <td>144.688999800</td>\n",
       "    </tr>\n",
       "    <tr>\n",
       "      <th>2</th>\n",
       "      <td>MAC000032</td>\n",
       "      <td>14</td>\n",
       "      <td>ACORN-Q</td>\n",
       "      <td>Adversity</td>\n",
       "      <td>104.002999900</td>\n",
       "    </tr>\n",
       "    <tr>\n",
       "      <th>3</th>\n",
       "      <td>MAC000032</td>\n",
       "      <td>15</td>\n",
       "      <td>ACORN-Q</td>\n",
       "      <td>Adversity</td>\n",
       "      <td>118.575000100</td>\n",
       "    </tr>\n",
       "    <tr>\n",
       "      <th>4</th>\n",
       "      <td>MAC000032</td>\n",
       "      <td>16</td>\n",
       "      <td>ACORN-Q</td>\n",
       "      <td>Adversity</td>\n",
       "      <td>155.270999900</td>\n",
       "    </tr>\n",
       "    <tr>\n",
       "      <th>...</th>\n",
       "      <td>...</td>\n",
       "      <td>...</td>\n",
       "      <td>...</td>\n",
       "      <td>...</td>\n",
       "      <td>...</td>\n",
       "    </tr>\n",
       "    <tr>\n",
       "      <th>133463</th>\n",
       "      <td>MAC000075</td>\n",
       "      <td>6</td>\n",
       "      <td>ACORN-E</td>\n",
       "      <td>Affluent</td>\n",
       "      <td>141.986000000</td>\n",
       "    </tr>\n",
       "    <tr>\n",
       "      <th>133464</th>\n",
       "      <td>MAC002602</td>\n",
       "      <td>12</td>\n",
       "      <td>ACORN-H</td>\n",
       "      <td>Comfortable</td>\n",
       "      <td>170.100000000</td>\n",
       "    </tr>\n",
       "    <tr>\n",
       "      <th>133465</th>\n",
       "      <td>MAC002602</td>\n",
       "      <td>13</td>\n",
       "      <td>ACORN-H</td>\n",
       "      <td>Comfortable</td>\n",
       "      <td>202.698000000</td>\n",
       "    </tr>\n",
       "    <tr>\n",
       "      <th>133466</th>\n",
       "      <td>MAC002794</td>\n",
       "      <td>6</td>\n",
       "      <td>ACORN-F</td>\n",
       "      <td>Comfortable</td>\n",
       "      <td>263.987000000</td>\n",
       "    </tr>\n",
       "    <tr>\n",
       "      <th>133467</th>\n",
       "      <td>MAC003503</td>\n",
       "      <td>19</td>\n",
       "      <td>ACORN-F</td>\n",
       "      <td>Comfortable</td>\n",
       "      <td>120.605000000</td>\n",
       "    </tr>\n",
       "  </tbody>\n",
       "</table>\n",
       "<p>133468 rows × 5 columns</p>\n",
       "</div>"
      ],
      "text/plain": [
       "               id  hour    Acorn Acorn_grouped        energy\n",
       "0       MAC000032    12  ACORN-Q     Adversity 222.947000100\n",
       "1       MAC000032    13  ACORN-Q     Adversity 144.688999800\n",
       "2       MAC000032    14  ACORN-Q     Adversity 104.002999900\n",
       "3       MAC000032    15  ACORN-Q     Adversity 118.575000100\n",
       "4       MAC000032    16  ACORN-Q     Adversity 155.270999900\n",
       "...           ...   ...      ...           ...           ...\n",
       "133463  MAC000075     6  ACORN-E      Affluent 141.986000000\n",
       "133464  MAC002602    12  ACORN-H   Comfortable 170.100000000\n",
       "133465  MAC002602    13  ACORN-H   Comfortable 202.698000000\n",
       "133466  MAC002794     6  ACORN-F   Comfortable 263.987000000\n",
       "133467  MAC003503    19  ACORN-F   Comfortable 120.605000000\n",
       "\n",
       "[133468 rows x 5 columns]"
      ]
     },
     "execution_count": 208,
     "metadata": {},
     "output_type": "execute_result"
    }
   ],
   "source": [
    "df_hour_pandas"
   ]
  },
  {
   "cell_type": "code",
   "execution_count": null,
   "metadata": {},
   "outputs": [],
   "source": []
  },
  {
   "cell_type": "code",
   "execution_count": null,
   "metadata": {},
   "outputs": [],
   "source": []
  },
  {
   "cell_type": "code",
   "execution_count": null,
   "metadata": {},
   "outputs": [],
   "source": []
  },
  {
   "cell_type": "code",
   "execution_count": null,
   "metadata": {},
   "outputs": [],
   "source": []
  },
  {
   "cell_type": "code",
   "execution_count": null,
   "metadata": {},
   "outputs": [],
   "source": []
  },
  {
   "cell_type": "code",
   "execution_count": 140,
   "metadata": {},
   "outputs": [],
   "source": [
    "#Split the dataset per hour\n",
    "hour=[]\n"
   ]
  },
  {
   "cell_type": "code",
   "execution_count": 141,
   "metadata": {},
   "outputs": [],
   "source": [
    "for i in range (0,23):\n",
    "    hour.append(df_hour.filter(df4.hour==i))"
   ]
  },
  {
   "cell_type": "code",
   "execution_count": 107,
   "metadata": {},
   "outputs": [
    {
     "data": {
      "text/plain": [
       "23"
      ]
     },
     "execution_count": 107,
     "metadata": {},
     "output_type": "execute_result"
    }
   ],
   "source": [
    "len(hour)"
   ]
  },
  {
   "cell_type": "code",
   "execution_count": 146,
   "metadata": {},
   "outputs": [
    {
     "data": {
      "text/plain": [
       "Row(id='MAC000032', hour=1, Acorn='ACORN-Q', Acorn_grouped='Adversity', sum(kwh)=1674.1389986000015)"
      ]
     },
     "execution_count": 146,
     "metadata": {},
     "output_type": "execute_result"
    }
   ],
   "source": [
    "#The List hour has the result for each hour we could estemate the number of clusters  per hour\n",
    "#Then we could perfor \n",
    "hour[1].head()"
   ]
  },
  {
   "cell_type": "code",
   "execution_count": 142,
   "metadata": {},
   "outputs": [
    {
     "data": {
      "text/plain": [
       "6973655"
      ]
     },
     "execution_count": 142,
     "metadata": {},
     "output_type": "execute_result"
    }
   ],
   "source": [
    "pivot_hours_1.count()"
   ]
  },
  {
   "cell_type": "code",
   "execution_count": 147,
   "metadata": {},
   "outputs": [
    {
     "name": "stdout",
     "output_type": "stream",
     "text": [
      "root\n",
      " |-- id: string (nullable = true)\n",
      " |-- hour: integer (nullable = true)\n",
      " |-- Acorn: string (nullable = true)\n",
      " |-- Acorn_grouped: string (nullable = true)\n",
      " |-- sum(kwh): double (nullable = true)\n",
      "\n"
     ]
    }
   ],
   "source": [
    "hour[1].printSchema()"
   ]
  },
  {
   "cell_type": "code",
   "execution_count": 144,
   "metadata": {},
   "outputs": [],
   "source": [
    "from pyspark.ml.clustering import BisectingKMeans\n",
    "from pyspark.ml.evaluation import ClusteringEvaluator"
   ]
  },
  {
   "cell_type": "code",
   "execution_count": 145,
   "metadata": {},
   "outputs": [],
   "source": [
    "from pyspark.ml.clustering import KMeans\n",
    "from pyspark.ml.evaluation import ClusteringEvaluator"
   ]
  },
  {
   "cell_type": "code",
   "execution_count": 151,
   "metadata": {},
   "outputs": [
    {
     "data": {
      "text/plain": [
       "['id', 'hour', 'Acorn', 'Acorn_grouped', 'sum(kwh)']"
      ]
     },
     "execution_count": 151,
     "metadata": {},
     "output_type": "execute_result"
    }
   ],
   "source": [
    "hour[1].columns"
   ]
  },
  {
   "cell_type": "code",
   "execution_count": 155,
   "metadata": {},
   "outputs": [],
   "source": [
    "from pyspark.ml.feature import VectorAssembler\n",
    "hour[1].columns\n",
    "assemble=VectorAssembler(inputCols=[\n",
    "'hour', \n",
    "'sum(kwh)'],outputCol='features')"
   ]
  },
  {
   "cell_type": "code",
   "execution_count": 156,
   "metadata": {},
   "outputs": [
    {
     "data": {
      "text/plain": [
       "DataFrame[id: string, hour: int, Acorn: string, Acorn_grouped: string, sum(kwh): double]"
      ]
     },
     "execution_count": 156,
     "metadata": {},
     "output_type": "execute_result"
    }
   ],
   "source": [
    "hour[1].na.drop()"
   ]
  },
  {
   "cell_type": "code",
   "execution_count": 157,
   "metadata": {},
   "outputs": [],
   "source": [
    "assembled_data=assemble.transform(hour[1])\n"
   ]
  },
  {
   "cell_type": "code",
   "execution_count": 160,
   "metadata": {},
   "outputs": [
    {
     "name": "stdout",
     "output_type": "stream",
     "text": [
      "+---------+----+-------+-------------+------------------+--------------------+--------------------+\n",
      "|       id|hour|  Acorn|Acorn_grouped|          sum(kwh)|            features|        standardized|\n",
      "+---------+----+-------+-------------+------------------+--------------------+--------------------+\n",
      "|MAC000032|   1|ACORN-Q|    Adversity|1674.1389986000015|[1.0,1674.1389986...|[0.0,5.9357899426...|\n",
      "|MAC000041|   1|ACORN-Q|    Adversity|124.48200000000075|[1.0,124.48200000...|[0.0,0.4413606064...|\n",
      "+---------+----+-------+-------------+------------------+--------------------+--------------------+\n",
      "only showing top 2 rows\n",
      "\n"
     ]
    }
   ],
   "source": [
    "from pyspark.ml.feature import StandardScaler\n",
    "scale=StandardScaler(inputCol='features',outputCol='standardized')\n",
    "data_scale=scale.fit(assembled_data)\n",
    "data_scale_output=data_scale.transform(assembled_data)\n",
    "data_scale_output.show(2)"
   ]
  },
  {
   "cell_type": "code",
   "execution_count": null,
   "metadata": {},
   "outputs": [],
   "source": []
  },
  {
   "cell_type": "code",
   "execution_count": null,
   "metadata": {},
   "outputs": [],
   "source": []
  },
  {
   "cell_type": "markdown",
   "metadata": {},
   "source": [
    "# Calculate the mximum number of clusters for Hour1 \n",
    "We can copy (for loop all steps for all Hours)"
   ]
  },
  {
   "cell_type": "code",
   "execution_count": 161,
   "metadata": {},
   "outputs": [],
   "source": [
    "silhouette_score=[]"
   ]
  },
  {
   "cell_type": "code",
   "execution_count": 162,
   "metadata": {},
   "outputs": [],
   "source": [
    "evaluator = ClusteringEvaluator(predictionCol='prediction', featuresCol='standardized', \\\n",
    "                                metricName='silhouette', distanceMeasure='squaredEuclidean')"
   ]
  },
  {
   "cell_type": "code",
   "execution_count": 164,
   "metadata": {},
   "outputs": [
    {
     "name": "stdout",
     "output_type": "stream",
     "text": [
      "Silhouette Score: 0.9843067458408903\n",
      "Silhouette Score: 0.8988498817441941\n",
      "Silhouette Score: 0.8305990422250449\n",
      "Silhouette Score: 0.7993193317350042\n",
      "Silhouette Score: 0.7446610771540234\n",
      "Silhouette Score: 0.7735031152272831\n",
      "Silhouette Score: 0.7443834333220759\n",
      "Silhouette Score: 0.741482683548849\n"
     ]
    }
   ],
   "source": [
    "#this is time consuminig \n",
    "for i in range(2,10):\n",
    "    \n",
    "    KMeans_algo=KMeans(featuresCol='standardized', k=i)\n",
    "    \n",
    "    KMeans_fit=KMeans_algo.fit(data_scale_output)\n",
    "    \n",
    "    output=KMeans_fit.transform(data_scale_output)\n",
    "    \n",
    "    \n",
    "    \n",
    "    score=evaluator.evaluate(output)\n",
    "    \n",
    "    silhouette_score.append(score)\n",
    "    \n",
    "    print(\"Silhouette Score:\",score)"
   ]
  },
  {
   "cell_type": "code",
   "execution_count": 167,
   "metadata": {},
   "outputs": [
    {
     "data": {
      "text/plain": [
       "[0.9843067458408903,\n",
       " 0.8988498817441941,\n",
       " 0.8305990422250449,\n",
       " 0.7993193317350042,\n",
       " 0.7446610771540234,\n",
       " 0.7735031152272831,\n",
       " 0.7443834333220759,\n",
       " 0.741482683548849]"
      ]
     },
     "execution_count": 167,
     "metadata": {},
     "output_type": "execute_result"
    }
   ],
   "source": [
    "silhouette_score"
   ]
  },
  {
   "cell_type": "code",
   "execution_count": 169,
   "metadata": {},
   "outputs": [
    {
     "data": {
      "text/plain": [
       "[<matplotlib.lines.Line2D at 0x7fd45dfbfdf0>]"
      ]
     },
     "execution_count": 169,
     "metadata": {},
     "output_type": "execute_result"
    },
    {
     "data": {
      "image/png": "[encoded data removed]",
      "text/plain": [
       "<Figure size 576x432 with 1 Axes>"
      ]
     },
     "metadata": {},
     "output_type": "display_data"
    }
   ],
   "source": [
    "#Visualizing the silhouette scores in a plot\n",
    "import matplotlib.pyplot as plt\n",
    "fig, ax = plt.subplots(1,1, figsize =(8,6))\n",
    "ax.plot(range(2,10),silhouette_score)\n"
   ]
  },
  {
   "cell_type": "markdown",
   "metadata": {},
   "source": [
    "# I prefer going ahead with K=6 where a local maxima of Silhouette Score is observed. Since there is no correct answer for what value of K is good, we can restore to descriptive statistics and plots to check the distribution "
   ]
  },
  {
   "cell_type": "markdown",
   "metadata": {},
   "source": [
    "### the above is very time cosuminig and  i sugest to split four time period (overnight,breakfast,daytime and evening)"
   ]
  },
  {
   "cell_type": "code",
   "execution_count": null,
   "metadata": {},
   "outputs": [],
   "source": []
  },
  {
   "cell_type": "code",
   "execution_count": null,
   "metadata": {},
   "outputs": [],
   "source": []
  },
  {
   "cell_type": "code",
   "execution_count": 115,
   "metadata": {},
   "outputs": [],
   "source": [
    "from pyspark.ml.clustering import LDA"
   ]
  },
  {
   "cell_type": "code",
   "execution_count": 130,
   "metadata": {},
   "outputs": [],
   "source": [
    "# Trains a LDA model."
   ]
  },
  {
   "cell_type": "code",
   "execution_count": 131,
   "metadata": {},
   "outputs": [],
   "source": [
    "lda = LDA(k=10, maxIter=10)"
   ]
  },
  {
   "cell_type": "code",
   "execution_count": 132,
   "metadata": {},
   "outputs": [],
   "source": [
    "# Trains a k-means model.\n",
    "kmeans = KMeans().setK(2).setSeed(1)\n"
   ]
  },
  {
   "cell_type": "code",
   "execution_count": null,
   "metadata": {},
   "outputs": [],
   "source": []
  },
  {
   "cell_type": "code",
   "execution_count": null,
   "metadata": {},
   "outputs": [],
   "source": []
  },
  {
   "cell_type": "code",
   "execution_count": null,
   "metadata": {},
   "outputs": [],
   "source": []
  },
  {
   "cell_type": "code",
   "execution_count": null,
   "metadata": {},
   "outputs": [],
   "source": []
  },
  {
   "cell_type": "code",
   "execution_count": null,
   "metadata": {},
   "outputs": [],
   "source": []
  },
  {
   "cell_type": "code",
   "execution_count": null,
   "metadata": {},
   "outputs": [],
   "source": []
  },
  {
   "cell_type": "code",
   "execution_count": null,
   "metadata": {},
   "outputs": [],
   "source": []
  },
  {
   "cell_type": "code",
   "execution_count": null,
   "metadata": {},
   "outputs": [],
   "source": []
  },
  {
   "cell_type": "code",
   "execution_count": null,
   "metadata": {},
   "outputs": [],
   "source": []
  },
  {
   "cell_type": "code",
   "execution_count": null,
   "metadata": {},
   "outputs": [],
   "source": []
  },
  {
   "cell_type": "code",
   "execution_count": null,
   "metadata": {},
   "outputs": [],
   "source": []
  },
  {
   "cell_type": "code",
   "execution_count": null,
   "metadata": {},
   "outputs": [],
   "source": []
  },
  {
   "cell_type": "code",
   "execution_count": 88,
   "metadata": {},
   "outputs": [
    {
     "data": {
      "text/plain": [
       "3510433"
      ]
     },
     "execution_count": 88,
     "metadata": {},
     "output_type": "execute_result"
    }
   ],
   "source": [
    "#Total Rows of pivot \n",
    "pivot_hours.count()"
   ]
  },
  {
   "cell_type": "code",
   "execution_count": 90,
   "metadata": {},
   "outputs": [
    {
     "data": {
      "text/plain": [
       "[Row(id='MAC000022', year=2011, month=12, date=7, std='Std', 0=None, 1=None, 2=None, 3=None, 4=None, 5=None, 6=None, 7=None, 8=None, 9=None, 10=0.533, 11=0.453, 12=0.41800000000000004, 13=0.426, 14=0.478, 15=0.367, 16=0.495, 17=0.523, 18=0.688, 19=0.591, 20=0.657, 21=0.669, 22=0.772, 23=0.6930000000000001),\n",
       " Row(id='MAC000022', year=2011, month=12, date=8, std='Std', 0=0.623, 1=0.604, 2=0.265, 3=0.255, 4=0.259, 5=0.246, 6=0.251, 7=0.241, 8=0.318, 9=0.46399999999999997, 10=0.487, 11=0.378, 12=0.523, 13=0.43600000000000005, 14=0.434, 15=0.361, 16=0.565, 17=0.499, 18=0.6910000000000001, 19=0.586, 20=0.5489999999999999, 21=1.033, 22=1.078, 23=0.635),\n",
       " Row(id='MAC000022', year=2011, month=12, date=9, std='Std', 0=0.665, 1=0.6439999999999999, 2=0.47300000000000003, 3=0.269, 4=0.245, 5=0.243, 6=0.245, 7=0.237, 8=0.313, 9=0.321, 10=0.6439999999999999, 11=0.365, 12=0.398, 13=0.51, 14=0.445, 15=0.359, 16=0.528, 17=0.63, 18=0.644, 19=0.621, 20=0.585, 21=0.536, 22=0.614, 23=0.679),\n",
       " Row(id='MAC000022', year=2011, month=12, date=10, std='Std', 0=0.631, 1=0.565, 2=0.274, 3=0.256, 4=0.263, 5=0.255, 6=0.238, 7=0.247, 8=0.31, 9=0.319, 10=0.40900000000000003, 11=0.40700000000000003, 12=0.445, 13=0.439, 14=0.355, 15=0.471, 16=0.482, 17=0.741, 18=0.6890000000000001, 19=0.597, 20=0.627, 21=0.512, 22=0.768, 23=0.747),\n",
       " Row(id='MAC000022', year=2011, month=12, date=11, std='Std', 0=0.614, 1=0.663, 2=0.533, 3=0.327, 4=0.262, 5=0.5820000000000001, 6=2.2270000000000003, 7=0.319, 8=0.328, 9=0.328, 10=0.311, 11=0.333, 12=0.368, 13=0.498, 14=0.383, 15=0.353, 16=0.577, 17=0.516, 18=0.59, 19=0.7150000000000001, 20=0.5760000000000001, 21=1.08, 22=0.617, 23=0.644)]"
      ]
     },
     "execution_count": 90,
     "metadata": {},
     "output_type": "execute_result"
    }
   ],
   "source": [
    "pivot_hours.head(5)"
   ]
  },
  {
   "cell_type": "code",
   "execution_count": 20,
   "metadata": {},
   "outputs": [
    {
     "data": {
      "text/plain": [
       "pyspark.sql.dataframe.DataFrame"
      ]
     },
     "execution_count": 20,
     "metadata": {},
     "output_type": "execute_result"
    }
   ],
   "source": [
    "type(pivot_hours)"
   ]
  },
  {
   "cell_type": "code",
   "execution_count": null,
   "metadata": {},
   "outputs": [],
   "source": []
  },
  {
   "cell_type": "code",
   "execution_count": 102,
   "metadata": {},
   "outputs": [
    {
     "data": {
      "text/plain": [
       "<pyspark.sql.readwriter.DataFrameWriterV2 at 0x7f64281caeb0>"
      ]
     },
     "execution_count": 102,
     "metadata": {},
     "output_type": "execute_result"
    }
   ],
   "source": [
    "pivot_hours.writeTo(\"pivot_hours.csv\")"
   ]
  },
  {
   "cell_type": "code",
   "execution_count": 103,
   "metadata": {},
   "outputs": [],
   "source": [
    "pivot_hours.write.format(\"csv\").save(\"pivot_hours\")"
   ]
  },
  {
   "cell_type": "code",
   "execution_count": null,
   "metadata": {},
   "outputs": [],
   "source": [
    "type(pivot_hours_df)"
   ]
  },
  {
   "cell_type": "code",
   "execution_count": 20,
   "metadata": {},
   "outputs": [
    {
     "name": "stdout",
     "output_type": "stream",
     "text": [
      "root\n",
      " |-- DateTime: timestamp (nullable = true)\n",
      " |-- id: string (nullable = true)\n",
      " |-- std: string (nullable = true)\n",
      " |-- kwh: double (nullable = true)\n",
      " |-- year: integer (nullable = true)\n",
      " |-- month: integer (nullable = true)\n",
      " |-- date: integer (nullable = true)\n",
      " |-- hour: integer (nullable = true)\n",
      " |-- min: integer (nullable = true)\n",
      " |-- LCLid: string (nullable = true)\n",
      " |-- stdorToU: string (nullable = true)\n",
      " |-- Acorn: string (nullable = true)\n",
      " |-- Acorn_grouped: string (nullable = true)\n",
      " |-- file: string (nullable = true)\n",
      "\n"
     ]
    }
   ],
   "source": [
    "for i in"
   ]
  },
  {
   "cell_type": "code",
   "execution_count": 18,
   "metadata": {},
   "outputs": [],
   "source": [
    "from pyspark.sql import functions as f\n",
    "df_all_statistics=df4.groupby(\"id\",\"std\",\"year\",\"month\",\"date\").agg(f.sum(\"kwh\"),f.avg(\"kwh\"),f.max(\"kwh\"),f.min(\"kwh\"),f.count(\"kwh\"),f.stddev_pop(\"kwh\"))"
   ]
  },
  {
   "cell_type": "code",
   "execution_count": 19,
   "metadata": {},
   "outputs": [],
   "source": [
    "st=df_all_statistics.toPandas"
   ]
  },
  {
   "cell_type": "code",
   "execution_count": null,
   "metadata": {},
   "outputs": [],
   "source": []
  },
  {
   "cell_type": "code",
   "execution_count": null,
   "metadata": {},
   "outputs": [],
   "source": [
    "#########################\n",
    "#Aggregate  per Year\n",
    "######################"
   ]
  },
  {
   "cell_type": "code",
   "execution_count": null,
   "metadata": {},
   "outputs": [],
   "source": [
    "month"
   ]
  },
  {
   "cell_type": "code",
   "execution_count": null,
   "metadata": {},
   "outputs": [],
   "source": []
  },
  {
   "cell_type": "code",
   "execution_count": 20,
   "metadata": {},
   "outputs": [],
   "source": [
    "Energy_Total= df4.groupby(\"year\").sum(\"kwh\")"
   ]
  },
  {
   "cell_type": "code",
   "execution_count": 21,
   "metadata": {},
   "outputs": [],
   "source": [
    "Energy_Total_df=Energy_Total.toPandas()"
   ]
  },
  {
   "cell_type": "code",
   "execution_count": null,
   "metadata": {},
   "outputs": [],
   "source": [
    "type(Energy_Total_df)"
   ]
  },
  {
   "cell_type": "code",
   "execution_count": 23,
   "metadata": {},
   "outputs": [
    {
     "data": {
      "text/html": [
       "<div>\n",
       "<style scoped>\n",
       "    .dataframe tbody tr th:only-of-type {\n",
       "        vertical-align: middle;\n",
       "    }\n",
       "\n",
       "    .dataframe tbody tr th {\n",
       "        vertical-align: top;\n",
       "    }\n",
       "\n",
       "    .dataframe thead th {\n",
       "        text-align: right;\n",
       "    }\n",
       "</style>\n",
       "<table border=\"1\" class=\"dataframe\">\n",
       "  <thead>\n",
       "    <tr style=\"text-align: right;\">\n",
       "      <th></th>\n",
       "      <th>year</th>\n",
       "      <th>sum(kwh)</th>\n",
       "    </tr>\n",
       "  </thead>\n",
       "  <tbody>\n",
       "    <tr>\n",
       "      <th>0</th>\n",
       "      <td>2013</td>\n",
       "      <td>1.962773e+07</td>\n",
       "    </tr>\n",
       "    <tr>\n",
       "      <th>1</th>\n",
       "      <td>2014</td>\n",
       "      <td>3.333727e+06</td>\n",
       "    </tr>\n",
       "    <tr>\n",
       "      <th>2</th>\n",
       "      <td>2012</td>\n",
       "      <td>1.249532e+07</td>\n",
       "    </tr>\n",
       "    <tr>\n",
       "      <th>3</th>\n",
       "      <td>2011</td>\n",
       "      <td>1.039318e+05</td>\n",
       "    </tr>\n",
       "  </tbody>\n",
       "</table>\n",
       "</div>"
      ],
      "text/plain": [
       "   year      sum(kwh)\n",
       "0  2013  1.962773e+07\n",
       "1  2014  3.333727e+06\n",
       "2  2012  1.249532e+07\n",
       "3  2011  1.039318e+05"
      ]
     },
     "execution_count": 23,
     "metadata": {},
     "output_type": "execute_result"
    }
   ],
   "source": [
    "Energy_Total_df"
   ]
  },
  {
   "cell_type": "code",
   "execution_count": 148,
   "metadata": {},
   "outputs": [
    {
     "data": {
      "text/plain": [
       "<AxesSubplot:ylabel='year'>"
      ]
     },
     "execution_count": 148,
     "metadata": {},
     "output_type": "execute_result"
    },
    {
     "data": {
      "image/png": "[encoded data removed]",
      "text/plain": [
       "<Figure size 432x288 with 1 Axes>"
      ]
     },
     "metadata": {},
     "output_type": "display_data"
    }
   ],
   "source": [
    "Energy_Total_df.plot(kind='barh',x='year',y='sum(kwh)',colormap='spring')"
   ]
  },
  {
   "cell_type": "code",
   "execution_count": 25,
   "metadata": {},
   "outputs": [],
   "source": [
    "Energy_Total_hour= df4.groupby(\"hour\").sum(\"kwh\").orderBy(\"hour\")"
   ]
  },
  {
   "cell_type": "code",
   "execution_count": 42,
   "metadata": {},
   "outputs": [],
   "source": [
    "Energy_Total__hour_df=Energy_Total_hour.toPandas()"
   ]
  },
  {
   "cell_type": "code",
   "execution_count": 27,
   "metadata": {},
   "outputs": [
    {
     "data": {
      "text/html": [
       "<div>\n",
       "<style scoped>\n",
       "    .dataframe tbody tr th:only-of-type {\n",
       "        vertical-align: middle;\n",
       "    }\n",
       "\n",
       "    .dataframe tbody tr th {\n",
       "        vertical-align: top;\n",
       "    }\n",
       "\n",
       "    .dataframe thead th {\n",
       "        text-align: right;\n",
       "    }\n",
       "</style>\n",
       "<table border=\"1\" class=\"dataframe\">\n",
       "  <thead>\n",
       "    <tr style=\"text-align: right;\">\n",
       "      <th></th>\n",
       "      <th>hour</th>\n",
       "      <th>sum(kwh)</th>\n",
       "    </tr>\n",
       "  </thead>\n",
       "  <tbody>\n",
       "    <tr>\n",
       "      <th>0</th>\n",
       "      <td>0</td>\n",
       "      <td>1.239179e+06</td>\n",
       "    </tr>\n",
       "    <tr>\n",
       "      <th>1</th>\n",
       "      <td>1</td>\n",
       "      <td>1.012919e+06</td>\n",
       "    </tr>\n",
       "    <tr>\n",
       "      <th>2</th>\n",
       "      <td>2</td>\n",
       "      <td>8.718021e+05</td>\n",
       "    </tr>\n",
       "    <tr>\n",
       "      <th>3</th>\n",
       "      <td>3</td>\n",
       "      <td>8.060688e+05</td>\n",
       "    </tr>\n",
       "    <tr>\n",
       "      <th>4</th>\n",
       "      <td>4</td>\n",
       "      <td>8.017403e+05</td>\n",
       "    </tr>\n",
       "    <tr>\n",
       "      <th>5</th>\n",
       "      <td>5</td>\n",
       "      <td>8.784814e+05</td>\n",
       "    </tr>\n",
       "    <tr>\n",
       "      <th>6</th>\n",
       "      <td>6</td>\n",
       "      <td>1.098781e+06</td>\n",
       "    </tr>\n",
       "    <tr>\n",
       "      <th>7</th>\n",
       "      <td>7</td>\n",
       "      <td>1.346582e+06</td>\n",
       "    </tr>\n",
       "    <tr>\n",
       "      <th>8</th>\n",
       "      <td>8</td>\n",
       "      <td>1.491711e+06</td>\n",
       "    </tr>\n",
       "    <tr>\n",
       "      <th>9</th>\n",
       "      <td>9</td>\n",
       "      <td>1.508027e+06</td>\n",
       "    </tr>\n",
       "    <tr>\n",
       "      <th>10</th>\n",
       "      <td>10</td>\n",
       "      <td>1.495790e+06</td>\n",
       "    </tr>\n",
       "    <tr>\n",
       "      <th>11</th>\n",
       "      <td>11</td>\n",
       "      <td>1.497628e+06</td>\n",
       "    </tr>\n",
       "    <tr>\n",
       "      <th>12</th>\n",
       "      <td>12</td>\n",
       "      <td>1.513430e+06</td>\n",
       "    </tr>\n",
       "    <tr>\n",
       "      <th>13</th>\n",
       "      <td>13</td>\n",
       "      <td>1.499494e+06</td>\n",
       "    </tr>\n",
       "    <tr>\n",
       "      <th>14</th>\n",
       "      <td>14</td>\n",
       "      <td>1.472686e+06</td>\n",
       "    </tr>\n",
       "    <tr>\n",
       "      <th>15</th>\n",
       "      <td>15</td>\n",
       "      <td>1.512699e+06</td>\n",
       "    </tr>\n",
       "    <tr>\n",
       "      <th>16</th>\n",
       "      <td>16</td>\n",
       "      <td>1.689039e+06</td>\n",
       "    </tr>\n",
       "    <tr>\n",
       "      <th>17</th>\n",
       "      <td>17</td>\n",
       "      <td>1.967848e+06</td>\n",
       "    </tr>\n",
       "    <tr>\n",
       "      <th>18</th>\n",
       "      <td>18</td>\n",
       "      <td>2.183588e+06</td>\n",
       "    </tr>\n",
       "    <tr>\n",
       "      <th>19</th>\n",
       "      <td>19</td>\n",
       "      <td>2.244912e+06</td>\n",
       "    </tr>\n",
       "    <tr>\n",
       "      <th>20</th>\n",
       "      <td>20</td>\n",
       "      <td>2.188769e+06</td>\n",
       "    </tr>\n",
       "    <tr>\n",
       "      <th>21</th>\n",
       "      <td>21</td>\n",
       "      <td>2.055869e+06</td>\n",
       "    </tr>\n",
       "    <tr>\n",
       "      <th>22</th>\n",
       "      <td>22</td>\n",
       "      <td>1.778870e+06</td>\n",
       "    </tr>\n",
       "    <tr>\n",
       "      <th>23</th>\n",
       "      <td>23</td>\n",
       "      <td>1.404795e+06</td>\n",
       "    </tr>\n",
       "  </tbody>\n",
       "</table>\n",
       "</div>"
      ],
      "text/plain": [
       "    hour      sum(kwh)\n",
       "0      0  1.239179e+06\n",
       "1      1  1.012919e+06\n",
       "2      2  8.718021e+05\n",
       "3      3  8.060688e+05\n",
       "4      4  8.017403e+05\n",
       "5      5  8.784814e+05\n",
       "6      6  1.098781e+06\n",
       "7      7  1.346582e+06\n",
       "8      8  1.491711e+06\n",
       "9      9  1.508027e+06\n",
       "10    10  1.495790e+06\n",
       "11    11  1.497628e+06\n",
       "12    12  1.513430e+06\n",
       "13    13  1.499494e+06\n",
       "14    14  1.472686e+06\n",
       "15    15  1.512699e+06\n",
       "16    16  1.689039e+06\n",
       "17    17  1.967848e+06\n",
       "18    18  2.183588e+06\n",
       "19    19  2.244912e+06\n",
       "20    20  2.188769e+06\n",
       "21    21  2.055869e+06\n",
       "22    22  1.778870e+06\n",
       "23    23  1.404795e+06"
      ]
     },
     "execution_count": 27,
     "metadata": {},
     "output_type": "execute_result"
    }
   ],
   "source": [
    "Energy_Total__hour_df"
   ]
  },
  {
   "cell_type": "code",
   "execution_count": 46,
   "metadata": {},
   "outputs": [
    {
     "data": {
      "image/png": "[encoded data removed]",
      "text/plain": [
       "<Figure size 432x288 with 1 Axes>"
      ]
     },
     "metadata": {
      "needs_background": "light"
     },
     "output_type": "display_data"
    }
   ],
   "source": [
    "plt.scatter(Energy_Total__hour_df[\"hour\"],Energy_Total__hour_df[\"sum(kwh)\"])\n",
    "plt.xlim(-1,25);"
   ]
  },
  {
   "cell_type": "code",
   "execution_count": 28,
   "metadata": {},
   "outputs": [
    {
     "data": {
      "text/plain": [
       "<AxesSubplot:xlabel='hour'>"
      ]
     },
     "execution_count": 28,
     "metadata": {},
     "output_type": "execute_result"
    },
    {
     "data": {
      "image/png": "[encoded data removed]",
      "text/plain": [
       "<Figure size 432x288 with 1 Axes>"
      ]
     },
     "metadata": {
      "needs_background": "light"
     },
     "output_type": "display_data"
    }
   ],
   "source": [
    "Energy_Total__hour_df.plot(kind='line',x='hour',y='sum(kwh)',colormap='winter_r')"
   ]
  },
  {
   "cell_type": "code",
   "execution_count": 29,
   "metadata": {},
   "outputs": [],
   "source": [
    "Energy_Total_month= df4.groupby(\"month\").sum(\"kwh\").orderBy(\"month\")"
   ]
  },
  {
   "cell_type": "code",
   "execution_count": 30,
   "metadata": {},
   "outputs": [],
   "source": [
    "Energy_Total__month_df=Energy_Total_month.toPandas()"
   ]
  },
  {
   "cell_type": "code",
   "execution_count": null,
   "metadata": {},
   "outputs": [],
   "source": [
    "#"
   ]
  },
  {
   "cell_type": "code",
   "execution_count": null,
   "metadata": {},
   "outputs": [],
   "source": []
  },
  {
   "cell_type": "code",
   "execution_count": 48,
   "metadata": {},
   "outputs": [],
   "source": [
    "pd.set_option('display.float_format', lambda x: '%.9f' % x)\n"
   ]
  },
  {
   "cell_type": "code",
   "execution_count": 49,
   "metadata": {},
   "outputs": [
    {
     "data": {
      "text/html": [
       "<div>\n",
       "<style scoped>\n",
       "    .dataframe tbody tr th:only-of-type {\n",
       "        vertical-align: middle;\n",
       "    }\n",
       "\n",
       "    .dataframe tbody tr th {\n",
       "        vertical-align: top;\n",
       "    }\n",
       "\n",
       "    .dataframe thead th {\n",
       "        text-align: right;\n",
       "    }\n",
       "</style>\n",
       "<table border=\"1\" class=\"dataframe\">\n",
       "  <thead>\n",
       "    <tr style=\"text-align: right;\">\n",
       "      <th></th>\n",
       "      <th>month</th>\n",
       "      <th>sum(kwh)</th>\n",
       "    </tr>\n",
       "  </thead>\n",
       "  <tbody>\n",
       "    <tr>\n",
       "      <th>0</th>\n",
       "      <td>1</td>\n",
       "      <td>4162616.094909619</td>\n",
       "    </tr>\n",
       "    <tr>\n",
       "      <th>1</th>\n",
       "      <td>2</td>\n",
       "      <td>3696299.651929513</td>\n",
       "    </tr>\n",
       "    <tr>\n",
       "      <th>2</th>\n",
       "      <td>3</td>\n",
       "      <td>2391069.863934288</td>\n",
       "    </tr>\n",
       "    <tr>\n",
       "      <th>3</th>\n",
       "      <td>4</td>\n",
       "      <td>2125794.740990511</td>\n",
       "    </tr>\n",
       "    <tr>\n",
       "      <th>4</th>\n",
       "      <td>5</td>\n",
       "      <td>2284000.731943930</td>\n",
       "    </tr>\n",
       "    <tr>\n",
       "      <th>5</th>\n",
       "      <td>6</td>\n",
       "      <td>2349511.955987025</td>\n",
       "    </tr>\n",
       "    <tr>\n",
       "      <th>6</th>\n",
       "      <td>7</td>\n",
       "      <td>2510983.328960049</td>\n",
       "    </tr>\n",
       "    <tr>\n",
       "      <th>7</th>\n",
       "      <td>8</td>\n",
       "      <td>2480944.587978223</td>\n",
       "    </tr>\n",
       "    <tr>\n",
       "      <th>8</th>\n",
       "      <td>9</td>\n",
       "      <td>2649542.110941831</td>\n",
       "    </tr>\n",
       "    <tr>\n",
       "      <th>9</th>\n",
       "      <td>10</td>\n",
       "      <td>3203641.858965589</td>\n",
       "    </tr>\n",
       "    <tr>\n",
       "      <th>10</th>\n",
       "      <td>11</td>\n",
       "      <td>3619663.879924523</td>\n",
       "    </tr>\n",
       "    <tr>\n",
       "      <th>11</th>\n",
       "      <td>12</td>\n",
       "      <td>4086639.863922524</td>\n",
       "    </tr>\n",
       "  </tbody>\n",
       "</table>\n",
       "</div>"
      ],
      "text/plain": [
       "    month          sum(kwh)\n",
       "0       1 4162616.094909619\n",
       "1       2 3696299.651929513\n",
       "2       3 2391069.863934288\n",
       "3       4 2125794.740990511\n",
       "4       5 2284000.731943930\n",
       "5       6 2349511.955987025\n",
       "6       7 2510983.328960049\n",
       "7       8 2480944.587978223\n",
       "8       9 2649542.110941831\n",
       "9      10 3203641.858965589\n",
       "10     11 3619663.879924523\n",
       "11     12 4086639.863922524"
      ]
     },
     "execution_count": 49,
     "metadata": {},
     "output_type": "execute_result"
    }
   ],
   "source": [
    "Energy_Total__month_df"
   ]
  },
  {
   "cell_type": "code",
   "execution_count": 50,
   "metadata": {},
   "outputs": [
    {
     "data": {
      "text/plain": [
       "<AxesSubplot:xlabel='month'>"
      ]
     },
     "execution_count": 50,
     "metadata": {},
     "output_type": "execute_result"
    },
    {
     "data": {
      "image/png": "[encoded data removed]",
      "text/plain": [
       "<Figure size 432x288 with 1 Axes>"
      ]
     },
     "metadata": {
      "needs_background": "light"
     },
     "output_type": "display_data"
    }
   ],
   "source": [
    "Energy_Total__month_df.plot(kind='line',x='month',y='sum(kwh)',colormap='summer')"
   ]
  },
  {
   "cell_type": "code",
   "execution_count": null,
   "metadata": {},
   "outputs": [],
   "source": []
  },
  {
   "cell_type": "code",
   "execution_count": null,
   "metadata": {},
   "outputs": [],
   "source": []
  },
  {
   "cell_type": "code",
   "execution_count": null,
   "metadata": {},
   "outputs": [],
   "source": []
  },
  {
   "cell_type": "code",
   "execution_count": 33,
   "metadata": {},
   "outputs": [],
   "source": [
    "#agregate  to dayly energy summurazation "
   ]
  },
  {
   "cell_type": "code",
   "execution_count": 34,
   "metadata": {},
   "outputs": [],
   "source": [
    "pivot_Energy = df_4.groupby(\"id\",\"year\",\"month\",\"date\").pivot(\"hour\").sum(\"kwh\")"
   ]
  },
  {
   "cell_type": "markdown",
   "metadata": {},
   "source": [
    "# Count off all data from  the dnew dataset pivot_Energy"
   ]
  },
  {
   "cell_type": "code",
   "execution_count": 51,
   "metadata": {},
   "outputs": [
    {
     "data": {
      "text/plain": [
       "3510433"
      ]
     },
     "execution_count": 51,
     "metadata": {},
     "output_type": "execute_result"
    }
   ],
   "source": [
    "pivot_Energy.count()"
   ]
  },
  {
   "cell_type": "code",
   "execution_count": null,
   "metadata": {},
   "outputs": [],
   "source": []
  },
  {
   "cell_type": "code",
   "execution_count": 53,
   "metadata": {},
   "outputs": [
    {
     "name": "stdout",
     "output_type": "stream",
     "text": [
      "root\n",
      " |-- id: string (nullable = true)\n",
      " |-- year: integer (nullable = true)\n",
      " |-- month: integer (nullable = true)\n",
      " |-- date: integer (nullable = true)\n",
      " |-- 0: double (nullable = true)\n",
      " |-- 1: double (nullable = true)\n",
      " |-- 2: double (nullable = true)\n",
      " |-- 3: double (nullable = true)\n",
      " |-- 4: double (nullable = true)\n",
      " |-- 5: double (nullable = true)\n",
      " |-- 6: double (nullable = true)\n",
      " |-- 7: double (nullable = true)\n",
      " |-- 8: double (nullable = true)\n",
      " |-- 9: double (nullable = true)\n",
      " |-- 10: double (nullable = true)\n",
      " |-- 11: double (nullable = true)\n",
      " |-- 12: double (nullable = true)\n",
      " |-- 13: double (nullable = true)\n",
      " |-- 14: double (nullable = true)\n",
      " |-- 15: double (nullable = true)\n",
      " |-- 16: double (nullable = true)\n",
      " |-- 17: double (nullable = true)\n",
      " |-- 18: double (nullable = true)\n",
      " |-- 19: double (nullable = true)\n",
      " |-- 20: double (nullable = true)\n",
      " |-- 21: double (nullable = true)\n",
      " |-- 22: double (nullable = true)\n",
      " |-- 23: double (nullable = true)\n",
      "\n"
     ]
    }
   ],
   "source": [
    "pivot_Energy.printSchema()\n"
   ]
  },
  {
   "cell_type": "code",
   "execution_count": 56,
   "metadata": {},
   "outputs": [
    {
     "data": {
      "text/plain": [
       "[Row(id='MAC000002', year=2013, month=1, date=2, 0=0.46399999999999997, 1=0.627, 2=0.49, 3=0.383, 4=0.221, 5=0.217, 6=0.21, 7=0.197, 8=0.21500000000000002, 9=0.694, 10=0.992, 11=0.794, 12=0.404, 13=0.356, 14=0.242, 15=0.731, 16=1.4969999, 17=0.6639999999999999, 18=0.742, 19=0.405, 20=1.228, 21=0.49, 22=0.537, 23=0.5)]"
      ]
     },
     "execution_count": 56,
     "metadata": {},
     "output_type": "execute_result"
    }
   ],
   "source": [
    "pivot_Energy.head(1)"
   ]
  },
  {
   "cell_type": "code",
   "execution_count": 65,
   "metadata": {},
   "outputs": [],
   "source": [
    "#it will be usehull to aggregate in this stagee with socio economic\n",
    "#more over we could break the time period (overnight,breakfast and daytime and eveninig )ro represent defferent peak demnd behaviour\n",
    "#paper 978-1-5386-1495-2/18"
   ]
  },
  {
   "cell_type": "code",
   "execution_count": 67,
   "metadata": {},
   "outputs": [],
   "source": [
    "plt.style.use('fivethirtyeight')"
   ]
  },
  {
   "cell_type": "code",
   "execution_count": 68,
   "metadata": {},
   "outputs": [
    {
     "ename": "AttributeError",
     "evalue": "'DataFrame' object has no attribute 'set_index'",
     "output_type": "error",
     "traceback": [
      "\u001B[0;31m---------------------------------------------------------------------------\u001B[0m",
      "\u001B[0;31mAttributeError\u001B[0m                            Traceback (most recent call last)",
      "\u001B[0;32m<ipython-input-68-1285994d5daa>\u001B[0m in \u001B[0;36m<module>\u001B[0;34m\u001B[0m\n\u001B[0;32m----> 1\u001B[0;31m \u001B[0mpivot_Energy\u001B[0m\u001B[0;34m.\u001B[0m\u001B[0mset_index\u001B[0m\u001B[0;34m(\u001B[0m\u001B[0;34m\"label\"\u001B[0m\u001B[0;34m,\u001B[0m \u001B[0mdrop\u001B[0m\u001B[0;34m=\u001B[0m\u001B[0;32mTrue\u001B[0m\u001B[0;34m,\u001B[0m\u001B[0minplace\u001B[0m\u001B[0;34m=\u001B[0m\u001B[0;32mTrue\u001B[0m\u001B[0;34m)\u001B[0m\u001B[0;34m\u001B[0m\u001B[0;34m\u001B[0m\u001B[0m\n\u001B[0m",
      "\u001B[0;32m~/PycharmProjects/NoSql_Data_Model/venv/lib/python3.8/site-packages/pyspark/sql/dataframe.py\u001B[0m in \u001B[0;36m__getattr__\u001B[0;34m(self, name)\u001B[0m\n\u001B[1;32m   1657\u001B[0m         \"\"\"\n\u001B[1;32m   1658\u001B[0m         \u001B[0;32mif\u001B[0m \u001B[0mname\u001B[0m \u001B[0;32mnot\u001B[0m \u001B[0;32min\u001B[0m \u001B[0mself\u001B[0m\u001B[0;34m.\u001B[0m\u001B[0mcolumns\u001B[0m\u001B[0;34m:\u001B[0m\u001B[0;34m\u001B[0m\u001B[0;34m\u001B[0m\u001B[0m\n\u001B[0;32m-> 1659\u001B[0;31m             raise AttributeError(\n\u001B[0m\u001B[1;32m   1660\u001B[0m                 \"'%s' object has no attribute '%s'\" % (self.__class__.__name__, name))\n\u001B[1;32m   1661\u001B[0m         \u001B[0mjc\u001B[0m \u001B[0;34m=\u001B[0m \u001B[0mself\u001B[0m\u001B[0;34m.\u001B[0m\u001B[0m_jdf\u001B[0m\u001B[0;34m.\u001B[0m\u001B[0mapply\u001B[0m\u001B[0;34m(\u001B[0m\u001B[0mname\u001B[0m\u001B[0;34m)\u001B[0m\u001B[0;34m\u001B[0m\u001B[0;34m\u001B[0m\u001B[0m\n",
      "\u001B[0;31mAttributeError\u001B[0m: 'DataFrame' object has no attribute 'set_index'"
     ]
    }
   ],
   "source": [
    "pivot_Energy.set_index(\"label\", drop=True,inplace=True)"
   ]
  },
  {
   "cell_type": "code",
   "execution_count": 69,
   "metadata": {},
   "outputs": [],
   "source": [
    "from numpy import array\n",
    "from math import sqrt\n",
    "\n",
    "from pyspark.mllib.clustering import KMeans, KMeansModel"
   ]
  },
  {
   "cell_type": "code",
   "execution_count": null,
   "metadata": {},
   "outputs": [],
   "source": []
  },
  {
   "cell_type": "code",
   "execution_count": 63,
   "metadata": {},
   "outputs": [
    {
     "ename": "NameError",
     "evalue": "name 'parsedData' is not defined",
     "output_type": "error",
     "traceback": [
      "\u001B[0;31m---------------------------------------------------------------------------\u001B[0m",
      "\u001B[0;31mNameError\u001B[0m                                 Traceback (most recent call last)",
      "\u001B[0;32m<ipython-input-63-04f63f318b1c>\u001B[0m in \u001B[0;36m<module>\u001B[0;34m\u001B[0m\n\u001B[1;32m      1\u001B[0m \u001B[0;31m# Build the model (cluster the data)\u001B[0m\u001B[0;34m\u001B[0m\u001B[0;34m\u001B[0m\u001B[0;34m\u001B[0m\u001B[0m\n\u001B[0;32m----> 2\u001B[0;31m \u001B[0mclusters\u001B[0m \u001B[0;34m=\u001B[0m \u001B[0mKMeans\u001B[0m\u001B[0;34m.\u001B[0m\u001B[0mtrain\u001B[0m\u001B[0;34m(\u001B[0m\u001B[0mparsedData\u001B[0m\u001B[0;34m,\u001B[0m \u001B[0;36m2\u001B[0m\u001B[0;34m,\u001B[0m \u001B[0mmaxIterations\u001B[0m\u001B[0;34m=\u001B[0m\u001B[0;36m10\u001B[0m\u001B[0;34m,\u001B[0m \u001B[0minitializationMode\u001B[0m\u001B[0;34m=\u001B[0m\u001B[0;34m\"random\"\u001B[0m\u001B[0;34m)\u001B[0m\u001B[0;34m\u001B[0m\u001B[0;34m\u001B[0m\u001B[0m\n\u001B[0m",
      "\u001B[0;31mNameError\u001B[0m: name 'parsedData' is not defined"
     ]
    }
   ],
   "source": [
    "# Build the model (cluster the data)\n",
    "clusters = KMeans.train(parsedData, 2, maxIterations=10, initializationMode=\"random\")"
   ]
  },
  {
   "cell_type": "code",
   "execution_count": null,
   "metadata": {},
   "outputs": [],
   "source": [
    "#first we aggregate in hours , in this data set we have every half hour so we sum every hour\n",
    "# In the Eveddent dataset we do not need to aggredate every hour\n",
    "df_all8=df5.groupby(\"id\",\"std\",\"year\",\"month\",\"date\",\"hour\").sum(\"kwh\")\n",
    "#make ne aggregation per data\n",
    "\n",
    "\n",
    "from pyspark.sql import functions as f\n",
    "\n",
    "#create agragate columns for one day avg/max.min/standard division and sum of energy \n",
    "df_all_statistics=df5.groupby(\"id\",\"std\",\"year\",\"month\",\"date\").agg(f.sum(\"kwh\"),f.avg(\"kwh\"),f.max(\"kwh\"),f.min(\"kwh\"),f.count(\"kwh\"),f.stddev_pop(\"kwh\"))\n"
   ]
  },
  {
   "cell_type": "code",
   "execution_count": 55,
   "metadata": {},
   "outputs": [
    {
     "data": {
      "text/plain": [
       "DataFrame[id: string, std: string, year: int, month: int, date: int, sum(kwh): double, avg(kwh): double, max(kwh): double, min(kwh): double, count(kwh): bigint, stddev_pop(kwh): double]"
      ]
     },
     "execution_count": 55,
     "metadata": {},
     "output_type": "execute_result"
    }
   ],
   "source": [
    "df_all_statistics"
   ]
  },
  {
   "cell_type": "code",
   "execution_count": 54,
   "metadata": {},
   "outputs": [
    {
     "ename": "NameError",
     "evalue": "name 'pivot_df' is not defined",
     "output_type": "error",
     "traceback": [
      "\u001B[0;31m---------------------------------------------------------------------------\u001B[0m",
      "\u001B[0;31mNameError\u001B[0m                                 Traceback (most recent call last)",
      "\u001B[0;32m<ipython-input-54-aadf8499d698>\u001B[0m in \u001B[0;36m<module>\u001B[0;34m\u001B[0m\n\u001B[0;32m----> 1\u001B[0;31m \u001B[0;32mfor\u001B[0m \u001B[0mi\u001B[0m \u001B[0;32min\u001B[0m \u001B[0mpivot_df\u001B[0m\u001B[0;34m.\u001B[0m\u001B[0mhead\u001B[0m\u001B[0;34m(\u001B[0m\u001B[0;36m5\u001B[0m\u001B[0;34m)\u001B[0m\u001B[0;34m:\u001B[0m\u001B[0;34m\u001B[0m\u001B[0;34m\u001B[0m\u001B[0m\n\u001B[0m\u001B[1;32m      2\u001B[0m     \u001B[0mprint\u001B[0m\u001B[0;34m(\u001B[0m\u001B[0mi\u001B[0m\u001B[0;34m)\u001B[0m\u001B[0;34m\u001B[0m\u001B[0;34m\u001B[0m\u001B[0m\n",
      "\u001B[0;31mNameError\u001B[0m: name 'pivot_df' is not defined"
     ]
    }
   ],
   "source": [
    "for i in pivot_df.head(5):\n",
    "    print(i)"
   ]
  },
  {
   "cell_type": "code",
   "execution_count": null,
   "metadata": {},
   "outputs": [],
   "source": [
    "#print the df\n",
    "df_all_statistics.head(5)"
   ]
  },
  {
   "cell_type": "code",
   "execution_count": null,
   "metadata": {},
   "outputs": [],
   "source": [
    "print(\"test\")"
   ]
  },
  {
   "cell_type": "code",
   "execution_count": null,
   "metadata": {},
   "outputs": [],
   "source": []
  },
  {
   "cell_type": "code",
   "execution_count": null,
   "metadata": {},
   "outputs": [],
   "source": [
    "#The previous print for better visual each row\n",
    "for i in df_all_statistics.head(5):\n",
    "    print(i)"
   ]
  },
  {
   "cell_type": "markdown",
   "metadata": {},
   "source": [
    "**df_all_statistics is the final dayly aggregation**"
   ]
  },
  {
   "cell_type": "code",
   "execution_count": null,
   "metadata": {},
   "outputs": [],
   "source": [
    "#df_all_statistics is the final dayly aggregation\n",
    "df_all_statistics.count()"
   ]
  },
  {
   "cell_type": "code",
   "execution_count": null,
   "metadata": {},
   "outputs": [],
   "source": [
    "print(\"Before casting\")\n",
    "df7.printSchema()\n",
    "\n",
    "\n"
   ]
  },
  {
   "cell_type": "code",
   "execution_count": null,
   "metadata": {},
   "outputs": [],
   "source": [
    "#df_all_hours=df_all8.withColumn(\"hours\",df_all8['hour'].cast('integer'))\n",
    "#print(\"After casting\")\n",
    "#df_all_hours.printSchema()\n",
    "pivot_df_all=df7.groupby(\"id\",\"year\",\"month\",\"date\").pivot(\"hour\").sum(\"kwh\")\n",
    "#dataset = pivot_df_all.groupby(\"id\",\"year\",\"month\",\"date\").sum(\"sum(kwh)\").avg(\"sum(kwh)\")(\"sum(kwh)\").min(\"sum(kwh)\").count(\"sum(kwh)\").std(\"sum(kwh)\")\n",
    "\n",
    "pivot_df_all.count()"
   ]
  },
  {
   "cell_type": "code",
   "execution_count": 73,
   "metadata": {},
   "outputs": [
    {
     "name": "stdout",
     "output_type": "stream",
     "text": [
      "+---------+----+-----+----+-------------------+-------------------+-------------------+-------------------+-------------------+-------------------+-------------------+-------------------+-------------------+------------------+-------------------+-------------------+-------------------+-------------------+-------------------+-------------------+-------------------+-------------------+-------------------+------------------+-------------------+-------------------+------------------+-------------------+\n",
      "|       id|year|month|date|                  0|                  1|                  2|                  3|                  4|                  5|                  6|                  7|                  8|                 9|                 10|                 11|                 12|                 13|                 14|                 15|                 16|                 17|                 18|                19|                 20|                 21|                22|                 23|\n",
      "+---------+----+-----+----+-------------------+-------------------+-------------------+-------------------+-------------------+-------------------+-------------------+-------------------+-------------------+------------------+-------------------+-------------------+-------------------+-------------------+-------------------+-------------------+-------------------+-------------------+-------------------+------------------+-------------------+-------------------+------------------+-------------------+\n",
      "|MAC000002|2012|   10|  12|                0.0|                0.0|                0.0|                0.0|                0.0|                0.0|                0.0|                0.0|                0.0|               0.0|                0.0|              0.143|              0.919|              0.354|0.29000000000000004|0.28800000000000003|0.29100000000000004|              0.847|0.42300000000000004|             1.413|              0.441|              0.535|             0.595| 0.5589999999999999|\n",
      "|MAC000002|2012|   10|  13|              0.532|              0.531|              0.347|               0.28|              0.276|              0.275|0.28300000000000003|0.28300000000000003|              0.252|             0.326|              1.848|               0.26|0.20900000000000002|0.20900000000000002|0.34800000000000003|              0.369|              0.308|              0.406|              0.648|1.1960000000000002|              0.506|              0.463|             0.423|              0.509|\n",
      "|MAC000002|2012|   10|  14|0.42800000000000005|              0.314|0.20800000000000002|0.20600000000000002|              0.199|              0.196|              0.197|              0.195|              0.238|             0.542|                0.6|              0.796|               0.45|              0.254|               0.28|0.23099999999999998|              0.256|0.46399999999999997|              1.471|2.0309999999999997| 1.5659999999999998| 1.2229999999999999|             0.441|0.43700000000000006|\n",
      "|MAC000002|2012|   10|  15|0.28900000000000003|0.22399999999999998|              0.202|0.20400000000000001|              0.202|                0.2|              0.199|              0.246| 1.1949999999999998|             0.269|0.20900000000000002|              0.628|              0.278|0.20500000000000002|0.20400000000000001|              0.203|               0.36|              0.955|              0.482|1.4129999999999998|              0.483| 0.5940000000000001|0.5349999999999999|              0.478|\n",
      "|MAC000002|2012|   10|  16|              0.474|              0.311|0.20500000000000002|              0.203|              0.196|              0.195|              0.195|              0.194|              0.244|              0.51|0.21600000000000003|                0.5|              1.181|              0.431|0.20700000000000002|              0.206|              0.368|              0.488| 0.7130000000000001|             1.138|0.42000000000000004|0.41400000000000003|             0.401|              0.359|\n",
      "|MAC000002|2012|   10|  17|              0.368|              0.324|0.21800000000000003|              0.202|              0.199|              0.198|              0.197|              0.191|               0.25|             0.986|              1.465|              1.342|              0.617|0.20500000000000002|0.20800000000000002|              0.203|              0.363|              0.348|              0.475|             0.298|              0.438|              0.642|0.6040000000000001|              0.544|\n",
      "|MAC000002|2012|   10|  18| 0.5469999999999999| 0.5289999999999999|0.28600000000000003|              0.277|              0.275|              0.272|              0.267|              0.267|0.31799999999999995|0.5529999999999999|              0.384|              0.505|              0.264|              0.271|              0.271|               0.27|              0.267|              0.379|              0.297|             1.229|              1.491|              0.833|             0.371|              0.328|\n",
      "|MAC000002|2012|   10|  19|              0.319|              0.287|0.21000000000000002|0.20700000000000002|0.20500000000000002|0.21000000000000002|              0.211|0.21100000000000002|               0.39|             0.387|              0.202|                0.2|              0.198|              0.198|              0.331|0.21200000000000002|               0.39|              0.515|               0.44|             0.531|              1.144|              0.509|             0.495|              0.429|\n",
      "|MAC000002|2012|   10|  20|              0.629|0.40900000000000003|              0.319|              0.217|              0.215|              0.214|              0.213|0.21300000000000002|0.21000000000000002|             0.263|              0.337|              1.303| 1.3860000000000001|              0.468|0.32599999999999996|              0.561|               1.02|              1.581|          2.3619999|             1.141|              1.267|              1.147|0.9650000000000001|              0.812|\n",
      "|MAC000002|2012|   10|  21|              0.738| 0.7130000000000001|              0.655|               0.54|              0.538|              0.518|              0.518|              0.627| 0.5329999999999999|              0.65|              0.788|              1.151|               0.97| 0.7889999999999999|              1.017|              0.778|               1.23|              1.667| 3.4450000999999997|             1.549| 1.5739999999999998|              1.716|0.9500000000000001| 0.8360000000000001|\n",
      "|MAC000002|2012|   10|  22| 0.8320000000000001|              0.653| 0.6579999999999999|              0.659|              0.858|              0.855|              0.856|              0.907|              1.234|             0.976|               0.54|              0.493|               0.28|0.22899999999999998|               0.22|              0.823|              1.094|              1.109|               1.26|              1.41|              0.723| 1.0979999999999999|             0.587|              0.531|\n",
      "|MAC000002|2012|   10|  23|              0.372|0.33599999999999997|0.22999999999999998|0.21699999999999997|0.21300000000000002|0.21300000000000002|0.21500000000000002|              0.215|              0.373|             0.694|0.20400000000000001|0.20600000000000002|              0.643|              0.333|              0.379|              0.633|              0.477|0.33499999999999996|0.34199999999999997|              0.63|                1.0|              1.167|             0.647|0.41100000000000003|\n",
      "|MAC000002|2012|   10|  24|              0.372|              0.368|              0.219|0.21400000000000002|0.20400000000000001|0.20400000000000001|              0.238|              0.309| 0.8220000000000001|1.1219999999999999|              0.424|              0.323|              1.048|              0.383|              0.227|              0.202|0.41300000000000003|               0.39|               1.01|         2.6850001| 1.3599999999999999| 1.2839999999999998|             1.189| 0.5269999999999999|\n",
      "|MAC000002|2012|   10|  25|              0.485|0.29600000000000004|              0.227|              0.219|              0.217|0.21300000000000002|              0.201|              0.198|              0.402|             1.112|              1.347|              1.287|              0.296|0.30000000000000004|              0.258|              0.312|              0.299|0.41500000000000004|              0.815|0.7969999999999999|              0.538|              1.028|0.9590000000000001|              0.907|\n",
      "|MAC000002|2012|   10|  26|              0.442|              0.238|              0.223|0.21999999999999997|0.21500000000000002|0.20800000000000002|0.20700000000000002|              0.331|              0.605|1.0390000000000001|              0.385|0.21600000000000003|              0.279|              0.201|              0.199|              0.349|              0.572|              1.058|              1.544|             1.508| 1.5419999999999998|              1.037|             1.189|              1.258|\n",
      "|MAC000002|2012|   10|  27|              1.068| 0.8720000000000001|              0.309|0.21200000000000002|              0.212|0.20900000000000002|0.20800000000000002|              0.206|              0.269|0.8009999999999999|              1.155|              0.401|              0.267|              0.922| 0.7929999999999999|              1.296| 0.5700000000000001| 0.6759999999999999| 0.6890000000000001|             1.783|              1.266|              0.847|             0.875|               0.98|\n",
      "|MAC000002|2012|   10|  28|              0.872|              0.759| 0.7549999999999999|              0.399|0.32399999999999995|0.20800000000000002|              0.201|              0.199|              0.568|             1.076|              0.883| 0.8719999999999999|              1.009|              0.585|0.46699999999999997|0.31599999999999995|               0.28|0.29500000000000004|              0.394|             0.942|              2.269|          2.0199999|             1.959|              1.977|\n",
      "|MAC000002|2012|   10|  29| 0.8089999999999999|              0.539|               0.33|0.21000000000000002|              0.201|              0.199|              0.197|              0.195|              0.607|             1.163|0.20600000000000002|              0.196|              0.236|              0.645|              1.903|              0.249|              0.247|              0.291|              0.592|             0.485|              1.284|              0.491|             0.639|              0.865|\n",
      "|MAC000002|2012|   10|  30| 1.1560000000000001|              0.756|              0.579|              0.276|0.21200000000000002|0.20400000000000001|                0.2|              0.313|              0.637|             0.793|              0.216|0.21000000000000002|              0.206|0.20400000000000001| 0.6839999999999999|              0.235|              0.198|               0.45|              1.045|             0.469|              1.194| 1.5470000000000002|             1.055| 1.1219999999999999|\n",
      "|MAC000002|2012|   10|  31|              1.074| 0.8959999999999999| 0.5409999999999999|              0.511|               0.25|              0.218|              0.218|0.21700000000000003|              0.302|             0.532|              1.234|              2.268| 0.7050000000000001|               1.04|              0.357|              0.325|0.31499999999999995|              0.471|              0.868|             0.637| 0.7010000000000001| 2.3960000999999997|             1.251|              0.495|\n",
      "+---------+----+-----+----+-------------------+-------------------+-------------------+-------------------+-------------------+-------------------+-------------------+-------------------+-------------------+------------------+-------------------+-------------------+-------------------+-------------------+-------------------+-------------------+-------------------+-------------------+-------------------+------------------+-------------------+-------------------+------------------+-------------------+\n",
      "only showing top 20 rows\n",
      "\n"
     ]
    }
   ],
   "source": [
    "pivot_df_all.show()"
   ]
  },
  {
   "cell_type": "code",
   "execution_count": null,
   "metadata": {},
   "outputs": [],
   "source": [
    "#pivot_df is the final dayly dataset with data schema"
   ]
  },
  {
   "cell_type": "code",
   "execution_count": null,
   "metadata": {},
   "outputs": [],
   "source": [
    "pivot_df_all.print"
   ]
  },
  {
   "cell_type": "code",
   "execution_count": null,
   "metadata": {},
   "outputs": [],
   "source": [
    "#moreover the pivot dayly has the hourly energy consumtin at coloums and there is a coloumn with the total energy consumtion"
   ]
  },
  {
   "cell_type": "code",
   "execution_count": null,
   "metadata": {},
   "outputs": [],
   "source": []
  },
  {
   "cell_type": "code",
   "execution_count": 45,
   "metadata": {
    "pycharm": {
     "is_executing": true
    }
   },
   "outputs": [],
   "source": [
    "from pyspark_dist_explore import hist\n",
    "import matplotlib.pyplot as plt\n",
    "\n",
    "\n",
    "import pandas as pd\n",
    "\n",
    "from datetime import datetime\n",
    "import calendar\n",
    "import warnings\n",
    "warnings.filterwarnings(\"ignore\")\n"
   ]
  },
  {
   "cell_type": "code",
   "execution_count": 46,
   "metadata": {
    "pycharm": {
     "is_executing": true
    }
   },
   "outputs": [],
   "source": [
    "\n",
    "# Reading Household info data\n",
    "df_houtio sehold = pd.read_csv(\"data/add/informations_households.csv\", encoding=\"utf-8\")\n",
    "\n",
    "#household convert spark  dataframe\n",
    "householdd=spark.createDataFrame(df_household)"
   ]
  },
  {
   "cell_type": "code",
   "execution_count": 47,
   "metadata": {},
   "outputs": [],
   "source": [
    "df_4=df3.withColumn(\"kwh\", df3.kwh.cast('double'))\n",
    "#Join two DataSet\n",
    "df4=df3.join(householdd, df3.id == householdd.LCLid, 'left')\n",
    "\n",
    "df5=df4.withColumn(\"kwh\", df4.kwh.cast('double'))\n",
    "\n",
    "dff_2012=df5.filter(df5.year=='2012')\n",
    "dff_2013=df5.filter(df5.year=='2013')\n",
    "dff_2014=df5.filter(df5.year=='2014')\n"
   ]
  },
  {
   "cell_type": "code",
   "execution_count": 48,
   "metadata": {},
   "outputs": [],
   "source": [
    "\n",
    "\n",
    "\n",
    "df8_hours=dff_2012.withColumn(\"hours\",dff_2012['hour'].cast('integer'))\n",
    "\n",
    "\n",
    "Energy_Total2012 = dff_2012.groupby(\"year\").sum(\"kwh\")\n"
   ]
  },
  {
   "cell_type": "code",
   "execution_count": 49,
   "metadata": {},
   "outputs": [],
   "source": [
    "\n",
    "#aggragate function and hours cosumtion at coloumns\n",
    "pivot_df_2012 = df_4.groupby(\"id\",\"year\",\"month\",\"date\").pivot(\"hour\").sum(\"kwh\")\n",
    "\n",
    "pd.set_option('display.float_format', lambda x: '%.5f' % x)\n"
   ]
  },
  {
   "cell_type": "code",
   "execution_count": 72,
   "metadata": {},
   "outputs": [
    {
     "data": {
      "text/html": [
       "<div>\n",
       "<style scoped>\n",
       "    .dataframe tbody tr th:only-of-type {\n",
       "        vertical-align: middle;\n",
       "    }\n",
       "\n",
       "    .dataframe tbody tr th {\n",
       "        vertical-align: top;\n",
       "    }\n",
       "\n",
       "    .dataframe thead th {\n",
       "        text-align: right;\n",
       "    }\n",
       "</style>\n",
       "<table border=\"1\" class=\"dataframe\">\n",
       "  <thead>\n",
       "    <tr style=\"text-align: right;\">\n",
       "      <th></th>\n",
       "      <th>month</th>\n",
       "      <th>sum(kwh)</th>\n",
       "    </tr>\n",
       "  </thead>\n",
       "  <tbody>\n",
       "    <tr>\n",
       "      <th>0</th>\n",
       "      <td>1</td>\n",
       "      <td>187845.99499</td>\n",
       "    </tr>\n",
       "    <tr>\n",
       "      <th>1</th>\n",
       "      <td>2</td>\n",
       "      <td>280490.43099</td>\n",
       "    </tr>\n",
       "    <tr>\n",
       "      <th>2</th>\n",
       "      <td>3</td>\n",
       "      <td>354919.33499</td>\n",
       "    </tr>\n",
       "    <tr>\n",
       "      <th>3</th>\n",
       "      <td>4</td>\n",
       "      <td>497697.70101</td>\n",
       "    </tr>\n",
       "    <tr>\n",
       "      <th>4</th>\n",
       "      <td>5</td>\n",
       "      <td>803443.58199</td>\n",
       "    </tr>\n",
       "    <tr>\n",
       "      <th>5</th>\n",
       "      <td>6</td>\n",
       "      <td>1011463.46600</td>\n",
       "    </tr>\n",
       "    <tr>\n",
       "      <th>6</th>\n",
       "      <td>7</td>\n",
       "      <td>1188737.91597</td>\n",
       "    </tr>\n",
       "    <tr>\n",
       "      <th>7</th>\n",
       "      <td>8</td>\n",
       "      <td>1195059.26099</td>\n",
       "    </tr>\n",
       "    <tr>\n",
       "      <th>8</th>\n",
       "      <td>9</td>\n",
       "      <td>1274225.74199</td>\n",
       "    </tr>\n",
       "    <tr>\n",
       "      <th>9</th>\n",
       "      <td>10</td>\n",
       "      <td>1671514.69801</td>\n",
       "    </tr>\n",
       "    <tr>\n",
       "      <th>10</th>\n",
       "      <td>11</td>\n",
       "      <td>1900102.99995</td>\n",
       "    </tr>\n",
       "    <tr>\n",
       "      <th>11</th>\n",
       "      <td>12</td>\n",
       "      <td>2129816.48496</td>\n",
       "    </tr>\n",
       "  </tbody>\n",
       "</table>\n",
       "</div>"
      ],
      "text/plain": [
       "    month      sum(kwh)\n",
       "0       1  187845.99499\n",
       "1       2  280490.43099\n",
       "2       3  354919.33499\n",
       "3       4  497697.70101\n",
       "4       5  803443.58199\n",
       "5       6 1011463.46600\n",
       "6       7 1188737.91597\n",
       "7       8 1195059.26099\n",
       "8       9 1274225.74199\n",
       "9      10 1671514.69801\n",
       "10     11 1900102.99995\n",
       "11     12 2129816.48496"
      ]
     },
     "execution_count": 72,
     "metadata": {},
     "output_type": "execute_result"
    }
   ],
   "source": [
    "Energy_Months2012"
   ]
  },
  {
   "cell_type": "code",
   "execution_count": 50,
   "metadata": {
    "pycharm": {
     "name": "#%%\n"
    }
   },
   "outputs": [
    {
     "data": {
      "text/plain": [
       "<AxesSubplot:ylabel='month'>"
      ]
     },
     "execution_count": 50,
     "metadata": {},
     "output_type": "execute_result"
    },
    {
     "data": {
      "image/png": "[encoded data removed]",
      "text/plain": [
       "<Figure size 432x288 with 1 Axes>"
      ]
     },
     "metadata": {
      "needs_background": "light"
     },
     "output_type": "display_data"
    }
   ],
   "source": [
    "Energy_Months2012 = dff_2012.groupby(\"month\").sum(\"kwh\").orderBy(\"month\").toPandas()\n",
    "\n",
    "Energy_Months2012.plot(kind='barh',x='month',y='sum(kwh)',colormap='winter_r')\n",
    "\n",
    "\n"
   ]
  },
  {
   "cell_type": "code",
   "execution_count": null,
   "metadata": {},
   "outputs": [],
   "source": []
  },
  {
   "cell_type": "code",
   "execution_count": null,
   "metadata": {},
   "outputs": [],
   "source": []
  },
  {
   "cell_type": "code",
   "execution_count": 51,
   "metadata": {},
   "outputs": [],
   "source": [
    "plt.show()\n"
   ]
  },
  {
   "cell_type": "code",
   "execution_count": 60,
   "metadata": {},
   "outputs": [
    {
     "data": {
      "text/html": [
       "<div>\n",
       "<style scoped>\n",
       "    .dataframe tbody tr th:only-of-type {\n",
       "        vertical-align: middle;\n",
       "    }\n",
       "\n",
       "    .dataframe tbody tr th {\n",
       "        vertical-align: top;\n",
       "    }\n",
       "\n",
       "    .dataframe thead th {\n",
       "        text-align: right;\n",
       "    }\n",
       "</style>\n",
       "<table border=\"1\" class=\"dataframe\">\n",
       "  <thead>\n",
       "    <tr style=\"text-align: right;\">\n",
       "      <th></th>\n",
       "      <th>month</th>\n",
       "      <th>sum(kwh)</th>\n",
       "    </tr>\n",
       "  </thead>\n",
       "  <tbody>\n",
       "    <tr>\n",
       "      <th>0</th>\n",
       "      <td>1</td>\n",
       "      <td>187845.99499</td>\n",
       "    </tr>\n",
       "    <tr>\n",
       "      <th>1</th>\n",
       "      <td>2</td>\n",
       "      <td>280490.43099</td>\n",
       "    </tr>\n",
       "    <tr>\n",
       "      <th>2</th>\n",
       "      <td>3</td>\n",
       "      <td>354919.33499</td>\n",
       "    </tr>\n",
       "    <tr>\n",
       "      <th>3</th>\n",
       "      <td>4</td>\n",
       "      <td>497697.70101</td>\n",
       "    </tr>\n",
       "    <tr>\n",
       "      <th>4</th>\n",
       "      <td>5</td>\n",
       "      <td>803443.58199</td>\n",
       "    </tr>\n",
       "    <tr>\n",
       "      <th>5</th>\n",
       "      <td>6</td>\n",
       "      <td>1011463.46600</td>\n",
       "    </tr>\n",
       "    <tr>\n",
       "      <th>6</th>\n",
       "      <td>7</td>\n",
       "      <td>1188737.91597</td>\n",
       "    </tr>\n",
       "    <tr>\n",
       "      <th>7</th>\n",
       "      <td>8</td>\n",
       "      <td>1195059.26099</td>\n",
       "    </tr>\n",
       "    <tr>\n",
       "      <th>8</th>\n",
       "      <td>9</td>\n",
       "      <td>1274225.74199</td>\n",
       "    </tr>\n",
       "    <tr>\n",
       "      <th>9</th>\n",
       "      <td>10</td>\n",
       "      <td>1671514.69801</td>\n",
       "    </tr>\n",
       "    <tr>\n",
       "      <th>10</th>\n",
       "      <td>11</td>\n",
       "      <td>1900102.99995</td>\n",
       "    </tr>\n",
       "    <tr>\n",
       "      <th>11</th>\n",
       "      <td>12</td>\n",
       "      <td>2129816.48496</td>\n",
       "    </tr>\n",
       "  </tbody>\n",
       "</table>\n",
       "</div>"
      ],
      "text/plain": [
       "    month      sum(kwh)\n",
       "0       1  187845.99499\n",
       "1       2  280490.43099\n",
       "2       3  354919.33499\n",
       "3       4  497697.70101\n",
       "4       5  803443.58199\n",
       "5       6 1011463.46600\n",
       "6       7 1188737.91597\n",
       "7       8 1195059.26099\n",
       "8       9 1274225.74199\n",
       "9      10 1671514.69801\n",
       "10     11 1900102.99995\n",
       "11     12 2129816.48496"
      ]
     },
     "execution_count": 60,
     "metadata": {},
     "output_type": "execute_result"
    }
   ],
   "source": [
    "Energy_Months2012[\"month\"]\n"
   ]
  },
  {
   "cell_type": "code",
   "execution_count": 37,
   "metadata": {},
   "outputs": [
    {
     "ename": "NameError",
     "evalue": "name 'Energy_Months2012' is not defined",
     "output_type": "error",
     "traceback": [
      "\u001B[0;31m---------------------------------------------------------------------------\u001B[0m",
      "\u001B[0;31mNameError\u001B[0m                                 Traceback (most recent call last)",
      "\u001B[0;32m<ipython-input-37-915aa2f22fed>\u001B[0m in \u001B[0;36m<module>\u001B[0;34m\u001B[0m\n\u001B[0;32m----> 1\u001B[0;31m \u001B[0mplt\u001B[0m\u001B[0;34m.\u001B[0m\u001B[0mscatter\u001B[0m\u001B[0;34m(\u001B[0m\u001B[0mEnergy_Months2012\u001B[0m\u001B[0;34m[\u001B[0m\u001B[0;34m\"month\"\u001B[0m\u001B[0;34m]\u001B[0m\u001B[0;34m,\u001B[0m\u001B[0mEnergy_Months2012\u001B[0m\u001B[0;34m[\u001B[0m\u001B[0;34m\"month\"\u001B[0m\u001B[0;34m]\u001B[0m\u001B[0;34m)\u001B[0m\u001B[0;34m\u001B[0m\u001B[0;34m\u001B[0m\u001B[0m\n\u001B[0m\u001B[1;32m      2\u001B[0m \u001B[0mplt\u001B[0m\u001B[0;34m.\u001B[0m\u001B[0mxlim\u001B[0m\u001B[0;34m(\u001B[0m\u001B[0;34m-\u001B[0m\u001B[0;36m1\u001B[0m\u001B[0;34m,\u001B[0m\u001B[0;36m25\u001B[0m\u001B[0;34m)\u001B[0m\u001B[0;34m;\u001B[0m\u001B[0;34m\u001B[0m\u001B[0;34m\u001B[0m\u001B[0m\n",
      "\u001B[0;31mNameError\u001B[0m: name 'Energy_Months2012' is not defined"
     ]
    }
   ],
   "source": []
  },
  {
   "cell_type": "code",
   "execution_count": 61,
   "metadata": {},
   "outputs": [
    {
     "data": {
      "text/plain": [
       "0     187845.99499\n",
       "1     280490.43099\n",
       "2     354919.33499\n",
       "3     497697.70101\n",
       "4     803443.58199\n",
       "5    1011463.46600\n",
       "6    1188737.91597\n",
       "7    1195059.26099\n",
       "8    1274225.74199\n",
       "9    1671514.69801\n",
       "10   1900102.99995\n",
       "11   2129816.48496\n",
       "Name: sum(kwh), dtype: float64"
      ]
     },
     "execution_count": 61,
     "metadata": {},
     "output_type": "execute_result"
    }
   ],
   "source": [
    "Energy_Months2012[\"sum(kwh)\"]"
   ]
  },
  {
   "cell_type": "code",
   "execution_count": 62,
   "metadata": {},
   "outputs": [],
   "source": [
    "def f(t):\n",
    "    return np.exp(-t) * np.cos(2*np.pi*t)"
   ]
  },
  {
   "cell_type": "code",
   "execution_count": 65,
   "metadata": {},
   "outputs": [
    {
     "data": {
      "text/plain": [
       "[<matplotlib.lines.Line2D at 0x7f50c629fdc0>,\n",
       " <matplotlib.lines.Line2D at 0x7f50c629fc40>]"
      ]
     },
     "execution_count": 65,
     "metadata": {},
     "output_type": "execute_result"
    },
    {
     "data": {
      "image/png": "[encoded data removed]",
      "text/plain": [
       "<Figure size 432x288 with 1 Axes>"
      ]
     },
     "metadata": {
      "needs_background": "light"
     },
     "output_type": "display_data"
    }
   ],
   "source": [
    "plt.figure()\n",
    "plt.subplot(211)\n",
    "plt.plot(Energy_Months2012[\"sum(kwh)\"], f(Energy_Months2012[\"sum(kwh)\"]), 'bo', Energy_Months2012[\"month\"], f(Energy_Months2012[\"month\"]), 'k')"
   ]
  },
  {
   "cell_type": "code",
   "execution_count": 66,
   "metadata": {},
   "outputs": [
    {
     "data": {
      "image/png": "[encoded data removed]",
      "text/plain": [
       "<Figure size 432x288 with 1 Axes>"
      ]
     },
     "metadata": {
      "needs_background": "light"
     },
     "output_type": "display_data"
    }
   ],
   "source": [
    "plt.subplot(212)\n",
    "plt.plot(Energy_Months2012[\"sum(kwh)\"], np.cos(2*np.pi*Energy_Months2012[\"sum(kwh)\"]), 'r--')\n",
    "plt.show()"
   ]
  },
  {
   "cell_type": "code",
   "execution_count": 67,
   "metadata": {},
   "outputs": [
    {
     "data": {
      "text/plain": [
       "<AxesSubplot:xlabel='month'>"
      ]
     },
     "execution_count": 67,
     "metadata": {},
     "output_type": "execute_result"
    },
    {
     "data": {
      "image/png": "[encoded data removed]",
      "text/plain": [
       "<Figure size 432x288 with 1 Axes>"
      ]
     },
     "metadata": {
      "needs_background": "light"
     },
     "output_type": "display_data"
    }
   ],
   "source": [
    "Energy_Months2012.plot(kind='line',x='month',y='sum(kwh)',colormap='winter_r')"
   ]
  },
  {
   "cell_type": "code",
   "execution_count": null,
   "metadata": {},
   "outputs": [],
   "source": [
    "k"
   ]
  }
 ],
 "metadata": {
  "kernelspec": {
   "display_name": "Python 3.8.5 64-bit ('venv': venv)",
   "language": "python",
   "name": "python385jvsc74a57bd0ed4335d6cbe1b4beeab2279141ac2539677c122e695ba2529d61d5b04ad0c51b"
  },
  "language_info": {
   "codemirror_mode": {
    "name": "ipython",
    "version": 3
   },
   "file_extension": ".py",
   "mimetype": "text/x-python",
   "name": "python",
   "nbconvert_exporter": "python",
   "pygments_lexer": "ipython3",
   "version": "3.8.10"
  }
 },
 "nbformat": 4,
 "nbformat_minor": 4
}